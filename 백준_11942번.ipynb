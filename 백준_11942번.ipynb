{
  "nbformat": 4,
  "nbformat_minor": 0,
  "metadata": {
    "colab": {
      "name": "백준 11942번",
      "provenance": [],
      "collapsed_sections": [],
      "authorship_tag": "ABX9TyPwgwSWDlUl7FhdxO+OCYsF",
      "include_colab_link": true
    },
    "kernelspec": {
      "name": "python3",
      "display_name": "Python 3"
    },
    "language_info": {
      "name": "python"
    }
  },
  "cells": [
    {
      "cell_type": "markdown",
      "metadata": {
        "id": "view-in-github",
        "colab_type": "text"
      },
      "source": [
        "<a href=\"https://colab.research.google.com/github/max1496/algorithm/blob/master/%EB%B0%B1%EC%A4%80_11942%EB%B2%88.ipynb\" target=\"_parent\"><img src=\"https://colab.research.google.com/assets/colab-badge.svg\" alt=\"Open In Colab\"/></a>"
      ]
    },
    {
      "cell_type": "code",
      "execution_count": null,
      "metadata": {
        "id": "NI9W9KLQZTBb"
      },
      "outputs": [],
      "source": [
        "a,b = map(int, input().split())\n",
        "if a>b:\n",
        "    print(a-b)\n",
        "else:\n",
        "    print(b-a)"
      ]
    }
  ]
}