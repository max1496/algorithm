{
  "nbformat": 4,
  "nbformat_minor": 0,
  "metadata": {
    "colab": {
      "name": "백준 3053번",
      "provenance": [],
      "collapsed_sections": [],
      "authorship_tag": "ABX9TyOn3nk/wGwtg6FWMdS5rgXd",
      "include_colab_link": true
    },
    "kernelspec": {
      "name": "python3",
      "display_name": "Python 3"
    },
    "language_info": {
      "name": "python"
    }
  },
  "cells": [
    {
      "cell_type": "markdown",
      "metadata": {
        "id": "view-in-github",
        "colab_type": "text"
      },
      "source": [
        "<a href=\"https://colab.research.google.com/github/max1496/algorithm/blob/master/%EB%B0%B1%EC%A4%80_3053%EB%B2%88.ipynb\" target=\"_parent\"><img src=\"https://colab.research.google.com/assets/colab-badge.svg\" alt=\"Open In Colab\"/></a>"
      ]
    },
    {
      "cell_type": "code",
      "execution_count": 1,
      "metadata": {
        "colab": {
          "base_uri": "https://localhost:8080/"
        },
        "id": "NsZc_3ckEweU",
        "outputId": "90a0af86-a9be-4e5a-9984-588b94937ef2"
      },
      "outputs": [
        {
          "output_type": "stream",
          "name": "stdout",
          "text": [
            "1\n",
            "3.141592653589793\n",
            "2\n"
          ]
        }
      ],
      "source": [
        "import math\n",
        "r = int(input())\n",
        "print(r*r*math.pi)\n",
        "print(r*r*2)\n"
      ]
    }
  ]
}