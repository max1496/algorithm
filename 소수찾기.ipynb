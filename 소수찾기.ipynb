{
  "nbformat": 4,
  "nbformat_minor": 0,
  "metadata": {
    "colab": {
      "name": "소수찾기.ipynb",
      "provenance": [],
      "collapsed_sections": [],
      "authorship_tag": "ABX9TyPypKFz0J5MbrAbrgbJUabH"
    },
    "kernelspec": {
      "name": "python3",
      "display_name": "Python 3"
    },
    "language_info": {
      "name": "python"
    }
  },
  "cells": [
    {
      "cell_type": "markdown",
      "source": [
        "에라토스테네스의 체를 이용하는 문제. 모든 수를 소수라 하고 소수를 1로 a배열에 저장해두고\n",
        "\n",
        "소수의 배수들은 모두 소수가 아니다라는 개념을 이용한 dp.\n",
        "\n",
        "소수를 1로 둬서 소수의 개수를 찾기도 쉽다. "
      ],
      "metadata": {
        "id": "AGqgDrga9Y5s"
      }
    },
    {
      "cell_type": "code",
      "execution_count": null,
      "metadata": {
        "id": "sDD6bQYM9EeU"
      },
      "outputs": [],
      "source": [
        "def solution(n):\n",
        "    answer = 0\n",
        "    a=[1]*(n+1)        # 소수면 1\n",
        "    a[0]=0\n",
        "    a[1]=0\n",
        "    for i in range(2,n+1):\n",
        "        if a[i]==0:\n",
        "            continue\n",
        "        for j in range(2,n//i+1):\n",
        "            a[i*j]=0\n",
        "             \n",
        "    answer = sum(a)     #소수 개수의 총합\n",
        "        \n",
        "    return answer"
      ]
    }
  ]
}