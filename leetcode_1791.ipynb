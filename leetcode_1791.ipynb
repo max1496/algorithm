{
  "nbformat": 4,
  "nbformat_minor": 0,
  "metadata": {
    "colab": {
      "name": "leetcode 1791.ipynb",
      "provenance": [],
      "collapsed_sections": [],
      "authorship_tag": "ABX9TyNJMSPkHpeVhS0CZa3+8FhZ"
    },
    "kernelspec": {
      "name": "python3",
      "display_name": "Python 3"
    },
    "language_info": {
      "name": "python"
    }
  },
  "cells": [
    {
      "cell_type": "markdown",
      "source": [
        "별모양 그래프의 중심을 찾는 문제.\n",
        "\n",
        "한 노드와 모든 노드가 연결돼 있으므로 그 노드를 찾으면 된다.\n",
        "\n",
        "그 노드는 반드시 선분에 포함돼 있으므로 edges[0]과 edges[1]만 비교해 보더라도\n",
        "\n",
        "엣지들에서 공통되는 노드가 중심 노드이다.\n",
        "\n"
      ],
      "metadata": {
        "id": "1Mdsjah4bY-W"
      }
    },
    {
      "cell_type": "code",
      "execution_count": null,
      "metadata": {
        "id": "KfTlwVcXrMg7"
      },
      "outputs": [],
      "source": [
        "class Solution:\n",
        "    def findCenter(self, edges: List[List[int]]) -> int:\n",
        "        if edges[0][0]==edges[1][0] or edges[0][0]==edges[1][1]:\n",
        "            return edges[0][0] \n",
        "        return edges[0][1]"
      ]
    }
  ]
}