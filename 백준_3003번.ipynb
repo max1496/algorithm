{
  "nbformat": 4,
  "nbformat_minor": 0,
  "metadata": {
    "colab": {
      "name": "백준 3003번",
      "provenance": [],
      "collapsed_sections": [],
      "authorship_tag": "ABX9TyPiZ+jFTYSx3Eo+AC8TKNHu",
      "include_colab_link": true
    },
    "kernelspec": {
      "name": "python3",
      "display_name": "Python 3"
    },
    "language_info": {
      "name": "python"
    }
  },
  "cells": [
    {
      "cell_type": "markdown",
      "metadata": {
        "id": "view-in-github",
        "colab_type": "text"
      },
      "source": [
        "<a href=\"https://colab.research.google.com/github/max1496/algorithm/blob/master/%EB%B0%B1%EC%A4%80_3003%EB%B2%88.ipynb\" target=\"_parent\"><img src=\"https://colab.research.google.com/assets/colab-badge.svg\" alt=\"Open In Colab\"/></a>"
      ]
    },
    {
      "cell_type": "code",
      "execution_count": 1,
      "metadata": {
        "colab": {
          "base_uri": "https://localhost:8080/"
        },
        "id": "iMMr0WrwAPA3",
        "outputId": "e0b7ec5b-cd54-4ece-9b87-d3a8511e2bcc"
      },
      "outputs": [
        {
          "output_type": "stream",
          "name": "stdout",
          "text": [
            "0 1 2 2 2 7\n",
            "1 0 0 0 0 1\n"
          ]
        }
      ],
      "source": [
        "arr = [1,1,2,2,2,8]\n",
        "a= list(map(int, input().split()))\n",
        "k=[]\n",
        "for i in range(len(arr)):\n",
        "    k.append(arr[i]-a[i])\n",
        "print(*k)"
      ]
    }
  ]
}