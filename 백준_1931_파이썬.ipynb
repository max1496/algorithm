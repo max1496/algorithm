{
  "nbformat": 4,
  "nbformat_minor": 0,
  "metadata": {
    "colab": {
      "name": "백준 1931 파이썬",
      "provenance": [],
      "collapsed_sections": [],
      "authorship_tag": "ABX9TyOcuNlBG9Jk5bVu4w5nD6YI",
      "include_colab_link": true
    },
    "kernelspec": {
      "name": "python3",
      "display_name": "Python 3"
    },
    "language_info": {
      "name": "python"
    }
  },
  "cells": [
    {
      "cell_type": "markdown",
      "metadata": {
        "id": "view-in-github",
        "colab_type": "text"
      },
      "source": [
        "<a href=\"https://colab.research.google.com/github/max1496/algorithm/blob/master/%EB%B0%B1%EC%A4%80_1931_%ED%8C%8C%EC%9D%B4%EC%8D%AC.ipynb\" target=\"_parent\"><img src=\"https://colab.research.google.com/assets/colab-badge.svg\" alt=\"Open In Colab\"/></a>"
      ]
    },
    {
      "cell_type": "code",
      "execution_count": 6,
      "metadata": {
        "colab": {
          "base_uri": "https://localhost:8080/"
        },
        "id": "y0D1h4GWIJOl",
        "outputId": "56696db7-d512-4fc5-b916-654e6865afdd"
      },
      "outputs": [
        {
          "output_type": "stream",
          "name": "stdout",
          "text": [
            "2\n",
            "0 1\n",
            "1 2\n",
            "2\n"
          ]
        }
      ],
      "source": [
        "n=int(input())\n",
        "a=[]\n",
        "for _ in range(n):\n",
        "    a.append(list(map(int,input().split())))\n",
        "a.sort(key=lambda x:(x[1],x[0]))\n",
        "end=a[0][1]\n",
        "cnt=1\n",
        "for i in range(1,n):\n",
        "    if a[i][0]>=end:\n",
        "        end = a[i][1]\n",
        "        cnt+=1\n",
        "      \n",
        "print(cnt)"
      ]
    }
  ]
}