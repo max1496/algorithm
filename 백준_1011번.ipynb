{
  "nbformat": 4,
  "nbformat_minor": 0,
  "metadata": {
    "colab": {
      "name": "백준 1011번",
      "provenance": [],
      "collapsed_sections": [],
      "authorship_tag": "ABX9TyM9Bqo5qxqcFRX+GyObmATt",
      "include_colab_link": true
    },
    "kernelspec": {
      "name": "python3",
      "display_name": "Python 3"
    },
    "language_info": {
      "name": "python"
    }
  },
  "cells": [
    {
      "cell_type": "markdown",
      "metadata": {
        "id": "view-in-github",
        "colab_type": "text"
      },
      "source": [
        "<a href=\"https://colab.research.google.com/github/max1496/algorithm/blob/master/%EB%B0%B1%EC%A4%80_1011%EB%B2%88.ipynb\" target=\"_parent\"><img src=\"https://colab.research.google.com/assets/colab-badge.svg\" alt=\"Open In Colab\"/></a>"
      ]
    },
    {
      "cell_type": "code",
      "execution_count": null,
      "metadata": {
        "id": "AhNEHuhg0tqc"
      },
      "outputs": [],
      "source": [
        "t=int(input())\n",
        "for _ in range(t):\n",
        "    x,y=map(int,input().split())\n",
        "    a=y-x\n",
        "    cnt=0\n",
        "    m=1\n",
        "    s=0\n",
        "    while s<a:\n",
        "        s+=m\n",
        "        cnt+=1\n",
        "        if cnt%2==0:\n",
        "            m+=1\n",
        "    print(cnt)"
      ]
    }
  ]
}