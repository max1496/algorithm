{
  "nbformat": 4,
  "nbformat_minor": 0,
  "metadata": {
    "colab": {
      "name": "문자열 내 마음대로 정렬하기.ipynb",
      "provenance": [],
      "collapsed_sections": [],
      "authorship_tag": "ABX9TyNhzc3UnGpYjzqUZ/V+BLyG"
    },
    "kernelspec": {
      "name": "python3",
      "display_name": "Python 3"
    },
    "language_info": {
      "name": "python"
    }
  },
  "cells": [
    {
      "cell_type": "markdown",
      "source": [
        "람다를 알게된 문제이다. 알면 쉽게 풀수 있다. 정렬된 strings의 x를 키로 x[n]번째를 기준으로 정렬한다."
      ],
      "metadata": {
        "id": "hCDxFasEAmvx"
      }
    },
    {
      "cell_type": "code",
      "execution_count": null,
      "metadata": {
        "id": "PYpxl-xCAloE"
      },
      "outputs": [],
      "source": [
        "def solution(strings, n):\n",
        "    strings = sorted(sorted(strings), key=lambda x:x[n])    #람다식 이용\n",
        "    \n",
        "    return strings"
      ]
    }
  ]
}