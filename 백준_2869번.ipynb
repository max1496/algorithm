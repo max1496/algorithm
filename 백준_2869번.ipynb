{
  "nbformat": 4,
  "nbformat_minor": 0,
  "metadata": {
    "colab": {
      "name": "백준 2869번",
      "provenance": [],
      "collapsed_sections": [],
      "authorship_tag": "ABX9TyMI4kI81Vecf0cmaSsCnpHF",
      "include_colab_link": true
    },
    "kernelspec": {
      "name": "python3",
      "display_name": "Python 3"
    },
    "language_info": {
      "name": "python"
    }
  },
  "cells": [
    {
      "cell_type": "markdown",
      "metadata": {
        "id": "view-in-github",
        "colab_type": "text"
      },
      "source": [
        "<a href=\"https://colab.research.google.com/github/max1496/algorithm/blob/master/%EB%B0%B1%EC%A4%80_2869%EB%B2%88.ipynb\" target=\"_parent\"><img src=\"https://colab.research.google.com/assets/colab-badge.svg\" alt=\"Open In Colab\"/></a>"
      ]
    },
    {
      "cell_type": "code",
      "execution_count": null,
      "metadata": {
        "id": "a4Dc144KF2B4"
      },
      "outputs": [],
      "source": [
        "a,b,c= map(int, input().split())\n",
        "cnt=0\n",
        "if (c-b)%(a-b)==0:\n",
        "    print((c-b)//(a-b))\n",
        "else:\n",
        "    print((c-b)//(a-b)+1)"
      ]
    }
  ]
}