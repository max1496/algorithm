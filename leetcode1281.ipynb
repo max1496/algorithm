{
  "nbformat": 4,
  "nbformat_minor": 0,
  "metadata": {
    "colab": {
      "name": "leetcode1281.ipynb",
      "provenance": [],
      "collapsed_sections": [],
      "authorship_tag": "ABX9TyN+Ik91NnPCROA0FwT9RBF1"
    },
    "kernelspec": {
      "name": "python3",
      "display_name": "Python 3"
    },
    "language_info": {
      "name": "python"
    }
  },
  "cells": [
    {
      "cell_type": "markdown",
      "source": [
        "모르는게 많아서 블로그에 많은걸 포스팅하게 된 문제... map과 reduce에 익숙해지자... 파이썬으론 익숙해서 쉽다 파이썬짱 숫자를 이루는 숫자들을 다뤄야하기 때문에 숫자를 그 숫자를 이루는 숫자들의 배열로 만들었고 for문으로 모두 곱한것에서 더한것을 빼줬다."
      ],
      "metadata": {
        "id": "7JSJOMAW2p00"
      }
    },
    {
      "cell_type": "markdown",
      "source": [
        "파이썬"
      ],
      "metadata": {
        "id": "PB0OIhw-2TWn"
      }
    },
    {
      "cell_type": "code",
      "source": [
        "class Solution:\n",
        "    def subtractProductAndSum(self, n: int) -> int:\n",
        "        n=[x for x in str(n)]\n",
        "        pro =1\n",
        "        hap=0\n",
        "        for i in n:\n",
        "            hap+=int(i)\n",
        "            pro*=int(i)\n",
        "        return (pro-hap)"
      ],
      "metadata": {
        "id": "YB4Mz9HL2P9m"
      },
      "execution_count": null,
      "outputs": []
    },
    {
      "cell_type": "markdown",
      "source": [
        "스위프트\n"
      ],
      "metadata": {
        "id": "cuk4o4E62Uyc"
      }
    },
    {
      "cell_type": "markdown",
      "source": [
        "class Solution {\n",
        "    func subtractProductAndSum(_ n: Int) -> Int {\n",
        "        var a = String(n).map{Int(String($0))!}\n",
        "        return a.reduce(1){$0*$1} - a.reduce(0){$0+$1}\n",
        "    }\n",
        "}"
      ],
      "metadata": {
        "id": "iqu0PjW02-Qy"
      }
    }
  ]
}