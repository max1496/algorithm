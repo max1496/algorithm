{
  "nbformat": 4,
  "nbformat_minor": 0,
  "metadata": {
    "colab": {
      "name": "leetcode1281.ipynb",
      "provenance": [],
      "collapsed_sections": [],
      "authorship_tag": "ABX9TyM6Bx55BxrnUXCmztZIHvYT"
    },
    "kernelspec": {
      "name": "python3",
      "display_name": "Python 3"
    },
    "language_info": {
      "name": "python"
    }
  },
  "cells": [
    {
      "cell_type": "markdown",
      "source": [
        "모르는게 많아서 블로그에 많은걸 포스팅하게 된 문제... \n",
        "map과 reduce에 익숙해지자...\n",
        "파이썬으론 익숙해서 쉽다 파이썬짱\n",
        "숫자를 이루는 숫자들을 다뤄야하기 때문에 \n",
        "숫자를 그 숫자를 이루는 숫자들의 배열로 만들었고\n",
        "for문으로 모두 곱한것에서 더한것을 빼줬다."
      ],
      "metadata": {
        "id": "cAZL2rvVksnO"
      }
    },
    {
      "cell_type": "markdown",
      "source": [
        "파이썬"
      ],
      "metadata": {
        "id": "uC_GOFK8lB1r"
      }
    },
    {
      "cell_type": "code",
      "execution_count": null,
      "metadata": {
        "id": "4QwdF3IfQ95D"
      },
      "outputs": [],
      "source": [
        "class Solution:\n",
        "    def subtractProductAndSum(self, n: int) -> int:\n",
        "        n=[x for x in str(n)]\n",
        "        pro =1\n",
        "        hap=0\n",
        "        for i in n:\n",
        "            hap+=int(i)\n",
        "            pro*=int(i)\n",
        "        return (pro-hap)"
      ]
    },
    {
      "cell_type": "markdown",
      "source": [
        "스위프트"
      ],
      "metadata": {
        "id": "t104KVl6lDKv"
      }
    },
    {
      "cell_type": "markdown",
      "source": [
        "class Solution {\n",
        "    func subtractProductAndSum(_ n: Int) -> Int {\n",
        "        var a = String(n).map{Int(String($0))!}\n",
        "        return a.reduce(1){$0*$1} - a.reduce(0){$0+$1}\n",
        "    }\n",
        "}"
      ],
      "metadata": {
        "id": "pMJazq81lErk"
      }
    }
  ]
}