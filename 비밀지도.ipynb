{
  "nbformat": 4,
  "nbformat_minor": 0,
  "metadata": {
    "colab": {
      "name": "\b비밀지도.ipynb",
      "provenance": [],
      "collapsed_sections": [],
      "authorship_tag": "ABX9TyPicINsRnbUwAc+jrcsABMD"
    },
    "kernelspec": {
      "name": "python3",
      "display_name": "Python 3"
    },
    "language_info": {
      "name": "python"
    }
  },
  "cells": [
    {
      "cell_type": "markdown",
      "source": [
        "문제는 간단해 보였고 실제로 요구하는건 간단한데...\n",
        "\n",
        "풀이에 온갖 기법들이 쓰인 문제라고 생각한다 특히\n",
        "\n",
        "2진법으로 바꾸고 앞에 0을 채워주는건 생각하기 좀 힘들었다.\n"
      ],
      "metadata": {
        "id": "IMfQZ1is-vev"
      }
    },
    {
      "cell_type": "code",
      "execution_count": null,
      "metadata": {
        "id": "6miDxqfuLqhj"
      },
      "outputs": [],
      "source": [
        "def solution(n, arr1, arr2):\n",
        "    answer = [0]*n\n",
        "    for i in range(n):\n",
        "        answer[i]=arr1[i]|arr2[i]\n",
        "        answer[i]=bin(answer[i])[2:]\n",
        "        answer[i] = [x for x in answer[i]]\n",
        "        while len(answer[i])<n:\n",
        "            answer[i].insert(0,'0')     #0번째에 0을 길이가 n이 되도록 넣어줌\n",
        "        for j in range(n):\n",
        "            if answer[i][j]=='1':       #1일경우 #으로\n",
        "                answer[i][j]=\"#\"\n",
        "            else:\n",
        "                answer[i][j]=\" \"        #아니면 공백\n",
        "        print(answer[i])\n",
        "        answer[i]=\"\".join(answer[i])    #이어줌\n",
        "    return answer"
      ]
    }
  ]
}