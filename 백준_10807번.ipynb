{
  "nbformat": 4,
  "nbformat_minor": 0,
  "metadata": {
    "colab": {
      "name": "백준 10807번",
      "provenance": [],
      "collapsed_sections": [],
      "authorship_tag": "ABX9TyMaegYksbBOUcr0U+UFzF19",
      "include_colab_link": true
    },
    "kernelspec": {
      "name": "python3",
      "display_name": "Python 3"
    },
    "language_info": {
      "name": "python"
    }
  },
  "cells": [
    {
      "cell_type": "markdown",
      "metadata": {
        "id": "view-in-github",
        "colab_type": "text"
      },
      "source": [
        "<a href=\"https://colab.research.google.com/github/max1496/algorithm/blob/master/%EB%B0%B1%EC%A4%80_10807%EB%B2%88.ipynb\" target=\"_parent\"><img src=\"https://colab.research.google.com/assets/colab-badge.svg\" alt=\"Open In Colab\"/></a>"
      ]
    },
    {
      "cell_type": "code",
      "execution_count": 6,
      "metadata": {
        "colab": {
          "base_uri": "https://localhost:8080/"
        },
        "id": "o-rliRSJsEgC",
        "outputId": "241146cb-d81e-49f5-e3af-eba80b236aca"
      },
      "outputs": [
        {
          "output_type": "stream",
          "name": "stdout",
          "text": [
            "3\n",
            "1 2 2\n",
            "2\n",
            "2\n"
          ]
        }
      ],
      "source": [
        "n=int(input())\n",
        "a=list(map(int, input().split()))\n",
        "b=int(input())\n",
        "for i,v in enumerate(a):\n",
        "    answer= a.count(b)\n",
        "print(answer)"
      ]
    }
  ]
}