{
  "nbformat": 4,
  "nbformat_minor": 0,
  "metadata": {
    "colab": {
      "name": "백준 9461번",
      "provenance": [],
      "collapsed_sections": [],
      "authorship_tag": "ABX9TyN46kyzu5XE5GDMcxZXs05S",
      "include_colab_link": true
    },
    "kernelspec": {
      "name": "python3",
      "display_name": "Python 3"
    },
    "language_info": {
      "name": "python"
    }
  },
  "cells": [
    {
      "cell_type": "markdown",
      "metadata": {
        "id": "view-in-github",
        "colab_type": "text"
      },
      "source": [
        "<a href=\"https://colab.research.google.com/github/max1496/algorithm/blob/master/%EB%B0%B1%EC%A4%80_9461%EB%B2%88.ipynb\" target=\"_parent\"><img src=\"https://colab.research.google.com/assets/colab-badge.svg\" alt=\"Open In Colab\"/></a>"
      ]
    },
    {
      "cell_type": "code",
      "execution_count": null,
      "metadata": {
        "id": "ENOUGitpAs26"
      },
      "outputs": [],
      "source": [
        "t=int(input())\n",
        "dp=[0]*101\n",
        "dp[1]=1\n",
        "dp[2]=1\n",
        "dp[3]=1\n",
        "for i in range(1,98):\n",
        "    dp[i+3]=dp[i]+dp[i+1]\n",
        "for _ in range(t):\n",
        "    n=int(input())\n",
        "\n",
        "    print(dp[n])"
      ]
    }
  ]
}