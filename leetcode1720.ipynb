{
  "nbformat": 4,
  "nbformat_minor": 0,
  "metadata": {
    "colab": {
      "name": "leetcode1720.ipynb",
      "provenance": [],
      "collapsed_sections": [],
      "authorship_tag": "ABX9TyO0ZWckxdBnUwigAW71AkI+"
    },
    "kernelspec": {
      "name": "python3",
      "display_name": "Python 3"
    },
    "language_info": {
      "name": "python"
    }
  },
  "cells": [
    {
      "cell_type": "markdown",
      "source": [
        "1. 배열을 만든다\n",
        "\n",
        "2. 배열의 첫번째 원소에 first를 넣는다.\n",
        "\n",
        "3. 2번째 원소 부터는 first, encoded[0], encoded[1], encoded[2]을 비트 연산한 결과를 배열에 넣는다.\n",
        "\n",
        "(3번이 풀이가 될 수 있는 이유는 xor연산은 역함수를 해도 결과가 같기 때문이다.)\n",
        "\n",
        "4. 4번이 핵심인데 매번 비트연산한 결과를 first와 encoded를 포함한 배열에 갱신시켜줘야 한다."
      ],
      "metadata": {
        "id": "fP_8EFEqA91D"
      }
    },
    {
      "cell_type": "markdown",
      "source": [
        "파이썬\n"
      ],
      "metadata": {
        "id": "vclYcDHGBCf1"
      }
    },
    {
      "cell_type": "code",
      "source": [
        "class Solution:\n",
        "    def decode(self, encoded: List[int], first: int) -> List[int]:\n",
        "        b=[first]\n",
        "        encoded.insert(0, first)\n",
        "        a=encoded\n",
        "        for i in range(len(encoded)-1):\n",
        "            \n",
        "            b.append(encoded[i]^encoded[i+1])\n",
        "            encoded[i+1]=encoded[i]^encoded[i+1]\n",
        "        return b"
      ],
      "metadata": {
        "id": "m19zHahqBBAa"
      },
      "execution_count": null,
      "outputs": []
    },
    {
      "cell_type": "markdown",
      "source": [
        "스위프트\n"
      ],
      "metadata": {
        "id": "pXMGCB7sBFq-"
      }
    },
    {
      "cell_type": "markdown",
      "source": [
        "\n",
        "class Solution {\n",
        "    func decode(_ encoded: [Int], _ first: Int) -> [Int] {\n",
        "        var a = encoded\n",
        "        a.insert(first, at:0)\n",
        "        var b = [first]\n",
        "        for i in 0..<(encoded.count){\n",
        "            b.append(a[i]^a[i+1])\n",
        "            a[i+1] = a[i]^a[i+1]\n",
        "        }\n",
        "        return b\n",
        "    }\n",
        "}\n",
        "\n",
        "\n"
      ],
      "metadata": {
        "id": "Jk-8XR97B1Kd"
      }
    }
  ]
}