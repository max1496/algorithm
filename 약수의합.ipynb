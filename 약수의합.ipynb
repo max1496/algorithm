{
  "nbformat": 4,
  "nbformat_minor": 0,
  "metadata": {
    "colab": {
      "name": "약수의합.ipynb",
      "provenance": [],
      "collapsed_sections": [],
      "authorship_tag": "ABX9TyO7zHzJ4knCkIkQ6vdcXnPy"
    },
    "kernelspec": {
      "name": "python3",
      "display_name": "Python 3"
    },
    "language_info": {
      "name": "python"
    }
  },
  "cells": [
    {
      "cell_type": "code",
      "execution_count": null,
      "metadata": {
        "id": "_zFA_OdPIwWP"
      },
      "outputs": [],
      "source": [
        "def solution(n):\n",
        "    answer = 0\n",
        "    for i in range(1, n+1):\n",
        "        if n%i == 0:\n",
        "            answer+=i\n",
        "    return answer"
      ]
    },
    {
      "cell_type": "markdown",
      "source": [
        "1부터 n까지 n이 나눴을 때 나누어 떨어지는 숫자를 answer에 더한 후 리턴."
      ],
      "metadata": {
        "id": "-83vrUuTIyYF"
      }
    }
  ]
}