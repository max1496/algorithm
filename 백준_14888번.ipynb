{
  "nbformat": 4,
  "nbformat_minor": 0,
  "metadata": {
    "colab": {
      "name": "백준 14888번",
      "provenance": [],
      "collapsed_sections": [],
      "authorship_tag": "ABX9TyOnYAzVifi/tJ5VHHC4WMHA",
      "include_colab_link": true
    },
    "kernelspec": {
      "name": "python3",
      "display_name": "Python 3"
    },
    "language_info": {
      "name": "python"
    }
  },
  "cells": [
    {
      "cell_type": "markdown",
      "metadata": {
        "id": "view-in-github",
        "colab_type": "text"
      },
      "source": [
        "<a href=\"https://colab.research.google.com/github/max1496/algorithm/blob/master/%EB%B0%B1%EC%A4%80_14888%EB%B2%88.ipynb\" target=\"_parent\"><img src=\"https://colab.research.google.com/assets/colab-badge.svg\" alt=\"Open In Colab\"/></a>"
      ]
    },
    {
      "cell_type": "code",
      "execution_count": null,
      "metadata": {
        "id": "3Opfn226atyY"
      },
      "outputs": [],
      "source": [
        "def sol(depth, total, plus,minus, multi,divide):\n",
        "    global maximum,minimum\n",
        "    if depth==n:\n",
        "        maximum=max(maximum, total)\n",
        "        minimum=min(minimum,total)\n",
        "        return\n",
        "    if plus:\n",
        "        sol(depth+1,total+arr[depth],plus-1,minus,multi,divide)\n",
        "    if minus:\n",
        "        sol(depth+1,total-arr[depth], plus,minus-1,multi,divide)\n",
        "    if multi:\n",
        "        sol(depth+1,total*arr[depth],plus,minus,multi-1,divide)\n",
        "    if divide:\n",
        "        sol(depth+1,int(total/arr[depth]),plus,minus,multi,divide-1)\n",
        "\n",
        "  \n",
        "maximum=-1e9\n",
        "minimum=1e9\n",
        "\n",
        "n=int(input())\n",
        "arr=list(map(int,input().split()))\n",
        "op=list(map(int,input().split()))\n",
        "\n",
        "sol(1,arr[0],op[0],op[1],op[2],op[3])\n",
        "print(maximum)\n",
        "print(minimum)"
      ]
    }
  ]
}