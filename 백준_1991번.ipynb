{
  "nbformat": 4,
  "nbformat_minor": 0,
  "metadata": {
    "colab": {
      "provenance": [],
      "collapsed_sections": [],
      "authorship_tag": "ABX9TyOulKuS5sVGjoyC4xk6I/6E",
      "include_colab_link": true
    },
    "kernelspec": {
      "name": "python3",
      "display_name": "Python 3"
    },
    "language_info": {
      "name": "python"
    }
  },
  "cells": [
    {
      "cell_type": "markdown",
      "metadata": {
        "id": "view-in-github",
        "colab_type": "text"
      },
      "source": [
        "<a href=\"https://colab.research.google.com/github/max1496/algorithm/blob/master/%EB%B0%B1%EC%A4%80_1991%EB%B2%88.ipynb\" target=\"_parent\"><img src=\"https://colab.research.google.com/assets/colab-badge.svg\" alt=\"Open In Colab\"/></a>"
      ]
    },
    {
      "cell_type": "code",
      "execution_count": null,
      "metadata": {
        "id": "KOVp_Bqs1XS0"
      },
      "outputs": [],
      "source": [
        "n=int(input())\n",
        "t={}\n",
        "for i in range(n):\n",
        "    a,b,c=map(str,input().split())\n",
        "    t[a]=[b,c]    #left, right 자식\n",
        "def preorder(root):\n",
        "    if root!=\".\":\n",
        "        print(root,end=\"\")\n",
        "        preorder(t[root][0])\n",
        "        preorder(t[root][1])\n",
        "def inorder(root):\n",
        "    if root!=\".\":\n",
        "        inorder(t[root][0])\n",
        "        print(root,end=\"\")   \n",
        "        inorder(t[root][1])\n",
        "def postorder(root):\n",
        "    if root!=\".\":\n",
        "        postorder(t[root][0])\n",
        "        postorder(t[root][1])    \n",
        "        print(root,end=\"\")    \n",
        "\n",
        "preorder('A')\n",
        "print()\n",
        "inorder('A')\n",
        "print()\n",
        "postorder('A')"
      ]
    }
  ]
}