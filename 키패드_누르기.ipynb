{
  "nbformat": 4,
  "nbformat_minor": 0,
  "metadata": {
    "colab": {
      "name": "\b키패드 누르기.ipynb",
      "provenance": [],
      "collapsed_sections": [],
      "authorship_tag": "ABX9TyMimX09VFIUPkLTv8vO073v"
    },
    "kernelspec": {
      "name": "python3",
      "display_name": "Python 3"
    },
    "language_info": {
      "name": "python"
    }
  },
  "cells": [
    {
      "cell_type": "markdown",
      "source": [
        "좌표로 번호판을 생각한다는게 어려웠다. 무엇보다 꼼꼼히 구현을 해야하는 문제"
      ],
      "metadata": {
        "id": "rYxrlUhhBYGO"
      }
    },
    {
      "cell_type": "code",
      "execution_count": null,
      "metadata": {
        "colab": {
          "base_uri": "https://localhost:8080/"
        },
        "id": "eRaagZ-ydl1I",
        "outputId": "537f2f9a-d219-428d-f9d5-9536229eeb78"
      },
      "outputs": [
        {
          "output_type": "stream",
          "name": "stdout",
          "text": [
            "1 0 1\n",
            "2 0 1\n"
          ]
        }
      ],
      "source": [
        "def solution(numbers, hand):\n",
        "    answer = ''\n",
        "    dic = {1: [0,0], 2:[0,1], 3:[0,2], 4:[1,0], 5:[1,1], 6:[1,2],7:[2,0],8:[2,1],9:[2,2],\\\n",
        "          '*':[3,0],0:[3,1],'#':[3,2]}      #좌표별로 나누기\n",
        "    left_n = dic['*']       #왼손 시작\n",
        "    right_n = dic['#']      #오른손 시작\n",
        "    for i in numbers:\n",
        "        now = dic[i]        #가고자 하는 위치\n",
        "        if i ==1 or i==4 or i == 7:\n",
        "            answer+='L'\n",
        "            left_n =now     #무조건 왼손\n",
        "        elif i ==3 or i == 6 or i == 9:\n",
        "            answer+= \"R\"\n",
        "            right_n= now        #무조건 오른손\n",
        "        else:       #가운데\n",
        "            left_d = 0      #거리는 0으로 초기화\n",
        "            right_d =0\n",
        "            # print(\"left_n, right_n\", left_n,right_n)\n",
        "            for a, b, c, in zip(left_n,right_n,now):    #거리 계산\n",
        "                left_d +=abs(a-c)\n",
        "                right_d +=abs(b-c)\n",
        "                # print(i, a,b,c)\n",
        "            if left_d<right_d:      #왼쪽이 더 가까우면\n",
        "                answer+= \"L\"\n",
        "                left_n=now\n",
        "                print(i, \"left_n\", left_n)\n",
        "            elif right_d<left_d:       #오른쪽이 더 가까우면\n",
        "                answer+= \"R\"\n",
        "                right_n = now\n",
        "            else:       #거리가 같으면\n",
        "                if hand == \"left\":\n",
        "                    answer+= \"L\"\n",
        "                    left_n = now\n",
        "                elif hand == \"right\":\n",
        "                    answer+= \"R\"\n",
        "                    right_n = now\n",
        "    return answer"
      ]
    }
  ]
}