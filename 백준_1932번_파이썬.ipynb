{
  "nbformat": 4,
  "nbformat_minor": 0,
  "metadata": {
    "colab": {
      "name": "백준 1932번 파이썬",
      "provenance": [],
      "collapsed_sections": [],
      "authorship_tag": "ABX9TyMCkap+fgV9mbQE1CNci64T",
      "include_colab_link": true
    },
    "kernelspec": {
      "name": "python3",
      "display_name": "Python 3"
    },
    "language_info": {
      "name": "python"
    }
  },
  "cells": [
    {
      "cell_type": "markdown",
      "metadata": {
        "id": "view-in-github",
        "colab_type": "text"
      },
      "source": [
        "<a href=\"https://colab.research.google.com/github/max1496/algorithm/blob/master/%EB%B0%B1%EC%A4%80_1932%EB%B2%88_%ED%8C%8C%EC%9D%B4%EC%8D%AC.ipynb\" target=\"_parent\"><img src=\"https://colab.research.google.com/assets/colab-badge.svg\" alt=\"Open In Colab\"/></a>"
      ]
    },
    {
      "cell_type": "code",
      "execution_count": null,
      "metadata": {
        "id": "6mf5F-O8GiMd"
      },
      "outputs": [],
      "source": [
        "n=int(input())\n",
        "a=[]\n",
        "for i in range(n):\n",
        "    a.append(list(map(int,input().split())))\n",
        "for i in range(1,n):\n",
        "    for j in range(i+1):\n",
        "        if j==0:\n",
        "            a[i][j]+=a[i-1][j]\n",
        "        elif i==j:\n",
        "            a[i][j]+=a[i-1][j-1]\n",
        "        else:\n",
        "            a[i][j]+=max(a[i-1][j],a[i-1][j-1])\n",
        "print(max(a[n-1]))"
      ]
    }
  ]
}