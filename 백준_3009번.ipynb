{
  "nbformat": 4,
  "nbformat_minor": 0,
  "metadata": {
    "colab": {
      "name": "백준 3009번",
      "provenance": [],
      "collapsed_sections": [],
      "authorship_tag": "ABX9TyMiWrCuaSldDpEWUesrArja",
      "include_colab_link": true
    },
    "kernelspec": {
      "name": "python3",
      "display_name": "Python 3"
    },
    "language_info": {
      "name": "python"
    }
  },
  "cells": [
    {
      "cell_type": "markdown",
      "metadata": {
        "id": "view-in-github",
        "colab_type": "text"
      },
      "source": [
        "<a href=\"https://colab.research.google.com/github/max1496/algorithm/blob/master/%EB%B0%B1%EC%A4%80_3009%EB%B2%88.ipynb\" target=\"_parent\"><img src=\"https://colab.research.google.com/assets/colab-badge.svg\" alt=\"Open In Colab\"/></a>"
      ]
    },
    {
      "cell_type": "code",
      "execution_count": null,
      "metadata": {
        "id": "2L2_fnb25c1h"
      },
      "outputs": [],
      "source": [
        "xarr= []\n",
        "yarr=[]\n",
        "for i in range(3):\n",
        "    x,y = map(int, input().split())\n",
        "    xarr.append(x)\n",
        "    yarr.append(y)\n",
        "for j in range(3):\n",
        "    if xarr.count(xarr[j])==1:\n",
        "        a=xarr[j]\n",
        "    if yarr.count(yarr[j])==1:\n",
        "        b=yarr[j]\n",
        "print(a, b, sep=\" \")"
      ]
    }
  ]
}