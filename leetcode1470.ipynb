{
  "nbformat": 4,
  "nbformat_minor": 0,
  "metadata": {
    "colab": {
      "name": "leetcode1470.ipynb",
      "provenance": [],
      "collapsed_sections": [],
      "authorship_tag": "ABX9TyNe5KwCvgdNVTXUbtRlxVcq",
      "include_colab_link": true
    },
    "kernelspec": {
      "name": "python3",
      "display_name": "Python 3"
    },
    "language_info": {
      "name": "python"
    }
  },
  "cells": [
    {
      "cell_type": "markdown",
      "metadata": {
        "id": "view-in-github",
        "colab_type": "text"
      },
      "source": [
        "<a href=\"https://colab.research.google.com/github/max1496/algorithm/blob/master/leetcode1470.ipynb\" target=\"_parent\"><img src=\"https://colab.research.google.com/assets/colab-badge.svg\" alt=\"Open In Colab\"/></a>"
      ]
    },
    {
      "cell_type": "markdown",
      "source": [
        "i번째 인덱스를 append 시키고 n+i번째 인덱스를 append시키는 식으로 셔플해주면 된다."
      ],
      "metadata": {
        "id": "pH3atWwPSml_"
      }
    },
    {
      "cell_type": "markdown",
      "source": [
        "파이썬"
      ],
      "metadata": {
        "id": "fhBZk3f3SvnG"
      }
    },
    {
      "cell_type": "code",
      "execution_count": null,
      "metadata": {
        "id": "MGNw_3SCSlm4"
      },
      "outputs": [],
      "source": [
        "class Solution:\n",
        "    def shuffle(self, nums: List[int], n: int) -> List[int]:\n",
        "        \n",
        "        arr=[]\n",
        "        for i in range(n):\n",
        "            arr.append(nums[i])\n",
        "            arr.append(nums[n+i])\n",
        "        return arr"
      ]
    },
    {
      "cell_type": "markdown",
      "source": [
        "스위프트"
      ],
      "metadata": {
        "id": "2LW8izheSrF5"
      }
    },
    {
      "cell_type": "markdown",
      "source": [
        "class Solution {\n",
        "    func shuffle(_ nums: [Int], _ n: Int) -> [Int] {\n",
        "        \n",
        "        var a = [Int]()\n",
        "        for i in 0..<n{\n",
        "            a.append(nums[i])\n",
        "            a.append(nums[n+i])\n",
        "        }\n",
        "        return a\n",
        "    }\n",
        "}"
      ],
      "metadata": {
        "id": "Sb_lGjTCSxHl"
      }
    }
  ]
}