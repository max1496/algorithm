{
  "nbformat": 4,
  "nbformat_minor": 0,
  "metadata": {
    "colab": {
      "name": "백준 9656번",
      "provenance": [],
      "collapsed_sections": [],
      "authorship_tag": "ABX9TyOmTYCPyJM1JUg0NDdZXAxv",
      "include_colab_link": true
    },
    "kernelspec": {
      "name": "python3",
      "display_name": "Python 3"
    },
    "language_info": {
      "name": "python"
    }
  },
  "cells": [
    {
      "cell_type": "markdown",
      "metadata": {
        "id": "view-in-github",
        "colab_type": "text"
      },
      "source": [
        "<a href=\"https://colab.research.google.com/github/max1496/algorithm/blob/master/%EB%B0%B1%EC%A4%80_9656%EB%B2%88.ipynb\" target=\"_parent\"><img src=\"https://colab.research.google.com/assets/colab-badge.svg\" alt=\"Open In Colab\"/></a>"
      ]
    },
    {
      "cell_type": "code",
      "execution_count": null,
      "metadata": {
        "id": "yBRyTav4MPry"
      },
      "outputs": [],
      "source": [
        "n=int(input())\n",
        "if n%2==0:\n",
        "    print(\"SK\")\n",
        "else:\n",
        "    print(\"CY\")"
      ]
    }
  ]
}