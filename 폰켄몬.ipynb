{
  "nbformat": 4,
  "nbformat_minor": 0,
  "metadata": {
    "colab": {
      "name": "폰켄몬.ipynb",
      "provenance": [],
      "collapsed_sections": [],
      "authorship_tag": "ABX9TyMLOCfYCQDmp5dPN3dITq6L"
    },
    "kernelspec": {
      "name": "python3",
      "display_name": "Python 3"
    },
    "language_info": {
      "name": "python"
    }
  },
  "cells": [
    {
      "cell_type": "markdown",
      "source": [
        "최대한 다양하게 고르라는 것을 보고 바로 list(set())이 떠올랐다."
      ],
      "metadata": {
        "id": "wET6_fl-qUon"
      }
    },
    {
      "cell_type": "code",
      "execution_count": null,
      "metadata": {
        "id": "sAdDStYnQX_Q"
      },
      "outputs": [],
      "source": [
        "def solution(nums):\n",
        "    answer = 0\n",
        "    a=list(set(nums))   # set로 중복값 제거\n",
        "    if len(a)>len(nums)//2:     #하지만 a의 개수가 고를수 있는 n/2마리보다 클 경우\n",
        "        answer = len(nums)//2   #n/2개만 선택\n",
        "    else:\n",
        "        answer=len(a)   #아니면 전부 선택\n",
        "    return answer"
      ]
    }
  ]
}