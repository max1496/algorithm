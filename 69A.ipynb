{
  "nbformat": 4,
  "nbformat_minor": 0,
  "metadata": {
    "colab": {
      "name": "69A.ipynb",
      "provenance": [],
      "authorship_tag": "ABX9TyNlz6iaRgW6ubsPe2WWaCeg",
      "include_colab_link": true
    },
    "kernelspec": {
      "name": "python3",
      "display_name": "Python 3"
    },
    "language_info": {
      "name": "python"
    }
  },
  "cells": [
    {
      "cell_type": "markdown",
      "metadata": {
        "id": "view-in-github",
        "colab_type": "text"
      },
      "source": [
        "<a href=\"https://colab.research.google.com/github/max1496/algorithm/blob/master/69A.ipynb\" target=\"_parent\"><img src=\"https://colab.research.google.com/assets/colab-badge.svg\" alt=\"Open In Colab\"/></a>"
      ]
    },
    {
      "cell_type": "code",
      "execution_count": null,
      "metadata": {
        "id": "PeCnEU-UYFzX"
      },
      "outputs": [],
      "source": [
        "n = int(input())\n",
        "arr=[]\n",
        "for _ in range(n):\n",
        "    arr.append(list(map(int,input().split())))\n",
        "flag=True\n",
        "for i in range(3):\n",
        "    sum=0\n",
        "    for j in range(n):\n",
        "        sum+=arr[j][i]\n",
        "    if sum!=0:\n",
        "        flag = False\n",
        "        break\n",
        "if flag:\n",
        "    print(\"YES\")\n",
        "else:\n",
        "    print(\"NO\")"
      ]
    },
    {
      "cell_type": "markdown",
      "source": [
        "코드포스 69A\n",
        "이차원 배열 형태로 자료 저장.\n",
        "x,y,z방향 총 3방향 for문을 돌린 뒤\n",
        "arr의 각 원소들의 방향별 총합이 0이면 flag변수를 True로 \n",
        "유지. 아닐경우 False로 바꿔줌.\n",
        "False인 경우 break을 걸어 시간 단축을 할 수 있음을 뒤늦게 깨달음."
      ],
      "metadata": {
        "id": "ogbeKtKkYwB-"
      }
    },
    {
      "cell_type": "markdown",
      "source": [
        ""
      ],
      "metadata": {
        "id": "n97WSfimYZjX"
      }
    }
  ]
}