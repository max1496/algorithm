{
  "nbformat": 4,
  "nbformat_minor": 0,
  "metadata": {
    "colab": {
      "name": "백준 2667번 dfs",
      "provenance": [],
      "collapsed_sections": [],
      "authorship_tag": "ABX9TyMdax/oYaiZg0GFWePd5KEH",
      "include_colab_link": true
    },
    "kernelspec": {
      "name": "python3",
      "display_name": "Python 3"
    },
    "language_info": {
      "name": "python"
    }
  },
  "cells": [
    {
      "cell_type": "markdown",
      "metadata": {
        "id": "view-in-github",
        "colab_type": "text"
      },
      "source": [
        "<a href=\"https://colab.research.google.com/github/max1496/algorithm/blob/master/%EB%B0%B1%EC%A4%80_2667%EB%B2%88_dfs.ipynb\" target=\"_parent\"><img src=\"https://colab.research.google.com/assets/colab-badge.svg\" alt=\"Open In Colab\"/></a>"
      ]
    },
    {
      "cell_type": "code",
      "execution_count": null,
      "metadata": {
        "id": "LIfiFHrlivrN"
      },
      "outputs": [],
      "source": [
        "n=int(input())\n",
        "arr=[]\n",
        "board=[]\n",
        "dx=[-1,1,0,0]\n",
        "dy=[0,0,1,-1]\n",
        "for _ in range(n):\n",
        "    board.append(list(map(int,input())))\n",
        "\n",
        "def dfs(x,y):\n",
        "    global cnt\n",
        "    if x<0 or x>=n or y<0 or y>=n:\n",
        "        return False\n",
        "    if board[x][y]:\n",
        "        \n",
        "        board[x][y]=0\n",
        "        cnt+=1\n",
        "        for i in range(4):\n",
        "            nx=x+dx[i]\n",
        "            ny=y+dy[i]\n",
        "            dfs(nx,ny)\n",
        "        return True\n",
        "    return False\n",
        "cnt=0\n",
        "res=0\n",
        "for p in range(n):\n",
        "    for q in range(n):\n",
        "        if dfs(p,q):\n",
        "            res+=1\n",
        "            arr.append(cnt)\n",
        "            cnt=0\n",
        "          \n",
        "arr.sort()\n",
        "print(res)\n",
        "for t in range(len(arr)):\n",
        "    print(arr[t])"
      ]
    }
  ]
}