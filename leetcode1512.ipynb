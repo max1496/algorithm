{
  "nbformat": 4,
  "nbformat_minor": 0,
  "metadata": {
    "colab": {
      "name": "leetcode1512.ipynb",
      "provenance": [],
      "collapsed_sections": [],
      "authorship_tag": "ABX9TyP/7FCaos1Y7XRVlaJks3Ft",
      "include_colab_link": true
    },
    "kernelspec": {
      "name": "python3",
      "display_name": "Python 3"
    },
    "language_info": {
      "name": "python"
    }
  },
  "cells": [
    {
      "cell_type": "markdown",
      "metadata": {
        "id": "view-in-github",
        "colab_type": "text"
      },
      "source": [
        "<a href=\"https://colab.research.google.com/github/max1496/algorithm/blob/master/leetcode1512.ipynb\" target=\"_parent\"><img src=\"https://colab.research.google.com/assets/colab-badge.svg\" alt=\"Open In Colab\"/></a>"
      ]
    },
    {
      "cell_type": "markdown",
      "source": [
        "동일한 값끼리 짝을 지어주면 되는 문제. 이중 포문으로 엮어 주되, 인덱스에 주의한다."
      ],
      "metadata": {
        "id": "gU5LJrc93O-W"
      }
    },
    {
      "cell_type": "markdown",
      "source": [
        "파이썬:"
      ],
      "metadata": {
        "id": "MOPXvO1J3Px6"
      }
    },
    {
      "cell_type": "code",
      "execution_count": null,
      "metadata": {
        "id": "d1TSJxQWdqgD"
      },
      "outputs": [],
      "source": [
        "class Solution:\n",
        "    def numIdenticalPairs(self, nums: List[int]) -> int:\n",
        "        cnt=0\n",
        "        for i in range(len(nums)-1):\n",
        "            for j in range(i+1, len(nums)):\n",
        "                if nums[i]==nums[j]:\n",
        "                    cnt+=1\n",
        "        return cnt"
      ]
    },
    {
      "cell_type": "markdown",
      "source": [
        "스위프트:"
      ],
      "metadata": {
        "id": "CV3hxH5_3Sur"
      }
    },
    {
      "cell_type": "markdown",
      "source": [
        "class Solution {\n",
        "    func numIdenticalPairs(_ nums: [Int]) -> Int {\n",
        "        var cnt = 0\n",
        "        for i in 0..<nums.count-1{\n",
        "            for j in (i+1)..<nums.count{\n",
        "                if nums[i] == nums[j]{\n",
        "                    cnt+=1\n",
        "                }\n",
        "            }\n",
        "        }\n",
        "        return cnt\n",
        "    }\n",
        "}"
      ],
      "metadata": {
        "id": "-CUhbugT3XQq"
      }
    }
  ]
}