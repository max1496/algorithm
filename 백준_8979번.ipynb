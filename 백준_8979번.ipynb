{
  "nbformat": 4,
  "nbformat_minor": 0,
  "metadata": {
    "colab": {
      "name": "백준 8979번",
      "provenance": [],
      "collapsed_sections": [],
      "authorship_tag": "ABX9TyP1HUAKNReeFSMqVANVBSO6",
      "include_colab_link": true
    },
    "kernelspec": {
      "name": "python3",
      "display_name": "Python 3"
    },
    "language_info": {
      "name": "python"
    }
  },
  "cells": [
    {
      "cell_type": "markdown",
      "metadata": {
        "id": "view-in-github",
        "colab_type": "text"
      },
      "source": [
        "<a href=\"https://colab.research.google.com/github/max1496/algorithm/blob/master/%EB%B0%B1%EC%A4%80_8979%EB%B2%88.ipynb\" target=\"_parent\"><img src=\"https://colab.research.google.com/assets/colab-badge.svg\" alt=\"Open In Colab\"/></a>"
      ]
    },
    {
      "cell_type": "code",
      "execution_count": null,
      "metadata": {
        "id": "RG8VQjVoXxYm"
      },
      "outputs": [],
      "source": [
        "a=[]\n",
        "n,k=map(int,input().split())\n",
        "for p in range(n):\n",
        "    a.append(list(map(int,input().split())))\n",
        "    \n",
        "a.sort(key=lambda x:(-x[1],-x[2],-x[3]))\n",
        "for j in range(n):\n",
        "    if a[j][0]==k:\n",
        "        index=j\n",
        "for i in range(n):\n",
        "    if a[i][1:]== a[index][1:]:\n",
        "        print(i+1)\n",
        "        break"
      ]
    }
  ]
}