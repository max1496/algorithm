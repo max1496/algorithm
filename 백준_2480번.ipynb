{
  "nbformat": 4,
  "nbformat_minor": 0,
  "metadata": {
    "colab": {
      "name": "백준 2480번",
      "provenance": [],
      "authorship_tag": "ABX9TyMlhrbwDWEV6rbxas/OdT+k",
      "include_colab_link": true
    },
    "kernelspec": {
      "name": "python3",
      "display_name": "Python 3"
    },
    "language_info": {
      "name": "python"
    }
  },
  "cells": [
    {
      "cell_type": "markdown",
      "metadata": {
        "id": "view-in-github",
        "colab_type": "text"
      },
      "source": [
        "<a href=\"https://colab.research.google.com/github/max1496/algorithm/blob/master/%EB%B0%B1%EC%A4%80_2480%EB%B2%88.ipynb\" target=\"_parent\"><img src=\"https://colab.research.google.com/assets/colab-badge.svg\" alt=\"Open In Colab\"/></a>"
      ]
    },
    {
      "cell_type": "code",
      "execution_count": null,
      "metadata": {
        "id": "os6DJIgFefuB"
      },
      "outputs": [],
      "source": [
        "a,b,c= map(int,input().split())\n",
        "if a== b and b==c:\n",
        "    print(10000+a*1000)\n",
        "elif a==b:\n",
        "    print(1000+a*100)\n",
        "elif b==c:\n",
        "    print(1000+b*100)\n",
        "elif a==c:\n",
        "    print(1000+a*100)\n",
        "else:\n",
        "    print(max(a,b,c)*100)"
      ]
    }
  ]
}