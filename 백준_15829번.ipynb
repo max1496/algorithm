{
  "nbformat": 4,
  "nbformat_minor": 0,
  "metadata": {
    "colab": {
      "name": "백준 15829번",
      "provenance": [],
      "collapsed_sections": [],
      "authorship_tag": "ABX9TyNqXSWs9+il0ZrKPiDn0tf+",
      "include_colab_link": true
    },
    "kernelspec": {
      "name": "python3",
      "display_name": "Python 3"
    },
    "language_info": {
      "name": "python"
    }
  },
  "cells": [
    {
      "cell_type": "markdown",
      "metadata": {
        "id": "view-in-github",
        "colab_type": "text"
      },
      "source": [
        "<a href=\"https://colab.research.google.com/github/max1496/algorithm/blob/master/%EB%B0%B1%EC%A4%80_15829%EB%B2%88.ipynb\" target=\"_parent\"><img src=\"https://colab.research.google.com/assets/colab-badge.svg\" alt=\"Open In Colab\"/></a>"
      ]
    },
    {
      "cell_type": "code",
      "execution_count": null,
      "metadata": {
        "id": "Q2WkoOM-2y9K"
      },
      "outputs": [],
      "source": [
        "L= int(input())\n",
        "answer=0\n",
        "a= list(input())\n",
        "for i,v in enumerate(a):\n",
        "    answer+=((ord(v)-96)*((31)**(i)))\n",
        "print(answer%1234567891)"
      ]
    }
  ]
}