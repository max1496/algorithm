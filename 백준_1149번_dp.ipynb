{
  "nbformat": 4,
  "nbformat_minor": 0,
  "metadata": {
    "colab": {
      "name": "백준 1149번 dp",
      "provenance": [],
      "collapsed_sections": [],
      "authorship_tag": "ABX9TyNGMp42NLqRT1878Oa4PTyV",
      "include_colab_link": true
    },
    "kernelspec": {
      "name": "python3",
      "display_name": "Python 3"
    },
    "language_info": {
      "name": "python"
    }
  },
  "cells": [
    {
      "cell_type": "markdown",
      "metadata": {
        "id": "view-in-github",
        "colab_type": "text"
      },
      "source": [
        "<a href=\"https://colab.research.google.com/github/max1496/algorithm/blob/master/%EB%B0%B1%EC%A4%80_1149%EB%B2%88_dp.ipynb\" target=\"_parent\"><img src=\"https://colab.research.google.com/assets/colab-badge.svg\" alt=\"Open In Colab\"/></a>"
      ]
    },
    {
      "cell_type": "code",
      "execution_count": null,
      "metadata": {
        "id": "fB92nG69kEpj"
      },
      "outputs": [],
      "source": [
        "n=int(input())\n",
        "arr=[]\n",
        "for _ in range(n):\n",
        "    arr.append(list(map(int,input().split())))\n",
        "for i in range(1,n):\n",
        "    arr[i][0]+=min(arr[i-1][1],arr[i-1][2])\n",
        "    arr[i][1]+=min(arr[i-1][0], arr[i-1][2])\n",
        "    arr[i][2]+=min(arr[i-1][1],arr[i-1][0])\n",
        "\n",
        "print(min(arr[n-1][0],arr[n-1][1],arr[n-1][2]))"
      ]
    }
  ]
}