{
  "nbformat": 4,
  "nbformat_minor": 0,
  "metadata": {
    "colab": {
      "name": "문자열다루기기본.ipynb",
      "provenance": [],
      "collapsed_sections": [],
      "authorship_tag": "ABX9TyNOhxuZU0tsYQS7rdQdtlu5"
    },
    "kernelspec": {
      "name": "python3",
      "display_name": "Python 3"
    },
    "language_info": {
      "name": "python"
    }
  },
  "cells": [
    {
      "cell_type": "markdown",
      "source": [
        "문자열이 숫자인지 파악하는 isdigit()함수를 사용하고 길이가 4 또는 6이 아닌 것을 파악해주면 된다."
      ],
      "metadata": {
        "id": "Uf876WAdoWU2"
      }
    },
    {
      "cell_type": "code",
      "execution_count": null,
      "metadata": {
        "id": "yeobpoOtmfOS"
      },
      "outputs": [],
      "source": [
        "def solution(s):\n",
        "    answer = True\n",
        "    if s.isdigit() == False:\n",
        "        answer = False\n",
        "    if len(s)!=4 and len(s)!=6:\n",
        "        answer = False\n",
        "    return answer"
      ]
    }
  ]
}