{
  "nbformat": 4,
  "nbformat_minor": 0,
  "metadata": {
    "colab": {
      "provenance": [],
      "collapsed_sections": [],
      "authorship_tag": "ABX9TyO2z132E/RCEPOZwaOkzaRM",
      "include_colab_link": true
    },
    "kernelspec": {
      "name": "python3",
      "display_name": "Python 3"
    },
    "language_info": {
      "name": "python"
    }
  },
  "cells": [
    {
      "cell_type": "markdown",
      "metadata": {
        "id": "view-in-github",
        "colab_type": "text"
      },
      "source": [
        "<a href=\"https://colab.research.google.com/github/max1496/algorithm/blob/master/%EB%B0%B1%EC%A4%80_14889%EB%B2%88.ipynb\" target=\"_parent\"><img src=\"https://colab.research.google.com/assets/colab-badge.svg\" alt=\"Open In Colab\"/></a>"
      ]
    },
    {
      "cell_type": "code",
      "execution_count": null,
      "metadata": {
        "id": "vkCUJIZ2bCkG"
      },
      "outputs": [],
      "source": [
        "def ii(depth,index):\n",
        "    global minva\n",
        "    if depth==n//2:\n",
        "        num1,num2=0,0\n",
        "        for i in range(n):\n",
        "            for j in range(n):\n",
        "                if visited[i] and visited[j]:\n",
        "                    num1+=g[i][j]\n",
        "                elif not visited[i] and not visited[j]:\n",
        "                    num2+=g[i][j]\n",
        "        minva = min(minva,abs(num1-num2))\n",
        "        return\n",
        "    \n",
        "    for p in range(index,n):\n",
        "        if not visited[p]:\n",
        "            visited[p]=1\n",
        "            ii(depth+1,p+1)\n",
        "            visited[p]=0\n",
        "\n",
        "\n",
        "n=int(input())\n",
        "visited=[0]*n\n",
        "g=[list(map(int,input().split())) for _ in range(n)]\n",
        "minva=int(1e9)\n",
        "\n",
        "ii(0,0)\n",
        "print(minva)\n",
        "\n",
        "#minva = minvalue"
      ]
    }
  ]
}