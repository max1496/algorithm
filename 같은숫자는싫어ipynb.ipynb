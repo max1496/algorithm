{
  "nbformat": 4,
  "nbformat_minor": 0,
  "metadata": {
    "colab": {
      "name": "같은숫자는싫어ipynb",
      "provenance": [],
      "collapsed_sections": [],
      "authorship_tag": "ABX9TyMkX7WMkGCB3DxzrUXb481z"
    },
    "kernelspec": {
      "name": "python3",
      "display_name": "Python 3"
    },
    "language_info": {
      "name": "python"
    }
  },
  "cells": [
    {
      "cell_type": "markdown",
      "source": [
        "공간 a를 추가하지 않고 arr만으로 중복을 체크하고 다시 중복을 제거하면 효율성 테스트에서 떨어졌다.\n",
        "\n",
        "그래서 a에 추가하는식으로 했다."
      ],
      "metadata": {
        "id": "7_2O4cEm758i"
      }
    },
    {
      "cell_type": "code",
      "execution_count": null,
      "metadata": {
        "id": "Fm1xC2m1DPUR"
      },
      "outputs": [],
      "source": [
        "def solution(arr):\n",
        "    answer = []\n",
        "    a=[]\n",
        "    for i in range(len(arr)-1):\n",
        "        if arr[i]!=arr[i+1]:        #같지 않다면\n",
        "            a.append(arr[i])        #a에 append\n",
        "    a.append(arr[-1])       #마지막 원소 append\n",
        "    # for i in range(len(arr)):\n",
        "    #     if -1 in arr:\n",
        "    #         arr.remove(-1)\n",
        "    #     else:\n",
        "    #         break     다시 한번 for문을 돌리면 효율성 테스트에 떨어진다\n",
        "    answer=a\n",
        "    return answer"
      ]
    }
  ]
}