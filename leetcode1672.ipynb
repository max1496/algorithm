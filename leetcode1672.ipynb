{
  "nbformat": 4,
  "nbformat_minor": 0,
  "metadata": {
    "colab": {
      "name": "leetcode1672.ipynb",
      "provenance": [],
      "authorship_tag": "ABX9TyP3FHYslC79Oxr8B5QDIPNE",
      "include_colab_link": true
    },
    "kernelspec": {
      "name": "python3",
      "display_name": "Python 3"
    },
    "language_info": {
      "name": "python"
    }
  },
  "cells": [
    {
      "cell_type": "markdown",
      "metadata": {
        "id": "view-in-github",
        "colab_type": "text"
      },
      "source": [
        "<a href=\"https://colab.research.google.com/github/max1496/algorithm/blob/master/leetcode1672.ipynb\" target=\"_parent\"><img src=\"https://colab.research.google.com/assets/colab-badge.svg\" alt=\"Open In Colab\"/></a>"
      ]
    },
    {
      "cell_type": "markdown",
      "source": [
        "배열 안의 배열의 sum이 최대인 인덱스를 찾는 문제\n",
        "\n",
        "파이썬 풀이"
      ],
      "metadata": {
        "id": "kj6Pip4KGmGp"
      }
    },
    {
      "cell_type": "code",
      "execution_count": null,
      "metadata": {
        "id": "dMp0Di7mADEu"
      },
      "outputs": [],
      "source": [
        "class Solution:\n",
        "    def maximumWealth(self, accounts: List[List[int]]) -> int:\n",
        "        x=0\n",
        "        for i in range(len(accounts)):\n",
        "            x=max(x, sum(accounts[i]))\n",
        "        return x"
      ]
    },
    {
      "cell_type": "markdown",
      "source": [
        "스위프트 풀이"
      ],
      "metadata": {
        "id": "bfA260otGpI6"
      }
    },
    {
      "cell_type": "markdown",
      "source": [
        "class Solution {\n",
        "    func maximumWealth(_ accounts: [[Int]]) -> Int {\n",
        "        var a = [Int]()\n",
        "        \n",
        "        for i in 0..<accounts.count{\n",
        "            var x = 0\n",
        "            for j in 0..<accounts[i].count{\n",
        "                x+=accounts[i][j]\n",
        "            }\n",
        "            a.append(x)\n",
        "        }\n",
        "        return a.max()!\n",
        "    }\n",
        "}"
      ],
      "metadata": {
        "id": "6r8TAMPUGqno"
      }
    }
  ]
}