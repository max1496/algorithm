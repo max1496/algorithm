{
  "nbformat": 4,
  "nbformat_minor": 0,
  "metadata": {
    "colab": {
      "name": "백준 1181번",
      "provenance": [],
      "collapsed_sections": [],
      "authorship_tag": "ABX9TyPbOdybpMZmKZAeQ7zJJev3",
      "include_colab_link": true
    },
    "kernelspec": {
      "name": "python3",
      "display_name": "Python 3"
    },
    "language_info": {
      "name": "python"
    }
  },
  "cells": [
    {
      "cell_type": "markdown",
      "metadata": {
        "id": "view-in-github",
        "colab_type": "text"
      },
      "source": [
        "<a href=\"https://colab.research.google.com/github/max1496/algorithm/blob/master/%EB%B0%B1%EC%A4%80_1181%EB%B2%88.ipynb\" target=\"_parent\"><img src=\"https://colab.research.google.com/assets/colab-badge.svg\" alt=\"Open In Colab\"/></a>"
      ]
    },
    {
      "cell_type": "code",
      "execution_count": null,
      "metadata": {
        "id": "Wc9AtF9nWt5-"
      },
      "outputs": [],
      "source": [
        "n=int(input())\n",
        "a=[]\n",
        "for _ in range(n):\n",
        "    a.append(input())\n",
        "set_a=set(a)\n",
        "a=list(set_a)\n",
        "a.sort()\n",
        "a.sort(key=len)\n",
        "for i in a:\n",
        "    print(i)\n"
      ]
    }
  ]
}