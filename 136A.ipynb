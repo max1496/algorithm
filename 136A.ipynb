{
  "nbformat": 4,
  "nbformat_minor": 0,
  "metadata": {
    "colab": {
      "name": "136A.ipynb",
      "provenance": [],
      "collapsed_sections": [],
      "authorship_tag": "ABX9TyNOks/9WpdHmYEzF3iSpSBB",
      "include_colab_link": true
    },
    "kernelspec": {
      "name": "python3",
      "display_name": "Python 3"
    },
    "language_info": {
      "name": "python"
    }
  },
  "cells": [
    {
      "cell_type": "markdown",
      "metadata": {
        "id": "view-in-github",
        "colab_type": "text"
      },
      "source": [
        "<a href=\"https://colab.research.google.com/github/max1496/algorithm/blob/master/136A.ipynb\" target=\"_parent\"><img src=\"https://colab.research.google.com/assets/colab-badge.svg\" alt=\"Open In Colab\"/></a>"
      ]
    },
    {
      "cell_type": "code",
      "execution_count": null,
      "metadata": {
        "id": "n2qsuDG_qPz3"
      },
      "outputs": [],
      "source": [
        "n = int(input())\n",
        "arr = list(map(int, input().split()))\n",
        "field= [0]*105\n",
        "a=[]\n",
        "for i,v in enumerate(arr):\n",
        "    field[v]=i+1\n",
        "for j in range(n):\n",
        "    a.append(str(field[j+1]))\n",
        "print(\" \".join(a))"
      ]
    },
    {
      "cell_type": "markdown",
      "source": [
        "총 100개의 인덱스를 가질 수 있다고 문제에 언급돼 있으니, 넉넉히 105개짜리 field배열을\n",
        "\n",
        "만들어준다. (역인덱스를 저장할 배열)\n",
        "\n",
        "파이썬에는 enumerate기능이 있어 너무나 쉽게 i가 인덱스 v가 값이라면 v를 인덱스로,\n",
        "\n",
        "i를 값으로 하는 역참조를 할 수 있다. 단, 숫자들이 가리키는 것은 인덱스보다 1큰 숫자임으로\n",
        "\n",
        "값에다 1을 더해줘야한다."
      ],
      "metadata": {
        "id": "KxLE7TBhv7wV"
      }
    }
  ]
}