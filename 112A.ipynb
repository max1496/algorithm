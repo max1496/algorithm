{
  "nbformat": 4,
  "nbformat_minor": 0,
  "metadata": {
    "colab": {
      "name": "112A.ipynb",
      "provenance": [],
      "collapsed_sections": [],
      "authorship_tag": "ABX9TyOTHQJRFlJr3p45tCzyhf2+",
      "include_colab_link": true
    },
    "kernelspec": {
      "name": "python3",
      "display_name": "Python 3"
    },
    "language_info": {
      "name": "python"
    }
  },
  "cells": [
    {
      "cell_type": "markdown",
      "metadata": {
        "id": "view-in-github",
        "colab_type": "text"
      },
      "source": [
        "<a href=\"https://colab.research.google.com/github/max1496/algorithm/blob/master/112A.ipynb\" target=\"_parent\"><img src=\"https://colab.research.google.com/assets/colab-badge.svg\" alt=\"Open In Colab\"/></a>"
      ]
    },
    {
      "cell_type": "code",
      "execution_count": null,
      "metadata": {
        "id": "AtAknxLJl56M"
      },
      "outputs": [],
      "source": [
        "a=input().lower()\n",
        "b= input().lower()\n",
        "\n",
        "if a==b:\n",
        "    print(0)\n",
        "elif a<b:\n",
        "    print(-1)\n",
        "else:\n",
        "    print(1)"
      ]
    },
    {
      "cell_type": "markdown",
      "source": [
        "두 스트링이 주어졌을때, 대문자 소문자 상관없이 사전식 순서가\n",
        "\n",
        "같으면 0, 빠르면 -1, 느리면 1을 출력하는 것이다.\n",
        "\n",
        "즉, 두 스트링 모두 소문자로 바꾸는 lower()함수를 이용한 후\n",
        "\n",
        "다시 스트링에 저장한 뒤 문자 그대로 비교하면 된다."
      ],
      "metadata": {
        "id": "7FSQJTGpmjDr"
      }
    }
  ]
}