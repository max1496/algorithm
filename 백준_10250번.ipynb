{
  "nbformat": 4,
  "nbformat_minor": 0,
  "metadata": {
    "colab": {
      "name": "백준 10250번",
      "provenance": [],
      "authorship_tag": "ABX9TyPTc0NwvG73+MEMQUl1UcNQ",
      "include_colab_link": true
    },
    "kernelspec": {
      "name": "python3",
      "display_name": "Python 3"
    },
    "language_info": {
      "name": "python"
    }
  },
  "cells": [
    {
      "cell_type": "markdown",
      "metadata": {
        "id": "view-in-github",
        "colab_type": "text"
      },
      "source": [
        "<a href=\"https://colab.research.google.com/github/max1496/algorithm/blob/master/%EB%B0%B1%EC%A4%80_10250%EB%B2%88.ipynb\" target=\"_parent\"><img src=\"https://colab.research.google.com/assets/colab-badge.svg\" alt=\"Open In Colab\"/></a>"
      ]
    },
    {
      "cell_type": "code",
      "execution_count": null,
      "metadata": {
        "id": "s4IRI2Jpru85"
      },
      "outputs": [],
      "source": [
        "a = int(input())\n",
        "for i in range(a):\n",
        "    h,w,n = map(int, input().split())\n",
        "    floor = 0  \n",
        "    rn = 0\n",
        "    if n%h == 0:\n",
        "        floor = h*100\n",
        "        rn = n//h\n",
        "    else:\n",
        "        floor = (n%h)*100\n",
        "        rn = n//h+1\n",
        "    print(floor + rn)"
      ]
    }
  ]
}