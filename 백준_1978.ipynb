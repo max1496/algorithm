{
  "nbformat": 4,
  "nbformat_minor": 0,
  "metadata": {
    "colab": {
      "name": "백준 1978",
      "provenance": [],
      "authorship_tag": "ABX9TyOEM0DoDY2bKfJNvnWDvSfD",
      "include_colab_link": true
    },
    "kernelspec": {
      "name": "python3",
      "display_name": "Python 3"
    },
    "language_info": {
      "name": "python"
    }
  },
  "cells": [
    {
      "cell_type": "markdown",
      "metadata": {
        "id": "view-in-github",
        "colab_type": "text"
      },
      "source": [
        "<a href=\"https://colab.research.google.com/github/max1496/algorithm/blob/master/%EB%B0%B1%EC%A4%80_1978.ipynb\" target=\"_parent\"><img src=\"https://colab.research.google.com/assets/colab-badge.svg\" alt=\"Open In Colab\"/></a>"
      ]
    },
    {
      "cell_type": "code",
      "execution_count": 20,
      "metadata": {
        "colab": {
          "base_uri": "https://localhost:8080/"
        },
        "id": "zqc9NRINZJ8K",
        "outputId": "ff1ed188-04b3-4212-a788-fd0439dce5cf"
      },
      "outputs": [
        {
          "output_type": "stream",
          "name": "stdout",
          "text": [
            "3\n",
            "1 3 6\n",
            "1\n"
          ]
        }
      ],
      "source": [
        "n = int(input())\n",
        "a = list(map(int, input().split()))\n",
        "b=[0]*5000\n",
        "b[0]=1\n",
        "b[1]=1\n",
        "cnt=0\n",
        "for i in range(2,max(a)-1):\n",
        "    for j in range(2,max(a)//i+1):\n",
        "        b[i*j]=1\n",
        "for k in range(n):\n",
        "    if b[a[k]]==0:\n",
        "        cnt+=1\n",
        "print(cnt)"
      ]
    }
  ]
}