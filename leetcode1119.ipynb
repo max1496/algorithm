{
  "nbformat": 4,
  "nbformat_minor": 0,
  "metadata": {
    "colab": {
      "name": "leetcode1119.ipynb",
      "provenance": [],
      "collapsed_sections": [],
      "authorship_tag": "ABX9TyN2kX8Dbdf31InYWNsuo3DR",
      "include_colab_link": true
    },
    "kernelspec": {
      "name": "python3",
      "display_name": "Python 3"
    },
    "language_info": {
      "name": "python"
    }
  },
  "cells": [
    {
      "cell_type": "markdown",
      "metadata": {
        "id": "view-in-github",
        "colab_type": "text"
      },
      "source": [
        "<a href=\"https://colab.research.google.com/github/max1496/algorithm/blob/master/leetcode1119.ipynb\" target=\"_parent\"><img src=\"https://colab.research.google.com/assets/colab-badge.svg\" alt=\"Open In Colab\"/></a>"
      ]
    },
    {
      "cell_type": "markdown",
      "source": [
        "파이썬으로는 그냥 전부다 탐색하면서 해당되는 vowels를 배열에 담고 담긴 애들을 주어진 s에서 지워주면 되는데\n",
        "\n",
        "스위프트는 removeAll이라는 새로운 메소드를 써서 까다롭지만 배울게 많았다. (contains랑 $0도)"
      ],
      "metadata": {
        "id": "97ylIX6-5zCy"
      }
    },
    {
      "cell_type": "markdown",
      "source": [
        "파이썬 코드"
      ],
      "metadata": {
        "id": "9rSRJJVD572h"
      }
    },
    {
      "cell_type": "code",
      "source": [
        "class Solution:\n",
        "    def removeVowels(self, s: str) -> str:\n",
        "        arr=[]\n",
        "        for i in range(len(s)):\n",
        "            if s[i] == \"a\" or s[i] == \"e\" or s[i] == \"i\" or s[i] == \"o\" or s[i] == \"u\":\n",
        "                continue\n",
        "            else:\n",
        "                arr.append(s[i])\n",
        "        return \"\".join(arr)"
      ],
      "metadata": {
        "id": "F7bcZad65zb-"
      },
      "execution_count": null,
      "outputs": []
    },
    {
      "cell_type": "markdown",
      "source": [
        "스위프트 코드"
      ],
      "metadata": {
        "id": "I_JIJLUW5_0r"
      }
    },
    {
      "cell_type": "markdown",
      "source": [
        "class Solution {\n",
        "    func removeVowels(_ s: String) -> String {\n",
        "        var a = s\n",
        "        let vowels : Set<Character> = [\"a\", \"e\", \"i\", \"o\", \"u\"]\n",
        "        a.removeAll(where: {vowels.contains($0)})\n",
        "        return a\n",
        "    }\n",
        "}"
      ],
      "metadata": {
        "id": "HL9mgmRZ6Faw"
      }
    }
  ]
}