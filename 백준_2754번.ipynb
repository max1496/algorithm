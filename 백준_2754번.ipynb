{
  "nbformat": 4,
  "nbformat_minor": 0,
  "metadata": {
    "colab": {
      "name": "백준 2754번",
      "provenance": [],
      "collapsed_sections": [],
      "authorship_tag": "ABX9TyMSIgHKMg3Uac0Eu3RXFnzm",
      "include_colab_link": true
    },
    "kernelspec": {
      "name": "python3",
      "display_name": "Python 3"
    },
    "language_info": {
      "name": "python"
    }
  },
  "cells": [
    {
      "cell_type": "markdown",
      "metadata": {
        "id": "view-in-github",
        "colab_type": "text"
      },
      "source": [
        "<a href=\"https://colab.research.google.com/github/max1496/algorithm/blob/master/%EB%B0%B1%EC%A4%80_2754%EB%B2%88.ipynb\" target=\"_parent\"><img src=\"https://colab.research.google.com/assets/colab-badge.svg\" alt=\"Open In Colab\"/></a>"
      ]
    },
    {
      "cell_type": "code",
      "execution_count": null,
      "metadata": {
        "id": "kCQ-zivC_sZr"
      },
      "outputs": [],
      "source": [
        "score = input()\n",
        "result = 0\n",
        "\n",
        "if score[0] =='A':\n",
        "    result += 4\n",
        "elif score[0] =='B':\n",
        "    result += 3\n",
        "elif score[0] =='C':\n",
        "    result += 2\n",
        "elif score[0] =='D':\n",
        "    result += 1\n",
        "\n",
        "if score =='F':\n",
        "    result = 0\n",
        "elif score[1] =='+':\n",
        "    result += 0.3\n",
        "elif score[1] =='-':\n",
        "    result -= 0.3\n",
        "\n",
        "print(float(result))"
      ]
    },
    {
      "cell_type": "markdown",
      "source": [
        ""
      ],
      "metadata": {
        "id": "Lb_-zZgQGD81"
      }
    }
  ]
}