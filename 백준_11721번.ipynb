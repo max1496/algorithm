{
  "nbformat": 4,
  "nbformat_minor": 0,
  "metadata": {
    "colab": {
      "name": "백준 11721번",
      "provenance": [],
      "collapsed_sections": [],
      "authorship_tag": "ABX9TyP/9Gd+1IMKogzzurhpcfrb",
      "include_colab_link": true
    },
    "kernelspec": {
      "name": "python3",
      "display_name": "Python 3"
    },
    "language_info": {
      "name": "python"
    }
  },
  "cells": [
    {
      "cell_type": "markdown",
      "metadata": {
        "id": "view-in-github",
        "colab_type": "text"
      },
      "source": [
        "<a href=\"https://colab.research.google.com/github/max1496/algorithm/blob/master/%EB%B0%B1%EC%A4%80_11721%EB%B2%88.ipynb\" target=\"_parent\"><img src=\"https://colab.research.google.com/assets/colab-badge.svg\" alt=\"Open In Colab\"/></a>"
      ]
    },
    {
      "cell_type": "code",
      "execution_count": 2,
      "metadata": {
        "colab": {
          "base_uri": "https://localhost:8080/"
        },
        "id": "tlXjqK0jpsXd",
        "outputId": "6239f739-9984-4ff1-e3d8-72a06fd41d75"
      },
      "outputs": [
        {
          "output_type": "stream",
          "name": "stdout",
          "text": [
            "OneTwoThreeFourFiveSixSevenEightNineTen\n",
            "OneTwoThre\n",
            "eFourFiveS\n",
            "ixSevenEig\n",
            "htNineTen\n"
          ]
        }
      ],
      "source": [
        "a=input()\n",
        "for i in range(0, len(a), 10):\n",
        "    print(a[i:i+10])"
      ]
    }
  ]
}