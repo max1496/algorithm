{
  "nbformat": 4,
  "nbformat_minor": 0,
  "metadata": {
    "colab": {
      "name": "백준 11651번",
      "provenance": [],
      "collapsed_sections": [],
      "authorship_tag": "ABX9TyMQZh9trU+gZ5rMXpOD2neI",
      "include_colab_link": true
    },
    "kernelspec": {
      "name": "python3",
      "display_name": "Python 3"
    },
    "language_info": {
      "name": "python"
    }
  },
  "cells": [
    {
      "cell_type": "markdown",
      "metadata": {
        "id": "view-in-github",
        "colab_type": "text"
      },
      "source": [
        "<a href=\"https://colab.research.google.com/github/max1496/algorithm/blob/master/%EB%B0%B1%EC%A4%80_11651%EB%B2%88.ipynb\" target=\"_parent\"><img src=\"https://colab.research.google.com/assets/colab-badge.svg\" alt=\"Open In Colab\"/></a>"
      ]
    },
    {
      "cell_type": "code",
      "execution_count": null,
      "metadata": {
        "id": "l0fRLzVKLsMN"
      },
      "outputs": [],
      "source": [
        "n=int(input())\n",
        "a=[]\n",
        "for _ in range(n):\n",
        "    a.append(list(map(int, input().split())))\n",
        "a.sort(key=lambda x:(x[1], x[0]))\n",
        "for i in range(n):\n",
        "    print(a[i][0],a[i][1])"
      ]
    }
  ]
}