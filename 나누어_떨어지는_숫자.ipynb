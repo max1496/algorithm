{
  "nbformat": 4,
  "nbformat_minor": 0,
  "metadata": {
    "colab": {
      "name": "나누어 떨어지는 숫자.ipynb",
      "provenance": [],
      "collapsed_sections": [],
      "authorship_tag": "ABX9TyNvuuKG+qWwqZqKouMJAecX"
    },
    "kernelspec": {
      "name": "python3",
      "display_name": "Python 3"
    },
    "language_info": {
      "name": "python"
    }
  },
  "cells": [
    {
      "cell_type": "markdown",
      "source": [
        "완전 탐색으로 나누어 떨어지는지 확인하고 정답이 있으면 정답을, 아니면 -1을 리턴한다."
      ],
      "metadata": {
        "id": "lEateh2SSQKL"
      }
    },
    {
      "cell_type": "code",
      "execution_count": null,
      "metadata": {
        "id": "adwtTiXu9Wm3"
      },
      "outputs": [],
      "source": [
        "def solution(arr, divisor):\n",
        "    answer = []\n",
        "    for i in range(len(arr)):\n",
        "        if arr[i]%divisor==0:       #나눠 떨어지면\n",
        "            answer.append(arr[i])\n",
        "    if answer:      #답이 존재할 경우\n",
        "        answer.sort()\n",
        "    else:       #없을 경우\n",
        "        answer.append(-1)\n",
        "    return answer"
      ]
    }
  ]
}