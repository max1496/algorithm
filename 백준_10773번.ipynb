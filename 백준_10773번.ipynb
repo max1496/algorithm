{
  "nbformat": 4,
  "nbformat_minor": 0,
  "metadata": {
    "colab": {
      "name": "백준 10773번",
      "provenance": [],
      "collapsed_sections": [],
      "authorship_tag": "ABX9TyOAC9+yO3Noh9x8HmQ1w8At",
      "include_colab_link": true
    },
    "kernelspec": {
      "name": "python3",
      "display_name": "Python 3"
    },
    "language_info": {
      "name": "python"
    }
  },
  "cells": [
    {
      "cell_type": "markdown",
      "metadata": {
        "id": "view-in-github",
        "colab_type": "text"
      },
      "source": [
        "<a href=\"https://colab.research.google.com/github/max1496/algorithm/blob/master/%EB%B0%B1%EC%A4%80_10773%EB%B2%88.ipynb\" target=\"_parent\"><img src=\"https://colab.research.google.com/assets/colab-badge.svg\" alt=\"Open In Colab\"/></a>"
      ]
    },
    {
      "cell_type": "code",
      "execution_count": 2,
      "metadata": {
        "colab": {
          "base_uri": "https://localhost:8080/"
        },
        "id": "TBTLyPtuE7_o",
        "outputId": "ab3383d2-1387-4595-9aaf-73dbd5e12bb6"
      },
      "outputs": [
        {
          "output_type": "stream",
          "name": "stdout",
          "text": [
            "4\n",
            "1\n",
            "2\n",
            "0\n",
            "3\n",
            "4\n"
          ]
        }
      ],
      "source": [
        "from collections import deque\n",
        "n=int(input())\n",
        "a=[]\n",
        "arr=deque()\n",
        "for _ in range(n):\n",
        "    a.append(int(input()))\n",
        "for i in a:\n",
        "    if i==0:\n",
        "        arr.pop()\n",
        "    else:\n",
        "        arr.append(i)\n",
        "print(sum(arr))"
      ]
    }
  ]
}