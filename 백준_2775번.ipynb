{
  "nbformat": 4,
  "nbformat_minor": 0,
  "metadata": {
    "colab": {
      "name": "백준 2775번",
      "provenance": [],
      "collapsed_sections": [],
      "authorship_tag": "ABX9TyOV4ryN/U0fIP7B+imEb13o",
      "include_colab_link": true
    },
    "kernelspec": {
      "name": "python3",
      "display_name": "Python 3"
    },
    "language_info": {
      "name": "python"
    }
  },
  "cells": [
    {
      "cell_type": "markdown",
      "metadata": {
        "id": "view-in-github",
        "colab_type": "text"
      },
      "source": [
        "<a href=\"https://colab.research.google.com/github/max1496/algorithm/blob/master/%EB%B0%B1%EC%A4%80_2775%EB%B2%88.ipynb\" target=\"_parent\"><img src=\"https://colab.research.google.com/assets/colab-badge.svg\" alt=\"Open In Colab\"/></a>"
      ]
    },
    {
      "cell_type": "code",
      "execution_count": 12,
      "metadata": {
        "colab": {
          "base_uri": "https://localhost:8080/"
        },
        "id": "lboGECFLfQSR",
        "outputId": "a36d5147-7a66-4872-b5b5-cddce56c23ce"
      },
      "outputs": [
        {
          "output_type": "stream",
          "name": "stdout",
          "text": [
            "1\n",
            "3\n",
            "3\n",
            "[0, 1, 2]\n"
          ]
        }
      ],
      "source": [
        "n= int(input())     # 실행 횟수\n",
        "\n",
        "for _ in range(n):      # n번째 실행\n",
        "    f = int(input())    #층\n",
        "    a = int(input())    #호수\n",
        "    f0 = [x for x in range(1, a+1)] #0층 초기화\n",
        "    for i in range(f):  #1층부터 f-1층까지 (0층부터 이므로)\n",
        "        for j in range(1,a):    #0~a-1 호 까지 계속 갱신 (실제로는 1~a호 편의를 위해.)\n",
        "            f0[j]= f0[j]+f0[j-1]    # main 점화식 \n",
        "    print(f0[-1])   #f-1층의 a호의 사람 출력"
      ]
    }
  ]
}