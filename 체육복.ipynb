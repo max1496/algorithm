{
  "nbformat": 4,
  "nbformat_minor": 0,
  "metadata": {
    "colab": {
      "name": "체육복.ipynb",
      "provenance": [],
      "collapsed_sections": [],
      "authorship_tag": "ABX9TyNAWxC/+fAj/0wAKrna/+pz"
    },
    "kernelspec": {
      "name": "python3",
      "display_name": "Python 3"
    },
    "language_info": {
      "name": "python"
    }
  },
  "cells": [
    {
      "cell_type": "markdown",
      "source": [
        "이 문제의 경우 풀이는 매우 간단하나 딱 풀이를 떠올려서 구현하기가 너무 힘들다.\n",
        "\n",
        "그리고 왼쪽에 있는 학생한테 먼저 빌려줘야 하는것도 키포인트"
      ],
      "metadata": {
        "id": "EXl7gP2r7OZU"
      }
    },
    {
      "cell_type": "code",
      "execution_count": null,
      "metadata": {
        "id": "oA6fO7XL7D0N"
      },
      "outputs": [],
      "source": [
        "def solution(n, lost, reserve):\n",
        "    \n",
        "    a= set(lost)-set(reserve)    \n",
        "    b= set(reserve)-set(lost)   #lost와 reserve 중복제거\n",
        "    for i in b:     #체육복을 빌려줄 수 있을 때\n",
        "        if i-1 in a:    #그 전 번호부터 확인해 봐야한다. 빌려줄 수 있을 때.\n",
        "            a.remove(i-1)\n",
        "        elif i+1 in a:  #그 다음 번호한테 빌려줄 수 있을 때\n",
        "            a.remove(i+1)\n",
        "\n",
        "    \n",
        "    return n-len(a)"
      ]
    }
  ]
}