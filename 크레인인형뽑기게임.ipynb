{
  "nbformat": 4,
  "nbformat_minor": 0,
  "metadata": {
    "colab": {
      "name": "크레인인형뽑기게임.ipynb",
      "provenance": [],
      "collapsed_sections": [],
      "authorship_tag": "ABX9TyPdixVNOiJYWZ5zgFI80cly"
    },
    "kernelspec": {
      "name": "python3",
      "display_name": "Python 3"
    },
    "language_info": {
      "name": "python"
    }
  },
  "cells": [
    {
      "cell_type": "markdown",
      "source": [
        "처음엔 시간 초과가 나왔다. 그래서 위의 이중 for문 내에서 조건을 걸어 모두 처리하려 했고 성공했다."
      ],
      "metadata": {
        "id": "dN6_KCq6rp3m"
      }
    },
    {
      "cell_type": "code",
      "execution_count": 1,
      "metadata": {
        "colab": {
          "base_uri": "https://localhost:8080/"
        },
        "id": "UsB4K9iAcoEn",
        "outputId": "b245faf9-963c-43d8-d311-2492c949ad63"
      },
      "outputs": [
        {
          "output_type": "stream",
          "name": "stdout",
          "text": [
            "[1, 2]\n"
          ]
        }
      ],
      "source": [
        "def solution(board, moves):\n",
        "    answer = 0\n",
        "    a=[]        #바구니 배열\n",
        "    cnt=0       #1개도 꺼내지 않는 경우\n",
        "    for i in moves:\n",
        "        for j in range(len(board[i-1])):\n",
        "            if board[j][i-1]==0:        #꺼내려는 칸이 비어있을 때\n",
        "                if j==len(board[0])-1:\n",
        "                    cnt+=1      #꺼내려는 마지막 칸이 비어있을 떄\n",
        "                continue        #꺼내려는 칸이 비어있을 때 continue\n",
        "            else:\n",
        "                a.append(board[j][i-1])     #케릭터가 있으면 바구니에 담기\n",
        "                board[j][i-1]=0     #해당 배열 값은 0으로 바꿔줘서 다시 선택이 안되게끔 함.\n",
        "                if len(a)==1:       \n",
        "                    \n",
        "                    break\n",
        "                elif a[-1]==a[-2]:      #두 숫자가 같으면\n",
        "                    if len(a)>2:        \n",
        "                        a=a[:-2]\n",
        "                    else:\n",
        "                        a=[]        #길이에 따라 처리\n",
        "                    \n",
        "                break\n",
        "    return len(moves)-len(a)-cnt        #사라진 케릭터의 개수\n",
        "    # s=a[:]\n",
        "    # print(s)\n",
        "    # while True:\n",
        "    #     for i in range(len(a)-1):\n",
        "    #         flag = True\n",
        "    #         if a[i]==a[i+1]:\n",
        "    #             del a[i+1]\n",
        "    #             del a[i]\n",
        "    #             flag = False\n",
        "    #             break\n",
        "    #     if flag:\n",
        "    #         break\n",
        "    # print(s)\n",
        "    # print(a)\n",
        "    # return len(s)-len(a)\n",
        "    \n",
        "    # while for문으로 한번더 처리를 하는 걸로 하니 시간초과 2개 났음 ㅠ.ㅠ"
      ]
    }
  ]
}