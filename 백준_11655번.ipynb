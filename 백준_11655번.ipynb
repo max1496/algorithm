{
  "nbformat": 4,
  "nbformat_minor": 0,
  "metadata": {
    "colab": {
      "name": "백준 11655번",
      "provenance": [],
      "collapsed_sections": [],
      "authorship_tag": "ABX9TyNeK5vExC2MMCOC9XsdAc4c",
      "include_colab_link": true
    },
    "kernelspec": {
      "name": "python3",
      "display_name": "Python 3"
    },
    "language_info": {
      "name": "python"
    }
  },
  "cells": [
    {
      "cell_type": "markdown",
      "metadata": {
        "id": "view-in-github",
        "colab_type": "text"
      },
      "source": [
        "<a href=\"https://colab.research.google.com/github/max1496/algorithm/blob/master/%EB%B0%B1%EC%A4%80_11655%EB%B2%88.ipynb\" target=\"_parent\"><img src=\"https://colab.research.google.com/assets/colab-badge.svg\" alt=\"Open In Colab\"/></a>"
      ]
    },
    {
      "cell_type": "code",
      "execution_count": 3,
      "metadata": {
        "colab": {
          "base_uri": "https://localhost:8080/"
        },
        "id": "gNL3XFzapgHA",
        "outputId": "91abe7b0-e553-48fb-90cb-02828811f46b"
      },
      "outputs": [
        {
          "output_type": "stream",
          "name": "stdout",
          "text": [
            "One is 1\n",
            "Bar vf 1\n"
          ]
        }
      ],
      "source": [
        "a= input()\n",
        "answer=[]\n",
        "for i in a:\n",
        "    if i ==\" \":\n",
        "        answer.append(i)\n",
        "        continue\n",
        "    elif 47<ord(i)<58:\n",
        "        answer.append(i)\n",
        "    else:\n",
        "        if 77<ord(i)+13<91 or 109<ord(i)+13<123:\n",
        "            answer.append(chr(ord(i)+13))\n",
        "        else:\n",
        "            answer.append(chr(ord(i)-13))\n",
        "print(\"\".join(answer))"
      ]
    }
  ]
}