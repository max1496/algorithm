{
  "nbformat": 4,
  "nbformat_minor": 0,
  "metadata": {
    "colab": {
      "name": "백준 11047번",
      "provenance": [],
      "collapsed_sections": [],
      "authorship_tag": "ABX9TyO5jzSzR1aen4EqxUQo9CdL",
      "include_colab_link": true
    },
    "kernelspec": {
      "name": "python3",
      "display_name": "Python 3"
    },
    "language_info": {
      "name": "python"
    }
  },
  "cells": [
    {
      "cell_type": "markdown",
      "metadata": {
        "id": "view-in-github",
        "colab_type": "text"
      },
      "source": [
        "<a href=\"https://colab.research.google.com/github/max1496/algorithm/blob/master/%EB%B0%B1%EC%A4%80_11047%EB%B2%88.ipynb\" target=\"_parent\"><img src=\"https://colab.research.google.com/assets/colab-badge.svg\" alt=\"Open In Colab\"/></a>"
      ]
    },
    {
      "cell_type": "code",
      "execution_count": null,
      "metadata": {
        "id": "rlfCJ5C4ZOqA"
      },
      "outputs": [],
      "source": [
        "n,k = map(int, input().split())\n",
        "a=[]\n",
        "cnt=0\n",
        "for _ in range(n):\n",
        "    a.append(int(input()))\n",
        "a.sort(reverse=True)\n",
        "for i in range(n):\n",
        "    cnt+= k//a[i]\n",
        "    k%=a[i]\n",
        "print(cnt)"
      ]
    }
  ]
}