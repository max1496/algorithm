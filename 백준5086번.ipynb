{
  "nbformat": 4,
  "nbformat_minor": 0,
  "metadata": {
    "colab": {
      "name": "백준5086번",
      "provenance": [],
      "collapsed_sections": [],
      "authorship_tag": "ABX9TyOpXavHmCyDEchoIsiyqJSm",
      "include_colab_link": true
    },
    "kernelspec": {
      "name": "python3",
      "display_name": "Python 3"
    },
    "language_info": {
      "name": "python"
    }
  },
  "cells": [
    {
      "cell_type": "markdown",
      "metadata": {
        "id": "view-in-github",
        "colab_type": "text"
      },
      "source": [
        "<a href=\"https://colab.research.google.com/github/max1496/algorithm/blob/master/%EB%B0%B1%EC%A4%805086%EB%B2%88.ipynb\" target=\"_parent\"><img src=\"https://colab.research.google.com/assets/colab-badge.svg\" alt=\"Open In Colab\"/></a>"
      ]
    },
    {
      "cell_type": "code",
      "execution_count": null,
      "metadata": {
        "id": "Y3MyLVWepQSB"
      },
      "outputs": [],
      "source": [
        "while True:\n",
        "    a,b = map(int,input().split())\n",
        "    if a+b==0:\n",
        "        break\n",
        "    if b%a==0:\n",
        "        print(\"factor\")\n",
        "    elif a%b==0:\n",
        "        print(\"multiple\")\n",
        "    else:\n",
        "        print(\"neither\")"
      ]
    }
  ]
}