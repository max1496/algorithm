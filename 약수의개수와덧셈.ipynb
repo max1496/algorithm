{
  "nbformat": 4,
  "nbformat_minor": 0,
  "metadata": {
    "colab": {
      "name": "약수의개수와덧셈.ipynb",
      "provenance": [],
      "collapsed_sections": [],
      "authorship_tag": "ABX9TyMFRH6YwAW9xqkt+mrxONrX"
    },
    "kernelspec": {
      "name": "python3",
      "display_name": "Python 3"
    },
    "language_info": {
      "name": "python"
    }
  },
  "cells": [
    {
      "cell_type": "markdown",
      "source": [
        "제곱수인지 판별하는걸 그냥 단순하게 if int(i**(0.5))==i**(0.5):로 비교해봤는데\n",
        "다른사람들도 다 이렇게 했더라. 그 외에는 괜찮았던 문제."
      ],
      "metadata": {
        "id": "9wjG6OC0mZZE"
      }
    },
    {
      "cell_type": "code",
      "execution_count": 1,
      "metadata": {
        "colab": {
          "base_uri": "https://localhost:8080/"
        },
        "id": "k4NH79LMjU7H",
        "outputId": "f2674d32-3270-4397-b302-e5a67ab229f1"
      },
      "outputs": [
        {
          "output_type": "stream",
          "name": "stdout",
          "text": [
            "0\n"
          ]
        }
      ],
      "source": [
        "def solution(left, right):\n",
        "    answer = 0\n",
        "    for i in range(left, right+1):\n",
        "        if int(i**(0.5))==i**(0.5):     #제곱수인지 판별\n",
        "            answer-=i\n",
        "        else:\n",
        "            answer+=i\n",
        "    return answer"
      ]
    }
  ]
}