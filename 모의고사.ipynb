{
  "nbformat": 4,
  "nbformat_minor": 0,
  "metadata": {
    "colab": {
      "name": "모의고사.ipynb",
      "provenance": [],
      "collapsed_sections": [],
      "authorship_tag": "ABX9TyMhlk+DfZM7zOCzM5kFmES+"
    },
    "kernelspec": {
      "name": "python3",
      "display_name": "Python 3"
    },
    "language_info": {
      "name": "python"
    }
  },
  "cells": [
    {
      "cell_type": "markdown",
      "source": [
        "처음에 비교하는 거는 익숙해서 잘됐는데 처음에 반복되는 배열을 어떤크기로 정의할지,\n",
        "\n",
        "마지막에 가장 많이 맞춘 애들을 어떻게 정렬해서 리턴할지가 고민이 됐었다."
      ],
      "metadata": {
        "id": "pvvhS19YPiiI"
      }
    },
    {
      "cell_type": "code",
      "execution_count": 1,
      "metadata": {
        "colab": {
          "base_uri": "https://localhost:8080/"
        },
        "id": "qRCpbesTEg2P",
        "outputId": "ef241ff1-e830-40e0-bcda-df5c93c809e3"
      },
      "outputs": [
        {
          "output_type": "stream",
          "name": "stdout",
          "text": [
            "1\n"
          ]
        }
      ],
      "source": [
        "def solution(answers):\n",
        "    answer = []\n",
        "    a = [0]*3   #인덱스 i+1번째 수포자가 맞춘개수\n",
        "    num1 = [1,2,3,4,5]*(len(answers)//5+1)  \n",
        "    num2 = [2,1,2,3,2,4,2,5]*(len(answers)//8+1)\n",
        "    num3 = [3,3,1,1,2,2,4,4,5,5]*(len(answers)//10+1)      #어짜피  len(answer)만큼 돌릴것이기 때문에 넉넉하게\n",
        "    for i in range(len(answers)):\n",
        "        if num1[i]==answers[i]:\n",
        "            a[0]+=1\n",
        "        if num2[i]==answers[i]:\n",
        "            a[1]+=1\n",
        "        if num3[i]==answers[i]:\n",
        "            a[2]+=1     #완전탐색으로 일일히 비교해줌\n",
        "    for i in range(3):\n",
        "        maxa=max(a)\n",
        "        if a[i]==maxa:  #최대값과 같은 애들 순서대로 append\n",
        "            answer.append(i+1)\n",
        "    \n",
        "    return answer"
      ]
    }
  ]
}