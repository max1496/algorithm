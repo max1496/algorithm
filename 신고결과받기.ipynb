{
  "nbformat": 4,
  "nbformat_minor": 0,
  "metadata": {
    "colab": {
      "name": "신고결과받기.ipynb",
      "provenance": [],
      "collapsed_sections": [],
      "authorship_tag": "ABX9TyP5hZX6cEhdMIAO7PkQ2c5p"
    },
    "kernelspec": {
      "name": "python3",
      "display_name": "Python 3"
    },
    "language_info": {
      "name": "python"
    }
  },
  "cells": [
    {
      "cell_type": "markdown",
      "source": [
        "프로그래머스에서 레벨1로 풀 수 있는 문제. 2022 kakao 블라인드 문제1번문제같은데\n",
        "\n",
        "처음엔 막막했다. 다만 split()함수 잘 이용하면 크게 어렵진 않은 것 같다"
      ],
      "metadata": {
        "id": "qp9V_z5C_HAL"
      }
    },
    {
      "cell_type": "code",
      "execution_count": null,
      "metadata": {
        "id": "eg9OCkH_VTco"
      },
      "outputs": [],
      "source": [
        "def solution(id_list, report, k):\n",
        "    report = set(list(report))    #report의 중복 없애줌\n",
        "    a= []\n",
        "    b=[]\n",
        "    c=[]\n",
        "    reported = [x.split()[1] for x in report]  #리폿 당한 애들\n",
        "    for i,v in enumerate(id_list):\n",
        "        if reported.count(v)>=k:    #k번 이상 리폿 당했으면\n",
        "            a.append(v)     #리폿 당한 사람이름 a에 저장\n",
        "    rar = [x.split() for x in report]   #리폿한 사람과 당한 사람\n",
        "    for i in range(len(rar)):\n",
        "        if rar[i][1] in a:\n",
        "            b.append(rar[i][0])     #메일이 올 사람을 b에 저장\n",
        "    for va in id_list:\n",
        "        c.append(b.count(va))       #마지막으로 순서대로 몇번 메일이 갔는지 저장\n",
        "    return c"
      ]
    }
  ]
}