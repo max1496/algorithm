{
  "nbformat": 4,
  "nbformat_minor": 0,
  "metadata": {
    "colab": {
      "name": "리트코드1480.ipynb",
      "provenance": [],
      "collapsed_sections": [],
      "authorship_tag": "ABX9TyMorEnmeRMk8VLMWjcQ9Z3y",
      "include_colab_link": true
    },
    "kernelspec": {
      "name": "python3",
      "display_name": "Python 3"
    },
    "language_info": {
      "name": "python"
    }
  },
  "cells": [
    {
      "cell_type": "markdown",
      "metadata": {
        "id": "view-in-github",
        "colab_type": "text"
      },
      "source": [
        "<a href=\"https://colab.research.google.com/github/max1496/algorithm/blob/master/%EB%A6%AC%ED%8A%B8%EC%BD%94%EB%93%9C1480.ipynb\" target=\"_parent\"><img src=\"https://colab.research.google.com/assets/colab-badge.svg\" alt=\"Open In Colab\"/></a>"
      ]
    },
    {
      "cell_type": "markdown",
      "source": [
        "어떤 인덱스에 대하여 0부터 그 인덱스까지의 모든 배열인덱스의 값들의 합을 인덱스에 저장하는 것이다. 밑은 파이썬 풀이 그밑이 스위프트"
      ],
      "metadata": {
        "id": "2vdr9qaq_hAR"
      }
    },
    {
      "cell_type": "code",
      "source": [
        "class Solution:\n",
        "    def runningSum(self, nums: List[int]) -> List[int]:\n",
        "        for i in range(len(nums)):\n",
        "            if i ==0:\n",
        "                continue\n",
        "            nums[i]=nums[i]+ nums[i-1]\n",
        "        return nums"
      ],
      "metadata": {
        "id": "dT0KQxtc_igB"
      },
      "execution_count": null,
      "outputs": []
    },
    {
      "cell_type": "markdown",
      "source": [
        "class Solution {\n",
        "    func runningSum(_ nums: [Int]) -> [Int] {\n",
        "        var n=nums\n",
        "        for i in 0...(n.count-2){\n",
        "            n[i+1] = n[i]+n[i+1]\n",
        "        }\n",
        "        return n\n",
        "    }\n",
        "}"
      ],
      "metadata": {
        "id": "XNA2UfLs_pGu"
      }
    }
  ]
}