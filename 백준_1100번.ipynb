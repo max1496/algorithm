{
  "nbformat": 4,
  "nbformat_minor": 0,
  "metadata": {
    "colab": {
      "name": "백준 1100번",
      "provenance": [],
      "collapsed_sections": [],
      "authorship_tag": "ABX9TyOVayt9ESkJ8ZphraWMF5fV",
      "include_colab_link": true
    },
    "kernelspec": {
      "name": "python3",
      "display_name": "Python 3"
    },
    "language_info": {
      "name": "python"
    }
  },
  "cells": [
    {
      "cell_type": "markdown",
      "metadata": {
        "id": "view-in-github",
        "colab_type": "text"
      },
      "source": [
        "<a href=\"https://colab.research.google.com/github/max1496/algorithm/blob/master/%EB%B0%B1%EC%A4%80_1100%EB%B2%88.ipynb\" target=\"_parent\"><img src=\"https://colab.research.google.com/assets/colab-badge.svg\" alt=\"Open In Colab\"/></a>"
      ]
    },
    {
      "cell_type": "code",
      "execution_count": null,
      "metadata": {
        "id": "r5rclvgUXYWI"
      },
      "outputs": [],
      "source": [
        "arr = []\n",
        "for _ in range(8):\n",
        "    arr.append(list(map(str, input())))\n",
        "cnt = 0\n",
        "for i in range(8):\n",
        "    for j in range(8):\n",
        "        if (i+j)%2==0:\n",
        "            if arr[i][j]==\"F\":\n",
        "                cnt+=1\n",
        "print(cnt)"
      ]
    }
  ]
}