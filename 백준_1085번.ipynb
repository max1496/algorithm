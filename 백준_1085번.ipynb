{
  "nbformat": 4,
  "nbformat_minor": 0,
  "metadata": {
    "colab": {
      "name": "백준 1085번",
      "provenance": [],
      "authorship_tag": "ABX9TyP7OG3524lMAUpnyVeVSlRF",
      "include_colab_link": true
    },
    "kernelspec": {
      "name": "python3",
      "display_name": "Python 3"
    },
    "language_info": {
      "name": "python"
    }
  },
  "cells": [
    {
      "cell_type": "markdown",
      "metadata": {
        "id": "view-in-github",
        "colab_type": "text"
      },
      "source": [
        "<a href=\"https://colab.research.google.com/github/max1496/algorithm/blob/master/%EB%B0%B1%EC%A4%80_1085%EB%B2%88.ipynb\" target=\"_parent\"><img src=\"https://colab.research.google.com/assets/colab-badge.svg\" alt=\"Open In Colab\"/></a>"
      ]
    },
    {
      "cell_type": "code",
      "execution_count": 1,
      "metadata": {
        "id": "91sxWVfAq-17",
        "colab": {
          "base_uri": "https://localhost:8080/"
        },
        "outputId": "c961f7c4-69fd-4add-c470-6716adacae83"
      },
      "outputs": [
        {
          "output_type": "stream",
          "name": "stdout",
          "text": [
            "6 2 10 3\n",
            "1\n"
          ]
        }
      ],
      "source": [
        "x,y,w,h= map(int,input().split())\n",
        "print(min(x,y,w-x,h-y))"
      ]
    }
  ]
}