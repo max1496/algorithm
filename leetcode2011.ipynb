{
  "nbformat": 4,
  "nbformat_minor": 0,
  "metadata": {
    "colab": {
      "name": "leetcode2011.ipynb",
      "provenance": [],
      "collapsed_sections": [],
      "authorship_tag": "ABX9TyPxqKwk+VX8uF+0HljtA8oU",
      "include_colab_link": true
    },
    "kernelspec": {
      "name": "python3",
      "display_name": "Python 3"
    },
    "language_info": {
      "name": "python"
    }
  },
  "cells": [
    {
      "cell_type": "markdown",
      "metadata": {
        "id": "view-in-github",
        "colab_type": "text"
      },
      "source": [
        "<a href=\"https://colab.research.google.com/github/max1496/algorithm/blob/master/leetcode2011.ipynb\" target=\"_parent\"><img src=\"https://colab.research.google.com/assets/colab-badge.svg\" alt=\"Open In Colab\"/></a>"
      ]
    },
    {
      "cell_type": "code",
      "execution_count": null,
      "metadata": {
        "id": "8RARWlpgK0X6"
      },
      "outputs": [],
      "source": [
        "++가 들어있으면 a라는 변수를 만들어서 +=1 해주고 아니면 -=1 해주는 단순한 문제\n",
        "\n",
        "스위프트:"
      ]
    },
    {
      "cell_type": "markdown",
      "source": [
        "\n",
        "\n",
        "```\n",
        "# 코드로 형식 지정됨\n",
        "```\n",
        "\n",
        "\n",
        "\n",
        "class Solution {\n",
        "    func finalValueAfterOperations(_ operations: [String]) -> Int {\n",
        "        var a = 0\n",
        "\n",
        "\n",
        "        for i in operations{\n",
        "            if i.contains(\"++\"){\n",
        "                a+=1\n",
        "            }\n",
        "            else{\n",
        "                a-=1\n",
        "            }\n",
        "        }\n",
        "        return a\n",
        "    }\n",
        "}\n",
        "\n"
      ],
      "metadata": {
        "id": "K9Bbl8YnPGUT"
      }
    },
    {
      "cell_type": "markdown",
      "source": [
        "파이썬"
      ],
      "metadata": {
        "id": "XCGSzsshPJeK"
      }
    },
    {
      "cell_type": "code",
      "source": [
        "class Solution:\n",
        "    def finalValueAfterOperations(self, operations: List[str]) -> int:\n",
        "        x=0\n",
        "        for i in range(len(operations)):\n",
        "            if \"++\" in operations[i]:\n",
        "                x+=1\n",
        "            else:\n",
        "                x-=1\n",
        "        return x"
      ],
      "metadata": {
        "id": "y7oXlQY-PaK7"
      },
      "execution_count": null,
      "outputs": []
    }
  ]
}