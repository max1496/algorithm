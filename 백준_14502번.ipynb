{
  "nbformat": 4,
  "nbformat_minor": 0,
  "metadata": {
    "colab": {
      "name": "백준 14502번",
      "provenance": [],
      "collapsed_sections": [],
      "authorship_tag": "ABX9TyMH8hQSNbTgQhycXUjoQAeA",
      "include_colab_link": true
    },
    "kernelspec": {
      "name": "python3",
      "display_name": "Python 3"
    },
    "language_info": {
      "name": "python"
    }
  },
  "cells": [
    {
      "cell_type": "markdown",
      "metadata": {
        "id": "view-in-github",
        "colab_type": "text"
      },
      "source": [
        "<a href=\"https://colab.research.google.com/github/max1496/algorithm/blob/master/%EB%B0%B1%EC%A4%80_14502%EB%B2%88.ipynb\" target=\"_parent\"><img src=\"https://colab.research.google.com/assets/colab-badge.svg\" alt=\"Open In Colab\"/></a>"
      ]
    },
    {
      "cell_type": "code",
      "execution_count": null,
      "metadata": {
        "id": "TQelxP0QFFJm"
      },
      "outputs": [],
      "source": [
        "from collections import deque\n",
        "import copy\n",
        "def bfs():\n",
        "    queue=deque()\n",
        "    gr=copy.deepcopy(g)\n",
        "    global res\n",
        "    for i in range(n):\n",
        "        for j in range(m):\n",
        "            if gr[i][j]==2:\n",
        "                queue.append((i,j))\n",
        "    while queue:\n",
        "        x,y=queue.popleft()\n",
        "        for i in range(4):\n",
        "            nx=x+dx[i]\n",
        "            ny=y+dy[i]\n",
        "            if nx < 0 or nx >= n or ny < 0 or ny >= m:\n",
        "                continue\n",
        "            if gr[nx][ny]==0:\n",
        "                gr[nx][ny]=2\n",
        "                queue.append((nx,ny))\n",
        "    cnt=0\n",
        "    for e in range(n):\n",
        "        for f in range(m):\n",
        "            if gr[e][f]==0:\n",
        "                cnt+=1\n",
        "    res=max(res,cnt)\n",
        "    \n",
        "def check(num):\n",
        "    if num==3:\n",
        "        bfs()\n",
        "        return\n",
        "    for p in range(n):\n",
        "        for q in range(m):\n",
        "            \n",
        "            if g[p][q]==0:\n",
        "                g[p][q]=1\n",
        "                check(num+1)\n",
        "                g[p][q]=0\n",
        "                \n",
        "n,m=map(int,input().split())\n",
        "res=0\n",
        "g=[]\n",
        "dx=[1,-1,0,0]\n",
        "dy=[0,0,1,-1]\n",
        "for i in range(n):\n",
        "    g.append(list(map(int,input().split())))\n",
        "check(0)\n",
        "print(res)"
      ]
    }
  ]
}