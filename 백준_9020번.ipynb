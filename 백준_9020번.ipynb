{
  "nbformat": 4,
  "nbformat_minor": 0,
  "metadata": {
    "colab": {
      "name": "백준 9020번",
      "provenance": [],
      "collapsed_sections": [],
      "authorship_tag": "ABX9TyOnoWAIrRn98F/TzdY/NyCJ",
      "include_colab_link": true
    },
    "kernelspec": {
      "name": "python3",
      "display_name": "Python 3"
    },
    "language_info": {
      "name": "python"
    }
  },
  "cells": [
    {
      "cell_type": "markdown",
      "metadata": {
        "id": "view-in-github",
        "colab_type": "text"
      },
      "source": [
        "<a href=\"https://colab.research.google.com/github/max1496/algorithm/blob/master/%EB%B0%B1%EC%A4%80_9020%EB%B2%88.ipynb\" target=\"_parent\"><img src=\"https://colab.research.google.com/assets/colab-badge.svg\" alt=\"Open In Colab\"/></a>"
      ]
    },
    {
      "cell_type": "code",
      "execution_count": null,
      "metadata": {
        "id": "sj-F03veBpZS"
      },
      "outputs": [],
      "source": [
        "def prime(n):\n",
        "    if n==1:\n",
        "        return False\n",
        "    for i in range(2,int(n**(1/2))+1):\n",
        "        if n%i==0:\n",
        "            return False\n",
        "    return True\n",
        "t= int(input())\n",
        "for _ in range(t):\n",
        "    n=int(input())\n",
        "    a=n//2\n",
        "    for i in range(a,1,-1):\n",
        "        if prime(n-i) and prime(i):\n",
        "            print(i,n-i)\n",
        "            break"
      ]
    }
  ]
}