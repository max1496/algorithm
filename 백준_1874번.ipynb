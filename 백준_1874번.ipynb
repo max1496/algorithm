{
  "nbformat": 4,
  "nbformat_minor": 0,
  "metadata": {
    "colab": {
      "name": "백준 1874번",
      "provenance": [],
      "collapsed_sections": [],
      "authorship_tag": "ABX9TyMNhKvZAZx35a/bFdEHSea2",
      "include_colab_link": true
    },
    "kernelspec": {
      "name": "python3",
      "display_name": "Python 3"
    },
    "language_info": {
      "name": "python"
    }
  },
  "cells": [
    {
      "cell_type": "markdown",
      "metadata": {
        "id": "view-in-github",
        "colab_type": "text"
      },
      "source": [
        "<a href=\"https://colab.research.google.com/github/max1496/algorithm/blob/master/%EB%B0%B1%EC%A4%80_1874%EB%B2%88.ipynb\" target=\"_parent\"><img src=\"https://colab.research.google.com/assets/colab-badge.svg\" alt=\"Open In Colab\"/></a>"
      ]
    },
    {
      "cell_type": "code",
      "execution_count": 2,
      "metadata": {
        "colab": {
          "base_uri": "https://localhost:8080/"
        },
        "id": "Kk5xThiK7bvx",
        "outputId": "edc86e33-2191-4f0e-e14d-da97c3309432"
      },
      "outputs": [
        {
          "output_type": "stream",
          "name": "stdout",
          "text": [
            "8\n",
            "4\n",
            "3\n",
            "6\n",
            "8\n",
            "7\n",
            "5\n",
            "2\n",
            "1\n",
            "+\n",
            "+\n",
            "+\n",
            "+\n",
            "+\n",
            "+\n",
            "+\n",
            "+\n"
          ]
        }
      ],
      "source": [
        "n= int(input())\n",
        "arr=[]\n",
        "op=[]\n",
        "now=1\n",
        "flag = True\n",
        "for i in range(n):\n",
        "    a=int(input())\n",
        "    while a>=now:\n",
        "        arr.append(now)\n",
        "        now+=1\n",
        "        op.append(\"+\")\n",
        "    if arr[-1]==a:\n",
        "        arr.pop()\n",
        "        op.append(\"-\")\n",
        "    else:\n",
        "        flag=False\n",
        "if flag:\n",
        "    for i in range(len(op)):\n",
        "        print(op[i])\n",
        "else:\n",
        "    print(\"NO\")"
      ]
    }
  ]
}