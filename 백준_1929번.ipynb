{
  "nbformat": 4,
  "nbformat_minor": 0,
  "metadata": {
    "colab": {
      "name": "백준 1929번",
      "provenance": [],
      "collapsed_sections": [],
      "authorship_tag": "ABX9TyNN/NKRh9iwFPENQgop0E+S",
      "include_colab_link": true
    },
    "kernelspec": {
      "name": "python3",
      "display_name": "Python 3"
    },
    "language_info": {
      "name": "python"
    }
  },
  "cells": [
    {
      "cell_type": "markdown",
      "metadata": {
        "id": "view-in-github",
        "colab_type": "text"
      },
      "source": [
        "<a href=\"https://colab.research.google.com/github/max1496/algorithm/blob/master/%EB%B0%B1%EC%A4%80_1929%EB%B2%88.ipynb\" target=\"_parent\"><img src=\"https://colab.research.google.com/assets/colab-badge.svg\" alt=\"Open In Colab\"/></a>"
      ]
    },
    {
      "cell_type": "code",
      "execution_count": null,
      "metadata": {
        "id": "Q9llj5JqQcnj"
      },
      "outputs": [],
      "source": [
        "n,m=map(int, input().split())\n",
        "a=[1]*(m+1)\n",
        "a[0]=0\n",
        "a[1]=0\n",
        "for i in range(2,m+1):\n",
        "    for j in range(2,m//i+1):\n",
        "        if a[i]==1:\n",
        "            a[i*j]=0\n",
        "for k in range(1,m+1):\n",
        "    if a[k]==1 and k>=n:\n",
        "        print(k)"
      ]
    }
  ]
}