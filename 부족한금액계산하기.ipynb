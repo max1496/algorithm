{
  "nbformat": 4,
  "nbformat_minor": 0,
  "metadata": {
    "colab": {
      "name": "부족한금액계산하기.ipynb",
      "provenance": [],
      "collapsed_sections": [],
      "authorship_tag": "ABX9TyPNiTDGxUjuxbYdFWjEf6Fd"
    },
    "kernelspec": {
      "name": "python3",
      "display_name": "Python 3"
    },
    "language_info": {
      "name": "python"
    }
  },
  "cells": [
    {
      "cell_type": "markdown",
      "source": [
        "등차 수열을 더하는 for문을 만들었고 가진돈을 빼주었다. ㅎㅎ"
      ],
      "metadata": {
        "id": "jxJM1jXrLctb"
      }
    },
    {
      "cell_type": "code",
      "execution_count": null,
      "metadata": {
        "id": "0rQuxtB_IvK6"
      },
      "outputs": [],
      "source": [
        "def solution(price, money, count):\n",
        "    answer = -1\n",
        "    b=0\n",
        "    for i in range(1,count+1):\n",
        "        b+=price*i  #필요한돈\n",
        "    if b>money:\n",
        "        answer=b-money  #필요한돈 - 가진돈\n",
        "    else:\n",
        "        answer=0    #가진돈보다 적으면 0\n",
        "    return answer"
      ]
    }
  ]
}