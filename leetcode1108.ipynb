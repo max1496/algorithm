{
  "nbformat": 4,
  "nbformat_minor": 0,
  "metadata": {
    "colab": {
      "name": "leetcode1108.ipynb",
      "provenance": [],
      "collapsed_sections": [],
      "authorship_tag": "ABX9TyOJMFhkroittEs7sVveNVCs",
      "include_colab_link": true
    },
    "kernelspec": {
      "name": "python3",
      "display_name": "Python 3"
    },
    "language_info": {
      "name": "python"
    }
  },
  "cells": [
    {
      "cell_type": "markdown",
      "metadata": {
        "id": "view-in-github",
        "colab_type": "text"
      },
      "source": [
        "<a href=\"https://colab.research.google.com/github/max1496/algorithm/blob/master/leetcode1108.ipynb\" target=\"_parent\"><img src=\"https://colab.research.google.com/assets/colab-badge.svg\" alt=\"Open In Colab\"/></a>"
      ]
    },
    {
      "cell_type": "markdown",
      "source": [
        "스위프트는 replacingOccurrences 메소드, 파이썬은 replace 메소드를 사용할 줄 아는지 묻는 문제."
      ],
      "metadata": {
        "id": "y2LpG-qnZevO"
      }
    },
    {
      "cell_type": "markdown",
      "source": [
        "스위프트:\n",
        "\n"
      ],
      "metadata": {
        "id": "k7AMks63Ziou"
      }
    },
    {
      "cell_type": "markdown",
      "source": [
        "class Solution {\n",
        "    func defangIPaddr(_ address: String) -> String {\n",
        "        var a = address\n",
        "        a = a.replacingOccurrences(of: \".\", with: \"[.]\")\n",
        "        return a\n",
        "    }\n",
        "}"
      ],
      "metadata": {
        "id": "zROncfLpZkQR"
      }
    },
    {
      "cell_type": "markdown",
      "source": [
        "파이썬:\n"
      ],
      "metadata": {
        "id": "Q6J6jeR5Znmx"
      }
    },
    {
      "cell_type": "code",
      "source": [
        "class Solution:\n",
        "    def defangIPaddr(self, address: str) -> str:\n",
        "        address=address.replace(\".\",\"[.]\")\n",
        "        return address"
      ],
      "metadata": {
        "id": "QgjlshgsZtqe"
      },
      "execution_count": null,
      "outputs": []
    }
  ]
}