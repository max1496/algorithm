{
  "nbformat": 4,
  "nbformat_minor": 0,
  "metadata": {
    "colab": {
      "name": "문자열을정수로바꾸기.ipynb",
      "provenance": [],
      "collapsed_sections": [],
      "authorship_tag": "ABX9TyNBNX2D+gUQ7tBnmwcju89P",
      "include_colab_link": true
    },
    "kernelspec": {
      "name": "python3",
      "display_name": "Python 3"
    },
    "language_info": {
      "name": "python"
    }
  },
  "cells": [
    {
      "cell_type": "markdown",
      "metadata": {
        "id": "view-in-github",
        "colab_type": "text"
      },
      "source": [
        "<a href=\"https://colab.research.google.com/github/max1496/algorithm/blob/master/%EB%AC%B8%EC%9E%90%EC%97%B4%EC%9D%84%EC%A0%95%EC%88%98%EB%A1%9C%EB%B0%94%EA%BE%B8%EA%B8%B0.ipynb\" target=\"_parent\"><img src=\"https://colab.research.google.com/assets/colab-badge.svg\" alt=\"Open In Colab\"/></a>"
      ]
    },
    {
      "cell_type": "code",
      "execution_count": null,
      "metadata": {
        "id": "RbIn-Tt1gsQO"
      },
      "outputs": [],
      "source": [
        "def solution(s):\n",
        "    answer = 0\n",
        "    if s[0] == \"-\":\n",
        "        answer = int(s[1:])\n",
        "        answer *=-1\n",
        "    else:\n",
        "        answer = int(s)\n",
        "    return answer"
      ]
    },
    {
      "cell_type": "markdown",
      "source": [
        "문자열을 정수로 바꾸는 문제. -만 잘처리해주면 된다."
      ],
      "metadata": {
        "id": "RzDxlGUkjTm7"
      }
    },
    {
      "cell_type": "code",
      "source": [
        "def solution(s):\n",
        "    answer = 0\n",
        "    if s[0] == \"-\":\n",
        "        answer = int(s[1:])\n",
        "        answer *=-1\n",
        "    else:\n",
        "        answer = int(s)\n",
        "    return answer"
      ],
      "metadata": {
        "id": "k8tEw-HF7lsQ"
      },
      "execution_count": null,
      "outputs": []
    }
  ]
}