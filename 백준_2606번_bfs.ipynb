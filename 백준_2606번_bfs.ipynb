{
  "nbformat": 4,
  "nbformat_minor": 0,
  "metadata": {
    "colab": {
      "name": "백준 2606번 bfs",
      "provenance": [],
      "collapsed_sections": [],
      "authorship_tag": "ABX9TyMP303x2zpU0gHtLf/e5Lv7",
      "include_colab_link": true
    },
    "kernelspec": {
      "name": "python3",
      "display_name": "Python 3"
    },
    "language_info": {
      "name": "python"
    }
  },
  "cells": [
    {
      "cell_type": "markdown",
      "metadata": {
        "id": "view-in-github",
        "colab_type": "text"
      },
      "source": [
        "<a href=\"https://colab.research.google.com/github/max1496/algorithm/blob/master/%EB%B0%B1%EC%A4%80_2606%EB%B2%88_bfs.ipynb\" target=\"_parent\"><img src=\"https://colab.research.google.com/assets/colab-badge.svg\" alt=\"Open In Colab\"/></a>"
      ]
    },
    {
      "cell_type": "code",
      "execution_count": null,
      "metadata": {
        "id": "KBS-8cblr2wy"
      },
      "outputs": [],
      "source": [
        "from collections import deque\n",
        "n=int(input())\n",
        "e=int(input())\n",
        "arr=[[] for x in range(n+1)]\n",
        "for _ in range(e):\n",
        "    a,b=map(int,input().split())\n",
        "    arr[a].append(b)\n",
        "    arr[b].append(a)\n",
        "cnt=0\n",
        "visited=[0]*(n+1)\n",
        "def bfs(s):\n",
        "    global cnt\n",
        "    visited[s]=1\n",
        "    queue=deque()\n",
        "    queue.append(s)\n",
        "    while queue:\n",
        "        for i in arr[queue.pop()]:\n",
        "            if visited[i]==0:\n",
        "                queue.appendleft(i)\n",
        "                visited[i]=1\n",
        "                cnt+=1\n",
        "bfs(1)\n",
        "print(cnt)"
      ]
    }
  ]
}