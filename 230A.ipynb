{
  "nbformat": 4,
  "nbformat_minor": 0,
  "metadata": {
    "colab": {
      "name": "230A.ipynb",
      "provenance": [],
      "collapsed_sections": [],
      "authorship_tag": "ABX9TyMoWOutISm4YcaBw+WE4EYC",
      "include_colab_link": true
    },
    "kernelspec": {
      "name": "python3",
      "display_name": "Python 3"
    },
    "language_info": {
      "name": "python"
    }
  },
  "cells": [
    {
      "cell_type": "markdown",
      "metadata": {
        "id": "view-in-github",
        "colab_type": "text"
      },
      "source": [
        "<a href=\"https://colab.research.google.com/github/max1496/algorithm/blob/master/230A.ipynb\" target=\"_parent\"><img src=\"https://colab.research.google.com/assets/colab-badge.svg\" alt=\"Open In Colab\"/></a>"
      ]
    },
    {
      "cell_type": "code",
      "execution_count": 19,
      "metadata": {
        "colab": {
          "base_uri": "https://localhost:8080/"
        },
        "id": "oMuVm--WVcfm",
        "outputId": "71c27fea-92fc-4251-fc94-188ee95bb8c3"
      },
      "outputs": [
        {
          "output_type": "stream",
          "name": "stdout",
          "text": [
            "10 1\n",
            "100 100\n",
            "NO\n"
          ]
        }
      ],
      "source": [
        "a,n = map(int, input().split())\n",
        "arr=[]\n",
        "flag=True\n",
        "for _ in range(n):\n",
        "    input_data=input().split()\n",
        "    arr.append((int(input_data[0]),int(input_data[1])))\n",
        "arr = sorted(arr,key=lambda b: b[0])\n",
        "for i in range(len(arr)):\n",
        "    if a>arr[i][0]:\n",
        "        a+=arr[i][1]\n",
        "    else:\n",
        "        flag =False\n",
        "if flag:\n",
        "    print(\"YES\")\n",
        "else:\n",
        "    print(\"NO\")"
      ]
    },
    {
      "cell_type": "markdown",
      "source": [
        "드래곤의 힘과 보너스가 한 줄씩 주어지기 때문에 튜플 형태로 리스트에 append 시키고 드래곤의 힘에 따라 정렬시킨다.\n",
        "\n",
        "어느 드래곤부터 처치할지는 선택할 수 있기에 가장 약한 드래곤부터 처치하는 것이다.\n",
        "\n",
        "flag변수를 이용해 사용자의 힘이 드래곤보다 클 때 힘을 증가시켜가면서 드래곤을 처치하지 못할 때\n",
        "\n",
        "flag를 false로 변환시켜준다. 그리고 flag에 따라 결과를 출력한다."
      ],
      "metadata": {
        "id": "ad45TwoficvZ"
      }
    }
  ]
}