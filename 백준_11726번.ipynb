{
  "nbformat": 4,
  "nbformat_minor": 0,
  "metadata": {
    "colab": {
      "name": "백준 11726번",
      "provenance": [],
      "collapsed_sections": [],
      "authorship_tag": "ABX9TyPc5F7z16VMUIK2Nf545Vu3",
      "include_colab_link": true
    },
    "kernelspec": {
      "name": "python3",
      "display_name": "Python 3"
    },
    "language_info": {
      "name": "python"
    }
  },
  "cells": [
    {
      "cell_type": "markdown",
      "metadata": {
        "id": "view-in-github",
        "colab_type": "text"
      },
      "source": [
        "<a href=\"https://colab.research.google.com/github/max1496/algorithm/blob/master/%EB%B0%B1%EC%A4%80_11726%EB%B2%88.ipynb\" target=\"_parent\"><img src=\"https://colab.research.google.com/assets/colab-badge.svg\" alt=\"Open In Colab\"/></a>"
      ]
    },
    {
      "cell_type": "code",
      "execution_count": null,
      "metadata": {
        "id": "nlrP5qX82wmy"
      },
      "outputs": [],
      "source": [
        "n=int(input())\n",
        "a=[0,1,2]\n",
        "for i in range(2,1001):\n",
        "    a.append(a[i]+a[i-1])\n",
        "print(a[n]%10007)"
      ]
    }
  ]
}