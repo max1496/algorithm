{
  "nbformat": 4,
  "nbformat_minor": 0,
  "metadata": {
    "colab": {
      "name": "백준 2193번",
      "provenance": [],
      "collapsed_sections": [],
      "authorship_tag": "ABX9TyOddRi8W+YCjXefWek1NIvF",
      "include_colab_link": true
    },
    "kernelspec": {
      "name": "python3",
      "display_name": "Python 3"
    },
    "language_info": {
      "name": "python"
    }
  },
  "cells": [
    {
      "cell_type": "markdown",
      "metadata": {
        "id": "view-in-github",
        "colab_type": "text"
      },
      "source": [
        "<a href=\"https://colab.research.google.com/github/max1496/algorithm/blob/master/%EB%B0%B1%EC%A4%80_2193%EB%B2%88.ipynb\" target=\"_parent\"><img src=\"https://colab.research.google.com/assets/colab-badge.svg\" alt=\"Open In Colab\"/></a>"
      ]
    },
    {
      "cell_type": "code",
      "execution_count": null,
      "metadata": {
        "id": "W7Y0P07oaFdX"
      },
      "outputs": [],
      "source": [
        "a=[0,1,1]\n",
        "n=int(input())\n",
        "for i in range(3,n+1):\n",
        "    a.append(a[i-1]+a[i-2])\n",
        "print(a[n])"
      ]
    }
  ]
}