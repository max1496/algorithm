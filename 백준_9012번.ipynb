{
  "nbformat": 4,
  "nbformat_minor": 0,
  "metadata": {
    "colab": {
      "name": "백준 9012번",
      "provenance": [],
      "collapsed_sections": [],
      "authorship_tag": "ABX9TyMJ6BL2/BcFG7BLDVkD0B2x",
      "include_colab_link": true
    },
    "kernelspec": {
      "name": "python3",
      "display_name": "Python 3"
    },
    "language_info": {
      "name": "python"
    }
  },
  "cells": [
    {
      "cell_type": "markdown",
      "metadata": {
        "id": "view-in-github",
        "colab_type": "text"
      },
      "source": [
        "<a href=\"https://colab.research.google.com/github/max1496/algorithm/blob/master/%EB%B0%B1%EC%A4%80_9012%EB%B2%88.ipynb\" target=\"_parent\"><img src=\"https://colab.research.google.com/assets/colab-badge.svg\" alt=\"Open In Colab\"/></a>"
      ]
    },
    {
      "cell_type": "code",
      "execution_count": null,
      "metadata": {
        "id": "NZ310r8OgEUB"
      },
      "outputs": [],
      "source": [
        "n = int(input())\n",
        "\n",
        "for _ in range(n):\n",
        "    a=input()\n",
        "    sum=0\n",
        "    for i in range(len(a)):\n",
        "        if a[i]==\"(\":\n",
        "            sum+=1\n",
        "        else:\n",
        "            sum-=1\n",
        "        if sum<0:\n",
        "            print(\"NO\")\n",
        "            break\n",
        "    if sum>0:\n",
        "        print(\"NO\")\n",
        "    elif sum==0:\n",
        "        print(\"YES\")"
      ]
    }
  ]
}