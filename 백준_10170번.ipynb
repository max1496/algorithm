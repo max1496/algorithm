{
  "nbformat": 4,
  "nbformat_minor": 0,
  "metadata": {
    "colab": {
      "name": "백준 10170번",
      "provenance": [],
      "collapsed_sections": [],
      "authorship_tag": "ABX9TyPCxR65WCh72b4p2FyCVoe6",
      "include_colab_link": true
    },
    "kernelspec": {
      "name": "python3",
      "display_name": "Python 3"
    },
    "language_info": {
      "name": "python"
    }
  },
  "cells": [
    {
      "cell_type": "markdown",
      "metadata": {
        "id": "view-in-github",
        "colab_type": "text"
      },
      "source": [
        "<a href=\"https://colab.research.google.com/github/max1496/algorithm/blob/master/%EB%B0%B1%EC%A4%80_10170%EB%B2%88.ipynb\" target=\"_parent\"><img src=\"https://colab.research.google.com/assets/colab-badge.svg\" alt=\"Open In Colab\"/></a>"
      ]
    },
    {
      "cell_type": "code",
      "execution_count": null,
      "metadata": {
        "id": "hyzgLVkhKdYd"
      },
      "outputs": [],
      "source": [
        "print(\"NFC West       W   L  T\")\n",
        "print(\"-----------------------\")\n",
        "print(\"Seattle        13  3  0\")\n",
        "print(\"San Francisco  12  4  0\")\n",
        "print(\"Arizona        10  6  0\")\n",
        "print(\"St. Louis      7   9  0\")\n",
        "print(\"\")\n",
        "print(\"NFC North      W   L  T\")\n",
        "print(\"-----------------------\")\n",
        "print(\"Green Bay      8   7  1\")\n",
        "print(\"Chicago        8   8  0\")\n",
        "print(\"Detroit        7   9  0\")\n",
        "print(\"Minnesota      5  10  1\")"
      ]
    }
  ]
}