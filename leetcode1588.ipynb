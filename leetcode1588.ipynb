{
  "nbformat": 4,
  "nbformat_minor": 0,
  "metadata": {
    "colab": {
      "name": "Untitled2.ipynb",
      "provenance": [],
      "collapsed_sections": [],
      "authorship_tag": "ABX9TyN/vVEsFbXTAu9v+1m1nwi2",
      "include_colab_link": true
    },
    "kernelspec": {
      "name": "python3",
      "display_name": "Python 3"
    },
    "language_info": {
      "name": "python"
    }
  },
  "cells": [
    {
      "cell_type": "markdown",
      "metadata": {
        "id": "view-in-github",
        "colab_type": "text"
      },
      "source": [
        "<a href=\"https://colab.research.google.com/github/max1496/algorithm/blob/master/leetcode1588.ipynb\" target=\"_parent\"><img src=\"https://colab.research.google.com/assets/colab-badge.svg\" alt=\"Open In Colab\"/></a>"
      ]
    },
    {
      "cell_type": "code",
      "execution_count": null,
      "metadata": {
        "id": "pj1ZKJE1SxGs"
      },
      "outputs": [],
      "source": [
        "class Solution:\n",
        "    def sumOddLengthSubarrays(self, arr: List[int]) -> int:\n",
        "        hap=0\n",
        "        for i in range(1, len(arr)+1,2):\n",
        "            for j in range(len(arr)-i+1):\n",
        "                hap+=sum(arr[j:j+i])\n",
        "        return hap"
      ]
    },
    {
      "cell_type": "markdown",
      "source": [
        "주어진 배열의 부분배열중 개수가 홀수인 것들의 원소들의 총합을 구하는 문제인데,\n",
        "\n",
        "브루트 포스로 위와 같이 푸는 것 외에는 떠오르지 않았다..."
      ],
      "metadata": {
        "id": "JITBZGVES06J"
      }
    }
  ]
}