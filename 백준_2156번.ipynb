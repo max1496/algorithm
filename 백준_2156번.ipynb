{
  "nbformat": 4,
  "nbformat_minor": 0,
  "metadata": {
    "colab": {
      "name": "백준 2156번",
      "provenance": [],
      "collapsed_sections": [],
      "authorship_tag": "ABX9TyNVfHWPLT4bpwobnqw3vn/J",
      "include_colab_link": true
    },
    "kernelspec": {
      "name": "python3",
      "display_name": "Python 3"
    },
    "language_info": {
      "name": "python"
    }
  },
  "cells": [
    {
      "cell_type": "markdown",
      "metadata": {
        "id": "view-in-github",
        "colab_type": "text"
      },
      "source": [
        "<a href=\"https://colab.research.google.com/github/max1496/algorithm/blob/master/%EB%B0%B1%EC%A4%80_2156%EB%B2%88.ipynb\" target=\"_parent\"><img src=\"https://colab.research.google.com/assets/colab-badge.svg\" alt=\"Open In Colab\"/></a>"
      ]
    },
    {
      "cell_type": "code",
      "execution_count": null,
      "metadata": {
        "id": "ENOUGitpAs26"
      },
      "outputs": [],
      "source": [
        "n=int(input())\n",
        "arr=[]\n",
        "for i in range(n):\n",
        "    arr.append(int(input()))\n",
        "dp=[0]*n\n",
        "dp[0]=arr[0]\n",
        "if n>1:\n",
        "    dp[1]=arr[0]+arr[1]\n",
        "for i in range(2,n):\n",
        "    dp[i]=max(dp[i-1],dp[i-2]+arr[i],dp[i-3]+arr[i-1]+arr[i])\n",
        "print(dp[n-1])\n"
      ]
    }
  ]
}