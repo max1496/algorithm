{
  "nbformat": 4,
  "nbformat_minor": 0,
  "metadata": {
    "colab": {
      "name": "백준2839.ipynb",
      "provenance": [],
      "authorship_tag": "ABX9TyPxXhPlLKTU5RCuowcnVbpP",
      "include_colab_link": true
    },
    "kernelspec": {
      "name": "python3",
      "display_name": "Python 3"
    },
    "language_info": {
      "name": "python"
    }
  },
  "cells": [
    {
      "cell_type": "markdown",
      "metadata": {
        "id": "view-in-github",
        "colab_type": "text"
      },
      "source": [
        "<a href=\"https://colab.research.google.com/github/max1496/algorithm/blob/master/%EB%B0%B1%EC%A4%802839.ipynb\" target=\"_parent\"><img src=\"https://colab.research.google.com/assets/colab-badge.svg\" alt=\"Open In Colab\"/></a>"
      ]
    },
    {
      "cell_type": "code",
      "execution_count": 9,
      "metadata": {
        "colab": {
          "base_uri": "https://localhost:8080/"
        },
        "id": "gd4fWptmajM8",
        "outputId": "847e4a71-3aba-49dc-8521-6984418ad289"
      },
      "outputs": [
        {
          "output_type": "stream",
          "name": "stdout",
          "text": [
            "11\n",
            "3\n"
          ]
        }
      ],
      "source": [
        "n=int(input())\n",
        "d= [5001]*5001\n",
        "a=[3,5]\n",
        "d[0]=0\n",
        "for i in range(2):\n",
        "    for j in range(a[i],n+1):\n",
        "        d[j]=min(d[j],d[j-a[i]]+1)\n",
        "if d[n]!=5001:\n",
        "    print(d[n])\n",
        "else:\n",
        "    print(-1)"
      ]
    },
    {
      "cell_type": "markdown",
      "source": [
        "dp배열을 n의 최대범위 5000에다가 1을 더한 5001로 5001개 생성한다.\n",
        "\n",
        "(최소값을 구하기 위한 5001과 최대 n이 5000일 수 있으니)\n",
        "\n",
        "\n",
        "\n",
        "2번 for문을 돌린건 3,5 짜리 화폐 2개 일 경우들을 나타낸 것이고 그 안에\n",
        "\n",
        "이중 포문은 어짜피 a[i]보다 작으면 나눠 떨어지지 않으므로 a[i]에서 n까지\n",
        "\n",
        "범위를 설정해 준다. 포문안에 내용은 점화식을 그대로 표현한 것으로서, \n",
        "\n",
        "x원일때 x-3 혹은 x-5원일때 개수에 +1을 해준다."
      ],
      "metadata": {
        "id": "upkEjO4J9vvO"
      }
    }
  ]
}