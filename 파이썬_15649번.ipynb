{
  "nbformat": 4,
  "nbformat_minor": 0,
  "metadata": {
    "colab": {
      "name": "파이썬 15649번",
      "provenance": [],
      "collapsed_sections": [],
      "authorship_tag": "ABX9TyNlWlNliB89MhdxAr4qyYDF",
      "include_colab_link": true
    },
    "kernelspec": {
      "name": "python3",
      "display_name": "Python 3"
    },
    "language_info": {
      "name": "python"
    }
  },
  "cells": [
    {
      "cell_type": "markdown",
      "metadata": {
        "id": "view-in-github",
        "colab_type": "text"
      },
      "source": [
        "<a href=\"https://colab.research.google.com/github/max1496/algorithm/blob/master/%ED%8C%8C%EC%9D%B4%EC%8D%AC_15649%EB%B2%88.ipynb\" target=\"_parent\"><img src=\"https://colab.research.google.com/assets/colab-badge.svg\" alt=\"Open In Colab\"/></a>"
      ]
    },
    {
      "cell_type": "code",
      "execution_count": null,
      "metadata": {
        "id": "U2xE5REJhvll"
      },
      "outputs": [],
      "source": [
        "\n",
        "def dfs():\n",
        "    if len(arr)== m:\n",
        "        print(\" \".join(map(str, arr)))\n",
        "        return\n",
        "    for i in range(1,n+1):\n",
        "        if i in arr:\n",
        "            continue\n",
        "        arr.append(i)\n",
        "        dfs()\n",
        "        arr.pop()\n",
        "\n",
        "n,m = map(int,input().split())\n",
        "arr=[]\n",
        "dfs()"
      ]
    }
  ]
}