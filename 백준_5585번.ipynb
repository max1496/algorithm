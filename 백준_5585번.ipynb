{
  "nbformat": 4,
  "nbformat_minor": 0,
  "metadata": {
    "colab": {
      "name": "백준 5585번",
      "provenance": [],
      "collapsed_sections": [],
      "authorship_tag": "ABX9TyOsUkS2YtZsaBhvRcRq63+F",
      "include_colab_link": true
    },
    "kernelspec": {
      "name": "python3",
      "display_name": "Python 3"
    },
    "language_info": {
      "name": "python"
    }
  },
  "cells": [
    {
      "cell_type": "markdown",
      "metadata": {
        "id": "view-in-github",
        "colab_type": "text"
      },
      "source": [
        "<a href=\"https://colab.research.google.com/github/max1496/algorithm/blob/master/%EB%B0%B1%EC%A4%80_5585%EB%B2%88.ipynb\" target=\"_parent\"><img src=\"https://colab.research.google.com/assets/colab-badge.svg\" alt=\"Open In Colab\"/></a>"
      ]
    },
    {
      "cell_type": "code",
      "execution_count": 2,
      "metadata": {
        "colab": {
          "base_uri": "https://localhost:8080/"
        },
        "id": "NsZc_3ckEweU",
        "outputId": "054b14d4-0b04-4b59-ee47-cff1d2334330"
      },
      "outputs": [
        {
          "output_type": "stream",
          "name": "stdout",
          "text": [
            "380\n",
            "4\n"
          ]
        }
      ],
      "source": [
        "a= 1000 -int(input())\n",
        "b= [500, 100, 50, 10, 5, 1]\n",
        "cnt=0\n",
        "for i in b:\n",
        "    cnt+=a//i\n",
        "    a=a%i\n",
        "print(cnt)"
      ]
    }
  ]
}