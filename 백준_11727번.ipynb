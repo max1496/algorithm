{
  "nbformat": 4,
  "nbformat_minor": 0,
  "metadata": {
    "colab": {
      "name": "백준 11727번",
      "provenance": [],
      "collapsed_sections": [],
      "authorship_tag": "ABX9TyOZBVEbOiRLMf3FFui4u9W8",
      "include_colab_link": true
    },
    "kernelspec": {
      "name": "python3",
      "display_name": "Python 3"
    },
    "language_info": {
      "name": "python"
    }
  },
  "cells": [
    {
      "cell_type": "markdown",
      "metadata": {
        "id": "view-in-github",
        "colab_type": "text"
      },
      "source": [
        "<a href=\"https://colab.research.google.com/github/max1496/algorithm/blob/master/%EB%B0%B1%EC%A4%80_11727%EB%B2%88.ipynb\" target=\"_parent\"><img src=\"https://colab.research.google.com/assets/colab-badge.svg\" alt=\"Open In Colab\"/></a>"
      ]
    },
    {
      "cell_type": "code",
      "execution_count": null,
      "metadata": {
        "id": "5SvTPNJKZmeg"
      },
      "outputs": [],
      "source": [
        "n=int(input())\n",
        "dp=[0]*(1001)\n",
        "dp[1]= 1\n",
        "dp[2]=3\n",
        "for i in range(3,n+1):\n",
        "    dp[i]+=dp[i-1]+((dp[i-2])*2)\n",
        "print(dp[n]%10007)"
      ]
    }
  ]
}