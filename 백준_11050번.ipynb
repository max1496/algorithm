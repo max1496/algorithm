{
  "nbformat": 4,
  "nbformat_minor": 0,
  "metadata": {
    "colab": {
      "name": "백준 11050번",
      "provenance": [],
      "collapsed_sections": [],
      "authorship_tag": "ABX9TyNCxttEhvL6ca8lEtaEjdZg",
      "include_colab_link": true
    },
    "kernelspec": {
      "name": "python3",
      "display_name": "Python 3"
    },
    "language_info": {
      "name": "python"
    }
  },
  "cells": [
    {
      "cell_type": "markdown",
      "metadata": {
        "id": "view-in-github",
        "colab_type": "text"
      },
      "source": [
        "<a href=\"https://colab.research.google.com/github/max1496/algorithm/blob/master/%EB%B0%B1%EC%A4%80_11050%EB%B2%88.ipynb\" target=\"_parent\"><img src=\"https://colab.research.google.com/assets/colab-badge.svg\" alt=\"Open In Colab\"/></a>"
      ]
    },
    {
      "cell_type": "code",
      "execution_count": null,
      "metadata": {
        "id": "T_7nYC0XAH3-"
      },
      "outputs": [],
      "source": [
        "from math import factorial\n",
        "n,k= map(int, input().split())\n",
        "print(factorial(n)//(factorial(k)*factorial(n-k)))"
      ]
    }
  ]
}