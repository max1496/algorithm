{
  "nbformat": 4,
  "nbformat_minor": 0,
  "metadata": {
    "colab": {
      "name": "백준 1654번",
      "provenance": [],
      "collapsed_sections": [],
      "authorship_tag": "ABX9TyPrXEPatEwxkaEQy4xcj3++",
      "include_colab_link": true
    },
    "kernelspec": {
      "name": "python3",
      "display_name": "Python 3"
    },
    "language_info": {
      "name": "python"
    }
  },
  "cells": [
    {
      "cell_type": "markdown",
      "metadata": {
        "id": "view-in-github",
        "colab_type": "text"
      },
      "source": [
        "<a href=\"https://colab.research.google.com/github/max1496/algorithm/blob/master/%EB%B0%B1%EC%A4%80_1654%EB%B2%88.ipynb\" target=\"_parent\"><img src=\"https://colab.research.google.com/assets/colab-badge.svg\" alt=\"Open In Colab\"/></a>"
      ]
    },
    {
      "cell_type": "code",
      "execution_count": null,
      "metadata": {
        "id": "2q52q5zmlap2"
      },
      "outputs": [],
      "source": [
        "k,n=map(int,input().split())\n",
        "a=[]\n",
        "for _ in range(k):\n",
        "    a.append(int(input()))\n",
        "end=max(a)\n",
        "start=1\n",
        "while start<=end:\n",
        "    cnt=0\n",
        "    mid=(start+end)//2\n",
        "    \n",
        "    for i in range(k):\n",
        "        cnt+=a[i]//mid\n",
        "    if cnt>=n:\n",
        "        start=mid+1\n",
        "    else:\n",
        "        end = mid-1\n",
        "print(end)"
      ]
    }
  ]
}