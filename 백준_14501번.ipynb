{
  "nbformat": 4,
  "nbformat_minor": 0,
  "metadata": {
    "colab": {
      "name": "백준 14501번",
      "provenance": [],
      "collapsed_sections": [],
      "authorship_tag": "ABX9TyOm8i913NCz0KYXMGS+ynYB",
      "include_colab_link": true
    },
    "kernelspec": {
      "name": "python3",
      "display_name": "Python 3"
    },
    "language_info": {
      "name": "python"
    }
  },
  "cells": [
    {
      "cell_type": "markdown",
      "metadata": {
        "id": "view-in-github",
        "colab_type": "text"
      },
      "source": [
        "<a href=\"https://colab.research.google.com/github/max1496/algorithm/blob/master/%EB%B0%B1%EC%A4%80_14501%EB%B2%88.ipynb\" target=\"_parent\"><img src=\"https://colab.research.google.com/assets/colab-badge.svg\" alt=\"Open In Colab\"/></a>"
      ]
    },
    {
      "cell_type": "code",
      "execution_count": null,
      "metadata": {
        "id": "WAzvb4zUK6em"
      },
      "outputs": [],
      "source": [
        "n=int(input())\n",
        "a=[]\n",
        "b=[]\n",
        "dp=[]\n",
        "for _ in range(n):\n",
        "    x,y=map(int,input().split())\n",
        "    a.append(x)\n",
        "    b.append(y)\n",
        "    dp.append(y)\n",
        "dp.append(0)\n",
        "for i in range(n-1,-1,-1):\n",
        "    if i+a[i]>n:\n",
        "        dp[i]=dp[i+1]\n",
        "    else:\n",
        "        dp[i]=max(dp[i+1], b[i]+dp[i+a[i]])\n",
        "print(dp[0])"
      ]
    }
  ]
}