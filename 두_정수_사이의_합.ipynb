{
  "nbformat": 4,
  "nbformat_minor": 0,
  "metadata": {
    "colab": {
      "name": "두 정수 사이의 합.ipynb",
      "provenance": [],
      "collapsed_sections": [],
      "authorship_tag": "ABX9TyPtiGa6/0HVTJ7k5oJmKuBP"
    },
    "kernelspec": {
      "name": "python3",
      "display_name": "Python 3"
    },
    "language_info": {
      "name": "python"
    }
  },
  "cells": [
    {
      "cell_type": "markdown",
      "source": [
        "a부터 b까지 합을 구하는 단순한 문제"
      ],
      "metadata": {
        "id": "jhnEVoC-xyxh"
      }
    },
    {
      "cell_type": "code",
      "execution_count": null,
      "metadata": {
        "id": "klnsQi6rxlEC"
      },
      "outputs": [],
      "source": [
        "def solution(a, b):\n",
        "    answer = 0\n",
        "    if a<b:     #b가 a보다 크면 a부터\n",
        "        for i in range(a,b+1):\n",
        "            answer+=i\n",
        "    else:       #a가 b보다 크면 b부터\n",
        "        for i in range(b,a+1):\n",
        "            answer+=i\n",
        "    return answer"
      ]
    }
  ]
}