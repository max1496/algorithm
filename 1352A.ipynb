{
  "nbformat": 4,
  "nbformat_minor": 0,
  "metadata": {
    "colab": {
      "name": "1352A.ipynb",
      "provenance": [],
      "collapsed_sections": [],
      "authorship_tag": "ABX9TyMtNTgvTTccr274+Gt8mnUU",
      "include_colab_link": true
    },
    "kernelspec": {
      "name": "python3",
      "display_name": "Python 3"
    },
    "language_info": {
      "name": "python"
    }
  },
  "cells": [
    {
      "cell_type": "markdown",
      "metadata": {
        "id": "view-in-github",
        "colab_type": "text"
      },
      "source": [
        "<a href=\"https://colab.research.google.com/github/max1496/algorithm/blob/master/1352A.ipynb\" target=\"_parent\"><img src=\"https://colab.research.google.com/assets/colab-badge.svg\" alt=\"Open In Colab\"/></a>"
      ]
    },
    {
      "cell_type": "code",
      "execution_count": null,
      "metadata": {
        "id": "4nBLTi3znCbG"
      },
      "outputs": [],
      "source": [
        "t=int(input())\n",
        "for _ in range(t):\n",
        "    a=input()\n",
        "    x=[]\n",
        "    cnt=0\n",
        "    y=[]\n",
        "    if len(a)==1 or len(a)==5:\n",
        "        print(1)\n",
        "        print(a)\n",
        "    else:    \n",
        "        for i in reversed(range(len(a))):\n",
        "            if a[i]!=\"0\":\n",
        "                x.append(a[i])\n",
        "                cnt+=1\n",
        "                y.append(cnt)\n",
        "            else:\n",
        "                cnt+=1\n",
        "        print(len(x))\n",
        "        for j in range(len(x)):\n",
        "            print(int(x[j])*(10**(y[j]-1)), end=' ')\n",
        "        print()"
      ]
    },
    {
      "cell_type": "markdown",
      "source": [
        "테스트 케이스 t에 따라 정수를 문자열로 우선 인풋 a로 받아준다.\n",
        "\n",
        "a는 10**4까지 임으로 a의 길이는 1일때와 5일때 쪼개면 총 1개, a 그 자체가 된다.\n",
        "\n",
        "그렇지 않은 경우에는 a의 길이에 따라 for문을 돌려줬는데, 변수 i가 역순 즉,\n",
        "\n",
        "내림차순으로 돌아가야 5309의 예시의 경우 5000부터 출력이 되기에\n",
        "\n",
        "reversed()함수를 이용했다.\n",
        "\n",
        "a의 i번째 원소(역으로)가 0이 아닐때 배열 x에 append해 주었고 cnt라는 변수를\n",
        "\n",
        "따로 만들어서 10의 몇승인지 체크하기 위해 배열y에 저장했다."
      ],
      "metadata": {
        "id": "dA1fKuQopziJ"
      }
    }
  ]
}