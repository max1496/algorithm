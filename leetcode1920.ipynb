{
  "nbformat": 4,
  "nbformat_minor": 0,
  "metadata": {
    "colab": {
      "name": "leetcode1920.ipynb",
      "provenance": [],
      "collapsed_sections": [],
      "authorship_tag": "ABX9TyNWqtvXl7XADAdPcwBP56O9",
      "include_colab_link": true
    },
    "kernelspec": {
      "name": "python3",
      "display_name": "Python 3"
    },
    "language_info": {
      "name": "python"
    }
  },
  "cells": [
    {
      "cell_type": "markdown",
      "metadata": {
        "id": "view-in-github",
        "colab_type": "text"
      },
      "source": [
        "<a href=\"https://colab.research.google.com/github/max1496/algorithm/blob/master/leetcode1920.ipynb\" target=\"_parent\"><img src=\"https://colab.research.google.com/assets/colab-badge.svg\" alt=\"Open In Colab\"/></a>"
      ]
    },
    {
      "cell_type": "code",
      "execution_count": null,
      "metadata": {
        "id": "jC2lAPoFfCC3"
      },
      "outputs": [],
      "source": [
        "class Solution:\n",
        "    def buildArray(self, nums: List[int]) -> List[int]:\n",
        "        ans=[]\n",
        "        for i in range(len(nums)):\n",
        "            ans.append(nums[nums[i]])\n",
        "        return ans\n",
        "    "
      ]
    },
    {
      "cell_type": "markdown",
      "source": [
        "인덱스의 값을 배열에 한번더 참조한 값을 정답 배열에 집어넣으면 된다 젤 쉬운문제"
      ],
      "metadata": {
        "id": "rp0BFBBYpqo3"
      }
    },
    {
      "cell_type": "markdown",
      "source": [
        "스위프트 풀이"
      ],
      "metadata": {
        "id": "w1MzwSRwpyXE"
      }
    },
    {
      "cell_type": "markdown",
      "source": [
        "class Solution {\n",
        "    func buildArray(_ nums: [Int]) -> [Int] {\n",
        "        var a = [Int]()\n",
        "        \n",
        "        for (i,v) in nums.enumerated(){\n",
        "            a.append(nums[nums[nums.index(nums.startIndex, offsetBy:i)]])\n",
        "        }\n",
        "            \n",
        "        \n",
        "        return a\n",
        "    }\n",
        "}"
      ],
      "metadata": {
        "id": "gXgnXtKppznx"
      }
    }
  ]
}