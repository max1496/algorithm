{
  "nbformat": 4,
  "nbformat_minor": 0,
  "metadata": {
    "colab": {
      "name": "58A.ipynb",
      "provenance": [],
      "collapsed_sections": [],
      "authorship_tag": "ABX9TyO7SbLFf+Iv6HlMcjHKS6B1",
      "include_colab_link": true
    },
    "kernelspec": {
      "name": "python3",
      "display_name": "Python 3"
    },
    "language_info": {
      "name": "python"
    }
  },
  "cells": [
    {
      "cell_type": "markdown",
      "metadata": {
        "id": "view-in-github",
        "colab_type": "text"
      },
      "source": [
        "<a href=\"https://colab.research.google.com/github/max1496/algorithm/blob/master/58A.ipynb\" target=\"_parent\"><img src=\"https://colab.research.google.com/assets/colab-badge.svg\" alt=\"Open In Colab\"/></a>"
      ]
    },
    {
      "cell_type": "code",
      "execution_count": 59,
      "metadata": {
        "colab": {
          "base_uri": "https://localhost:8080/"
        },
        "id": "-W-n7p-qyVJk",
        "outputId": "78bd60a7-d363-4d2c-e30a-238c70f30e28"
      },
      "outputs": [
        {
          "output_type": "stream",
          "name": "stdout",
          "text": [
            "yehluhlkwo\n",
            "NO\n"
          ]
        }
      ],
      "source": [
        "n=input()\n",
        "n=[x for x in n]\n",
        "\n",
        "\n",
        "\n",
        "flag=True\n",
        "for i in reversed(range(len(n))):\n",
        "    if n[i]!=\"h\" and n[i]!=\"e\" and n[i]!=\"l\" and n[i]!=\"o\":\n",
        "        del n[i]\n",
        "def ans(n):\n",
        "    global x,y,z,w,flag\n",
        "    x=-1\n",
        "    y=-1\n",
        "    z=-1\n",
        "    w=-1\n",
        "\n",
        "    for j in range(len(n)):\n",
        "        if n[j]==\"h\":\n",
        "            x=j\n",
        "            break\n",
        "        else:\n",
        "            continue\n",
        "    \n",
        "    if x==-1 or x>len(n)-5:\n",
        "        return False\n",
        "    for k in range(x+1,len(n)):\n",
        "        if n[k]==\"e\":\n",
        "            y=k\n",
        "            break\n",
        "        else:\n",
        "            continue\n",
        "    if y==-1 or y>len(n)-4:\n",
        "        return False\n",
        "    for l in range(y+1,len(n)):\n",
        "        if n[l]==\"l\":\n",
        "            z=l\n",
        "            break\n",
        "        else:\n",
        "            continue  \n",
        "    if z==-1 or z>len(n)-3:\n",
        "        return False\n",
        "    for f in range(z+1,len(n)):\n",
        "        if n[f]==\"l\":\n",
        "            w=f\n",
        "            break\n",
        "        else:\n",
        "            continue\n",
        "    if w==-1 or w>len(n)-2:\n",
        "        return False\n",
        "    for r in range(w+1,len(n)):\n",
        "        if n[r]==\"o\":\n",
        "            break\n",
        "        elif r<len(n)-1:\n",
        "            continue    \n",
        "        else:\n",
        "            return False\n",
        "\n",
        "    return True\n",
        "if ans(n):    \n",
        "    print(\"YES\")\n",
        "  \n",
        "else:\n",
        "    print(\"NO\")`    `"
      ]
    },
    {
      "cell_type": "markdown",
      "source": [
        "문자를 인풋받고 적절한 인덱스의 문자를 제거한 후에 \"hello\"가 출력될수 있는지 묻는 문제다.\n",
        "\n",
        "hello가 출력되려면 우선 h, e, l, o가 아닌 문자는 모두 제거 해 줘야한다. reversed 함수 이용\n",
        "\n",
        "제거 할 때는 del 을 이용할 것이기 때문에 역순으로 for문을 돌린다. (앞의 문자가 먼저 삭제되면 \n",
        "\n",
        "리스트의 인덱스가 달라지기 때문)\n",
        "\n",
        "\n",
        "\n",
        "어떻게하면 hello라는 문자열만 남기고 if n==\"hello\"로 판별할까 고민을 정말 많이 한 문제다.\n",
        "\n",
        "결론은, 그렇게 푸는게 아니였다. 문제에서 요구하는 것만 하면 된다는 과거의 기억이 떠올랐다.\n",
        "\n",
        "\n",
        "\n",
        "문제에서 요구하는데로 문자를 제거하지 않더라도 hello를 찾기만 하면 되는 것이다.\n",
        "\n",
        "나는 함수를 만들고 flag bool변수를 이용해서 h다음에 e다음에 l 다음에 l 다음에\n",
        "\n",
        "o가 오는지 판별했고 그 과정중 하나라도 만족시키지 못하면 flag를 False로 리턴하였다.\n",
        "\n",
        "결론적으로 flag에 따라 답이 YES와 NO로 나뉘는 쉬운 문제라고 볼 수도 있는데.. \n",
        "\n",
        "\n",
        "\n",
        "먼저 함수를 사용하고 바깥에서도 변수를 사용해야 하니 함수안에서 global 변수 선언해주는게 낯설었다. \n",
        "\n",
        "그리고 h와 같은 문자가 오냐 안오냐를 판별할 때도, 그 때의 인덱스를 저장하고 인덱스가 저장되지 않으면 False를, 저장되면 그다음부터 e를 찾는 방식으로 판별하였다."
      ],
      "metadata": {
        "id": "kfyfn2GISKjH"
      }
    }
  ]
}