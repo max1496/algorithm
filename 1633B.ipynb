{
  "nbformat": 4,
  "nbformat_minor": 0,
  "metadata": {
    "colab": {
      "name": "1633B.ipynb",
      "provenance": [],
      "collapsed_sections": [],
      "authorship_tag": "ABX9TyMcbzmMd+KgjqyEUTwd8iKH",
      "include_colab_link": true
    },
    "kernelspec": {
      "name": "python3",
      "display_name": "Python 3"
    },
    "language_info": {
      "name": "python"
    }
  },
  "cells": [
    {
      "cell_type": "markdown",
      "metadata": {
        "id": "view-in-github",
        "colab_type": "text"
      },
      "source": [
        "<a href=\"https://colab.research.google.com/github/max1496/algorithm/blob/master/1633B.ipynb\" target=\"_parent\"><img src=\"https://colab.research.google.com/assets/colab-badge.svg\" alt=\"Open In Colab\"/></a>"
      ]
    },
    {
      "cell_type": "code",
      "execution_count": null,
      "metadata": {
        "colab": {
          "base_uri": "https://localhost:8080/"
        },
        "id": "FMOpx4JFmNPf",
        "outputId": "bf602d0a-804c-458b-9227-d7fdd1bba113"
      },
      "outputs": [
        {
          "output_type": "stream",
          "name": "stdout",
          "text": [
            "2\n",
            "10101010\n",
            "0\n"
          ]
        }
      ],
      "source": [
        "n=int(input())\n",
        "cnt1=0\n",
        "cnt2=0\n",
        "for _ in range(n):\n",
        "    a=input()\n",
        "    x=a.count(\"1\")\n",
        "    y=a.count(\"0\")\n",
        "    if x==0 or y==0:\n",
        "        print(0)\n",
        "    elif x==y:\n",
        "        for i in range(1,len(a)):\n",
        "            if a[-i]==a[-(i+1)]:\n",
        "                cnt1+=1\n",
        "                \n",
        "                continue\n",
        "\n",
        "            else:\n",
        "                break\n",
        "        for i in range(len(a)-1):\n",
        "            if a[i]==a[(i+1)]:\n",
        "                cnt2+=1\n",
        "                \n",
        "                continue\n",
        "\n",
        "            else:\n",
        "                break\n",
        "        if cnt1>=cnt2:\n",
        "            print(cnt1)\n",
        "        elif cnt1==0 and cnt2==0:\n",
        "            print(1)\n",
        "        else:\n",
        "            print(cnt2)\n",
        "        \n",
        "    else:\n",
        "        if x>y:\n",
        "            print(y)\n",
        "        else:\n",
        "            print(x)"
      ]
    }
  ]
}