{
  "nbformat": 4,
  "nbformat_minor": 0,
  "metadata": {
    "colab": {
      "name": "1633B.ipynb",
      "provenance": [],
      "collapsed_sections": [],
      "authorship_tag": "ABX9TyPBefcUv2pMTAfIG2qCZusu",
      "include_colab_link": true
    },
    "kernelspec": {
      "name": "python3",
      "display_name": "Python 3"
    },
    "language_info": {
      "name": "python"
    }
  },
  "cells": [
    {
      "cell_type": "markdown",
      "metadata": {
        "id": "view-in-github",
        "colab_type": "text"
      },
      "source": [
        "<a href=\"https://colab.research.google.com/github/max1496/algorithm/blob/master/1633B.ipynb\" target=\"_parent\"><img src=\"https://colab.research.google.com/assets/colab-badge.svg\" alt=\"Open In Colab\"/></a>"
      ]
    },
    {
      "cell_type": "code",
      "execution_count": 45,
      "metadata": {
        "colab": {
          "base_uri": "https://localhost:8080/"
        },
        "id": "FMOpx4JFmNPf",
        "outputId": "629de80d-f197-4c8b-97f7-f6015bb5f0bf"
      },
      "outputs": [
        {
          "output_type": "stream",
          "name": "stdout",
          "text": [
            "10\n",
            "100110\n",
            "2\n",
            "111000\n",
            "2\n",
            "1010\n",
            "1\n",
            "101100\n",
            "2\n",
            "1\n",
            "1\n",
            "0\n",
            "0\n",
            "1\n",
            "0\n",
            "\n",
            "0\n",
            "\n",
            "0\n",
            "\n",
            "0\n"
          ]
        }
      ],
      "source": [
        "n=int(input())\n",
        "\n",
        "for _ in range(n):\n",
        "    cnt1=0\n",
        "    cnt2=0\n",
        "    a=input()\n",
        "    a= [x for x in a]\n",
        "    x=a.count(\"1\")\n",
        "    y=a.count(\"0\")\n",
        "    if x==0 or y==0 or (x==1 and y==1):\n",
        "        print(0)\n",
        "    elif x==y:\n",
        "        \n",
        "\n",
        "        for i in range(1,len(a)):\n",
        "            if a[-i]==a[-(i+1)]:\n",
        "                cnt1+=1\n",
        "                \n",
        "                continue\n",
        "\n",
        "            else:\n",
        "                break\n",
        "        for j in range(len(a)-1):\n",
        "            if a[j]==a[(j+1)]:\n",
        "                cnt2+=1\n",
        "                \n",
        "                continue\n",
        "\n",
        "            else:\n",
        "                break\n",
        "        # if cnt1>cnt2:\n",
        "        #     print(cnt1)\n",
        "        # elif cnt1==0 and cnt2==0:\n",
        "        #     print(1)\n",
        "        # elif cnt1 == cnt2 and cnt1==1:\n",
        "        #     print(len(a)//2-1)\n",
        "        # elif cnt1 == cnt2 and cnt1>1:\n",
        "        #     print(len(a)//2-1) \n",
        "        # else:\n",
        "        #     print(cnt2)\n",
        "\n",
        "        if cnt1>=cnt2:\n",
        "            del a[-1]\n",
        "            x1=a.count(\"0\")\n",
        "            y1=a.count(\"1\")\n",
        "            if x1>y1:\n",
        "                print(y1)\n",
        "            else:\n",
        "                print(x1)\n",
        "        else:\n",
        "            del a[0]\n",
        "            x2=a.count(\"0\")\n",
        "            y2=a.count(\"1\")\n",
        "            if x2>y2:\n",
        "                print(y2)\n",
        "            else:\n",
        "                print(x2)\n",
        "    else:\n",
        "        if x>y:\n",
        "            print(y)\n",
        "        else:\n",
        "            print(x)"
      ]
    }
  ]
}