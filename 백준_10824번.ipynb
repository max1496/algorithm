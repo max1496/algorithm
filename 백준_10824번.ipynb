{
  "nbformat": 4,
  "nbformat_minor": 0,
  "metadata": {
    "colab": {
      "name": "백준 10824번",
      "provenance": [],
      "collapsed_sections": [],
      "authorship_tag": "ABX9TyOwjF2iMzarGNu4mF30hgTb",
      "include_colab_link": true
    },
    "kernelspec": {
      "name": "python3",
      "display_name": "Python 3"
    },
    "language_info": {
      "name": "python"
    }
  },
  "cells": [
    {
      "cell_type": "markdown",
      "metadata": {
        "id": "view-in-github",
        "colab_type": "text"
      },
      "source": [
        "<a href=\"https://colab.research.google.com/github/max1496/algorithm/blob/master/%EB%B0%B1%EC%A4%80_10824%EB%B2%88.ipynb\" target=\"_parent\"><img src=\"https://colab.research.google.com/assets/colab-badge.svg\" alt=\"Open In Colab\"/></a>"
      ]
    },
    {
      "cell_type": "code",
      "execution_count": 2,
      "metadata": {
        "colab": {
          "base_uri": "https://localhost:8080/"
        },
        "id": "F87tgKPlH_rA",
        "outputId": "5fbaff36-17b1-4b89-badd-84b336b82fe9"
      },
      "outputs": [
        {
          "output_type": "stream",
          "name": "stdout",
          "text": [
            "12 2 3 4\n",
            "156\n"
          ]
        }
      ],
      "source": [
        "a,b,c,d = map(str, input().split())\n",
        "p = a+b\n",
        "q= c+d\n",
        "print(int(p)+int(q))"
      ]
    }
  ]
}