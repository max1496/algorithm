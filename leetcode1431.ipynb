{
  "nbformat": 4,
  "nbformat_minor": 0,
  "metadata": {
    "colab": {
      "name": "leetcode1431.ipynb",
      "provenance": [],
      "collapsed_sections": [],
      "authorship_tag": "ABX9TyP4MrFG1chkmMxbSZA7SjFU",
      "include_colab_link": true
    },
    "kernelspec": {
      "name": "python3",
      "display_name": "Python 3"
    },
    "language_info": {
      "name": "python"
    }
  },
  "cells": [
    {
      "cell_type": "markdown",
      "metadata": {
        "id": "view-in-github",
        "colab_type": "text"
      },
      "source": [
        "<a href=\"https://colab.research.google.com/github/max1496/algorithm/blob/master/leetcode1431.ipynb\" target=\"_parent\"><img src=\"https://colab.research.google.com/assets/colab-badge.svg\" alt=\"Open In Colab\"/></a>"
      ]
    },
    {
      "cell_type": "markdown",
      "source": [
        "extraCandies를 캔디 배열 값에 더했을때 다른 수보다 작지 않을 수 있냐는 문제.\n",
        "\n",
        "max함수로 최대값을 미리 저장해 두고 포문을 돌리며 비교"
      ],
      "metadata": {
        "id": "YEn19Pv_8eMT"
      }
    },
    {
      "cell_type": "markdown",
      "source": [
        "스위프트"
      ],
      "metadata": {
        "id": "fi1eP8vj8h7M"
      }
    },
    {
      "cell_type": "markdown",
      "source": [
        "class Solution {\n",
        "    func kidsWithCandies(_ candies: [Int], _ extraCandies: Int) -> [Bool] {\n",
        "        var maxcan = candies.max()\n",
        "        var a = [Bool]()\n",
        "        for i in 0..<candies.count{\n",
        "            if candies[i] + extraCandies >= maxcan!{\n",
        "                a.append(true)\n",
        "                \n",
        "            }\n",
        "            else{\n",
        "                a.append(false)\n",
        "            }\n",
        "        }\n",
        "        return a\n",
        "    }\n",
        "}"
      ],
      "metadata": {
        "id": "DKqY4_pZ8jEd"
      }
    },
    {
      "cell_type": "markdown",
      "source": [
        "파이썬"
      ],
      "metadata": {
        "id": "ezqdw5J98j3F"
      }
    },
    {
      "cell_type": "code",
      "execution_count": null,
      "metadata": {
        "id": "gpH3mUfI3919"
      },
      "outputs": [],
      "source": [
        "class Solution:\n",
        "    def kidsWithCandies(self, candies: List[int], extraCandies: int) -> List[bool]:\n",
        "        maxcand = max(candies)\n",
        "        arr=[]\n",
        "        for i in range(len(candies)):\n",
        "            if candies[i]+extraCandies >= maxcand:\n",
        "                arr.append(True)\n",
        "            else:\n",
        "                arr.append(False)\n",
        "        return arr"
      ]
    }
  ]
}