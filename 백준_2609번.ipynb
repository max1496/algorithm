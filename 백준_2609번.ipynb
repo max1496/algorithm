{
  "nbformat": 4,
  "nbformat_minor": 0,
  "metadata": {
    "colab": {
      "name": "백준 2609번",
      "provenance": [],
      "collapsed_sections": [],
      "authorship_tag": "ABX9TyOXU6rpn2xWZ0QDWAGAGKoe",
      "include_colab_link": true
    },
    "kernelspec": {
      "name": "python3",
      "display_name": "Python 3"
    },
    "language_info": {
      "name": "python"
    }
  },
  "cells": [
    {
      "cell_type": "markdown",
      "metadata": {
        "id": "view-in-github",
        "colab_type": "text"
      },
      "source": [
        "<a href=\"https://colab.research.google.com/github/max1496/algorithm/blob/master/%EB%B0%B1%EC%A4%80_2609%EB%B2%88.ipynb\" target=\"_parent\"><img src=\"https://colab.research.google.com/assets/colab-badge.svg\" alt=\"Open In Colab\"/></a>"
      ]
    },
    {
      "cell_type": "code",
      "execution_count": null,
      "metadata": {
        "id": "RTBSWt_Jo0Pa"
      },
      "outputs": [],
      "source": [
        "n,m = map(int, input().split())\n",
        "# 임의의 n, m 중 max, min의 값을 찾는다.\n",
        "_max, _min = max(n, m), min(n, m)\n",
        "    # min의 값이 0보다 크면\n",
        "while _min:\n",
        "    _max, _min = _min, _max%_min\n",
        "print(_max, int(n * m / _max))"
      ]
    }
  ]
}