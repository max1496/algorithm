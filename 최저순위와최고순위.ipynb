{
  "nbformat": 4,
  "nbformat_minor": 0,
  "metadata": {
    "colab": {
      "name": "최저순위와최고순위.ipynb",
      "provenance": [],
      "collapsed_sections": [],
      "authorship_tag": "ABX9TyOwJTaFa596eUFehx6ORQW3"
    },
    "kernelspec": {
      "name": "python3",
      "display_name": "Python 3"
    },
    "language_info": {
      "name": "python"
    }
  },
  "cells": [
    {
      "cell_type": "markdown",
      "source": [
        "순위를 배열에 정리하고 최대로 맞췄을 경우와 최소로 맞췄을 경우를 배열에 넣는다."
      ],
      "metadata": {
        "id": "WhiCfkj8zUzx"
      }
    },
    {
      "cell_type": "code",
      "execution_count": null,
      "metadata": {
        "id": "UPgbpJ6qzUVi"
      },
      "outputs": [],
      "source": [
        "def solution(lottos, win_nums):\n",
        "    answer = []\n",
        "    Back = [6,6,5,4,3,2,1]      #6등부터 1등까지\n",
        "    a=set(win_nums)-set(lottos)     #동일한 번호를 빼줌\n",
        "    l = 6-len(a)        #몇 개 번호가 일치하는지\n",
        "    x =l+lottos.count(0)        #최대 당첨\n",
        "    if x>6:     #6등일 때\n",
        "        x=6\n",
        "    \n",
        "    m=Back[x]   #최대\n",
        "    n=Back[l]   #최소\n",
        "    answer.append(m)\n",
        "    answer.append(n)\n",
        "    return answer"
      ]
    }
  ]
}