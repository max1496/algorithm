{
  "nbformat": 4,
  "nbformat_minor": 0,
  "metadata": {
    "colab": {
      "name": "131A.ipynb",
      "provenance": [],
      "collapsed_sections": [],
      "authorship_tag": "ABX9TyNoouUcH1N+TdX1GGVh2Xbi",
      "include_colab_link": true
    },
    "kernelspec": {
      "name": "python3",
      "display_name": "Python 3"
    },
    "language_info": {
      "name": "python"
    }
  },
  "cells": [
    {
      "cell_type": "markdown",
      "metadata": {
        "id": "view-in-github",
        "colab_type": "text"
      },
      "source": [
        "<a href=\"https://colab.research.google.com/github/max1496/algorithm/blob/master/131A.ipynb\" target=\"_parent\"><img src=\"https://colab.research.google.com/assets/colab-badge.svg\" alt=\"Open In Colab\"/></a>"
      ]
    },
    {
      "cell_type": "code",
      "execution_count": 11,
      "metadata": {
        "colab": {
          "base_uri": "https://localhost:8080/"
        },
        "id": "iEXWwkfyPjLF",
        "outputId": "c36dfb8b-0871-4459-e292-3dead4de2a8f"
      },
      "outputs": [
        {
          "output_type": "stream",
          "name": "stdout",
          "text": [
            "CAPs\n",
            "CAPs\n"
          ]
        }
      ],
      "source": [
        "a=input()\n",
        "a=[x for x in a]\n",
        "flag= True\n",
        "if a[0].islower() == True:\n",
        "    \n",
        "    for i in range(len(a)-1):\n",
        "        if a[i+1].islower()==True:\n",
        "            flag = False\n",
        "    for j in range(len(a)-1):\n",
        "        if flag:\n",
        "            a[j+1]=a[j+1].lower()\n",
        "    if flag:  \n",
        "        a[0]=a[0].upper()  \n",
        "        \n",
        "else:\n",
        "    for i in range(len(a)-1):\n",
        "        if a[i+1].islower()==True:\n",
        "            flag=False\n",
        "    for i in range(len(a)):\n",
        "        if flag:\n",
        "            a[i]=a[i].lower()\n",
        "print(\"\".join(a))"
      ]
    },
    {
      "cell_type": "markdown",
      "source": [
        "문제가 첫번째만 소문자고 나머지는 다 대문자일 경우와 전부 대문자일 경우만 수정을 하라고 애매하게 되있어서 좀 애를 먹었다. 경우를 잘 나눠서 오류가 나면 answer를 확인하고 고쳤다."
      ],
      "metadata": {
        "id": "7Ajgy6b3VCEB"
      }
    }
  ]
}