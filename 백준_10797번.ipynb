{
  "nbformat": 4,
  "nbformat_minor": 0,
  "metadata": {
    "colab": {
      "name": "백준 10797번",
      "provenance": [],
      "collapsed_sections": [],
      "authorship_tag": "ABX9TyM5/L028nLNKKMlgmuVHloj",
      "include_colab_link": true
    },
    "kernelspec": {
      "name": "python3",
      "display_name": "Python 3"
    },
    "language_info": {
      "name": "python"
    }
  },
  "cells": [
    {
      "cell_type": "markdown",
      "metadata": {
        "id": "view-in-github",
        "colab_type": "text"
      },
      "source": [
        "<a href=\"https://colab.research.google.com/github/max1496/algorithm/blob/master/%EB%B0%B1%EC%A4%80_10797%EB%B2%88.ipynb\" target=\"_parent\"><img src=\"https://colab.research.google.com/assets/colab-badge.svg\" alt=\"Open In Colab\"/></a>"
      ]
    },
    {
      "cell_type": "code",
      "execution_count": null,
      "metadata": {
        "id": "Sex26BWuk0D4"
      },
      "outputs": [],
      "source": [
        "n = int(input())\n",
        "a= list(map(int, input().split()))\n",
        "cnt=0\n",
        "for i in range(len(a)):\n",
        "    if a[i]==n:\n",
        "        cnt+=1\n",
        "print(cnt)"
      ]
    }
  ]
}