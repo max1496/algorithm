{
  "nbformat": 4,
  "nbformat_minor": 0,
  "metadata": {
    "colab": {
      "name": "백준 2822번",
      "provenance": [],
      "collapsed_sections": [],
      "authorship_tag": "ABX9TyNFdsgExgMdhQFtQPnXAzAS",
      "include_colab_link": true
    },
    "kernelspec": {
      "name": "python3",
      "display_name": "Python 3"
    },
    "language_info": {
      "name": "python"
    }
  },
  "cells": [
    {
      "cell_type": "markdown",
      "metadata": {
        "id": "view-in-github",
        "colab_type": "text"
      },
      "source": [
        "<a href=\"https://colab.research.google.com/github/max1496/algorithm/blob/master/%EB%B0%B1%EC%A4%80_2822%EB%B2%88.ipynb\" target=\"_parent\"><img src=\"https://colab.research.google.com/assets/colab-badge.svg\" alt=\"Open In Colab\"/></a>"
      ]
    },
    {
      "cell_type": "code",
      "execution_count": 4,
      "metadata": {
        "colab": {
          "base_uri": "https://localhost:8080/"
        },
        "id": "iVZobiSp_-W4",
        "outputId": "9a8569d7-8260-4583-ffb1-ff8a941610d5"
      },
      "outputs": [
        {
          "output_type": "stream",
          "name": "stdout",
          "text": [
            "20\n",
            "30\n",
            "50\n",
            "70\n",
            "10\n",
            "12\n",
            "14\n",
            "51\n",
            "221\n",
            "1 2 3 4 5\n",
            "[70, 51, 50, 30, 20, 14, 12, 10]\n"
          ]
        }
      ],
      "source": [
        "a=[]\n",
        "c=[]\n",
        "d=[]\n",
        "for _ in range(8):\n",
        "    x= int(input())\n",
        "    a.append(x)\n",
        "    d.append(x)\n",
        "temp=a\n",
        "temp.sort(reverse=True)\n",
        "b=temp[:5]\n",
        "print(sum(b))\n",
        "for i,v in enumerate(d):\n",
        "    if v in b:\n",
        "        c.append(i+1)\n",
        "c.sort()\n",
        "print(*c)"
      ]
    }
  ]
}