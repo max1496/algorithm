{
  "nbformat": 4,
  "nbformat_minor": 0,
  "metadata": {
    "colab": {
      "name": "백준 10815번",
      "provenance": [],
      "collapsed_sections": [],
      "authorship_tag": "ABX9TyME2Xu4URP4gnlnOctU2jFm",
      "include_colab_link": true
    },
    "kernelspec": {
      "name": "python3",
      "display_name": "Python 3"
    },
    "language_info": {
      "name": "python"
    }
  },
  "cells": [
    {
      "cell_type": "markdown",
      "metadata": {
        "id": "view-in-github",
        "colab_type": "text"
      },
      "source": [
        "<a href=\"https://colab.research.google.com/github/max1496/algorithm/blob/master/%EB%B0%B1%EC%A4%80_10815%EB%B2%88.ipynb\" target=\"_parent\"><img src=\"https://colab.research.google.com/assets/colab-badge.svg\" alt=\"Open In Colab\"/></a>"
      ]
    },
    {
      "cell_type": "code",
      "execution_count": null,
      "metadata": {
        "id": "nLnE0KgwjHM5"
      },
      "outputs": [],
      "source": [
        "m= int(input())\n",
        "a=list(map(int,(input().split())))\n",
        "n=int(input())\n",
        "b=list(map(int,(input().split())))\n",
        "a.sort()\n",
        "def b_s(arr,tar,st,end):\n",
        "    while st<=end:\n",
        "        mid = (st+end)//2\n",
        "        if arr[mid]==tar:\n",
        "            return mid\n",
        "        elif arr[mid]>tar:\n",
        "            end=mid-1\n",
        "        else:\n",
        "            st=mid+1\n",
        "    return None\n",
        "for i in range(n):\n",
        "    if b_s(a,b[i],0,m-1)!=None:\n",
        "        print(1, end=\" \")\n",
        "    else:\n",
        "        print(0, end=\" \")"
      ]
    }
  ]
}