{
  "nbformat": 4,
  "nbformat_minor": 0,
  "metadata": {
    "colab": {
      "name": "2016년.ipynb",
      "provenance": [],
      "collapsed_sections": [],
      "authorship_tag": "ABX9TyO68hhUxOnF2Wlrsks2oxVz"
    },
    "kernelspec": {
      "name": "python3",
      "display_name": "Python 3"
    },
    "language_info": {
      "name": "python"
    }
  },
  "cells": [
    {
      "cell_type": "markdown",
      "source": [
        "금요일을 0번째 요일로 보고 각 달마다 일 수와 b일까지의 일수를 더해준 다음에 7로 나눈다."
      ],
      "metadata": {
        "id": "kSAZfPtfGq9H"
      }
    },
    {
      "cell_type": "code",
      "execution_count": null,
      "metadata": {
        "id": "r-scFNl18w6o"
      },
      "outputs": [],
      "source": [
        "def solution(a, b):\n",
        "    answer = ''\n",
        "    k=[\"FRI\",\"SAT\",\"SUN\",'MON','TUE','WED','THU']   #금요일부터 시작\n",
        "    d=0 # 일 수\n",
        "    for i in range(1,a):\n",
        "        if i in [1,3,5,7,8,10]: #31일인 달\n",
        "            d+=31\n",
        "        elif i in[4,6,9,11]:    #30일인 달\n",
        "            d+=30\n",
        "        elif i == 2:    #29일인 달\n",
        "            d+=29\n",
        "    d+=b-1  #b일에서 1빼줌\n",
        "    answer=k[d%7]   #일 수를 7로 나눈 나머지\n",
        "    return answer"
      ]
    }
  ]
}