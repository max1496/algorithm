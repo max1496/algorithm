{
  "nbformat": 4,
  "nbformat_minor": 0,
  "metadata": {
    "colab": {
      "name": "백준 10820번",
      "provenance": [],
      "collapsed_sections": [],
      "authorship_tag": "ABX9TyMW9S9c4AvbkjOXcidClqu9",
      "include_colab_link": true
    },
    "kernelspec": {
      "name": "python3",
      "display_name": "Python 3"
    },
    "language_info": {
      "name": "python"
    }
  },
  "cells": [
    {
      "cell_type": "markdown",
      "metadata": {
        "id": "view-in-github",
        "colab_type": "text"
      },
      "source": [
        "<a href=\"https://colab.research.google.com/github/max1496/algorithm/blob/master/%EB%B0%B1%EC%A4%80_10820%EB%B2%88.ipynb\" target=\"_parent\"><img src=\"https://colab.research.google.com/assets/colab-badge.svg\" alt=\"Open In Colab\"/></a>"
      ]
    },
    {
      "cell_type": "code",
      "execution_count": null,
      "metadata": {
        "id": "dazagATcd-v4"
      },
      "outputs": [],
      "source": [
        "\n",
        "while True:\n",
        "    \n",
        "    try:\n",
        "        a=0\n",
        "        b=0\n",
        "        c=0\n",
        "        d=0\n",
        "        n= list(input())\n",
        "        for i in range(len(n)):\n",
        "            if n[i]>='a' and n[i]<='z':\n",
        "                a+=1\n",
        "            elif n[i]>='A' and n[i]<='Z':\n",
        "                b+=1\n",
        "            elif '9'>=n[i]>='0':\n",
        "                c+=1\n",
        "            elif n[i]==\" \":\n",
        "                d+=1\n",
        "        print(a,b,c,d, sep=\" \")\n",
        "    except EOFError :\n",
        "        break\n",
        "        "
      ]
    }
  ]
}