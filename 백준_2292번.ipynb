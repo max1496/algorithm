{
  "nbformat": 4,
  "nbformat_minor": 0,
  "metadata": {
    "colab": {
      "name": "백준 2292번",
      "provenance": [],
      "authorship_tag": "ABX9TyN85EeUdU/8YVgwRPGvcSiD",
      "include_colab_link": true
    },
    "kernelspec": {
      "name": "python3",
      "display_name": "Python 3"
    },
    "language_info": {
      "name": "python"
    }
  },
  "cells": [
    {
      "cell_type": "markdown",
      "metadata": {
        "id": "view-in-github",
        "colab_type": "text"
      },
      "source": [
        "<a href=\"https://colab.research.google.com/github/max1496/algorithm/blob/master/%EB%B0%B1%EC%A4%80_2292%EB%B2%88.ipynb\" target=\"_parent\"><img src=\"https://colab.research.google.com/assets/colab-badge.svg\" alt=\"Open In Colab\"/></a>"
      ]
    },
    {
      "cell_type": "code",
      "execution_count": 3,
      "metadata": {
        "colab": {
          "base_uri": "https://localhost:8080/"
        },
        "id": "Z0zBgVGSiaxZ",
        "outputId": "b67cfe4a-2c42-4767-90d8-abd2579a90df"
      },
      "outputs": [
        {
          "output_type": "stream",
          "name": "stdout",
          "text": [
            "58\n",
            "5\n"
          ]
        }
      ],
      "source": [
        "n= int(input())\n",
        "cnt=1\n",
        "a = 1\n",
        "while n> a:\n",
        "    a+=6*cnt\n",
        "    cnt+=1\n",
        "\n",
        "print(cnt)"
      ]
    }
  ]
}