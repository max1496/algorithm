{
  "nbformat": 4,
  "nbformat_minor": 0,
  "metadata": {
    "colab": {
      "name": "백준 11650번 파이썬",
      "provenance": [],
      "collapsed_sections": [],
      "authorship_tag": "ABX9TyOVPikRozi7pdBXudyzma1l",
      "include_colab_link": true
    },
    "kernelspec": {
      "name": "python3",
      "display_name": "Python 3"
    },
    "language_info": {
      "name": "python"
    }
  },
  "cells": [
    {
      "cell_type": "markdown",
      "metadata": {
        "id": "view-in-github",
        "colab_type": "text"
      },
      "source": [
        "<a href=\"https://colab.research.google.com/github/max1496/algorithm/blob/master/%EB%B0%B1%EC%A4%80_11650%EB%B2%88_%ED%8C%8C%EC%9D%B4%EC%8D%AC.ipynb\" target=\"_parent\"><img src=\"https://colab.research.google.com/assets/colab-badge.svg\" alt=\"Open In Colab\"/></a>"
      ]
    },
    {
      "cell_type": "code",
      "execution_count": null,
      "metadata": {
        "id": "KX0OkzH-a6Qy"
      },
      "outputs": [],
      "source": [
        "n=int(input())\n",
        "a=[]\n",
        "for _ in range(n):\n",
        "    a.append(list(map(int, input().split())))\n",
        "a.sort(key = lambda x: (x[0],x[1]))\n",
        "for i in a:\n",
        "    print(i[0],i[1])"
      ]
    }
  ]
}