{
  "nbformat": 4,
  "nbformat_minor": 0,
  "metadata": {
    "colab": {
      "name": "백준 1912번",
      "provenance": [],
      "collapsed_sections": [],
      "authorship_tag": "ABX9TyMXMSVo0wAI8h0CRkCD3wQD",
      "include_colab_link": true
    },
    "kernelspec": {
      "name": "python3",
      "display_name": "Python 3"
    },
    "language_info": {
      "name": "python"
    }
  },
  "cells": [
    {
      "cell_type": "markdown",
      "metadata": {
        "id": "view-in-github",
        "colab_type": "text"
      },
      "source": [
        "<a href=\"https://colab.research.google.com/github/max1496/algorithm/blob/master/%EB%B0%B1%EC%A4%80_1912%EB%B2%88.ipynb\" target=\"_parent\"><img src=\"https://colab.research.google.com/assets/colab-badge.svg\" alt=\"Open In Colab\"/></a>"
      ]
    },
    {
      "cell_type": "code",
      "execution_count": null,
      "metadata": {
        "id": "gxIqiV6d1TB5"
      },
      "outputs": [],
      "source": [
        "n=int(input())\n",
        "a=list(map(int, input().split()))\n",
        "s=[a[0]]\n",
        "for i in range(n-1):\n",
        "    s.append(max(s[i]+a[i+1],a[i+1]))\n",
        "print(max(s))"
      ]
    }
  ]
}