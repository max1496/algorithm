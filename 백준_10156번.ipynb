{
  "nbformat": 4,
  "nbformat_minor": 0,
  "metadata": {
    "colab": {
      "name": "백준 10156번",
      "provenance": [],
      "collapsed_sections": [],
      "authorship_tag": "ABX9TyNvqfmoZU0HkTr+SuzJGFnL",
      "include_colab_link": true
    },
    "kernelspec": {
      "name": "python3",
      "display_name": "Python 3"
    },
    "language_info": {
      "name": "python"
    }
  },
  "cells": [
    {
      "cell_type": "markdown",
      "metadata": {
        "id": "view-in-github",
        "colab_type": "text"
      },
      "source": [
        "<a href=\"https://colab.research.google.com/github/max1496/algorithm/blob/master/%EB%B0%B1%EC%A4%80_10156%EB%B2%88.ipynb\" target=\"_parent\"><img src=\"https://colab.research.google.com/assets/colab-badge.svg\" alt=\"Open In Colab\"/></a>"
      ]
    },
    {
      "cell_type": "code",
      "execution_count": null,
      "metadata": {
        "id": "jajJg5A_25sv"
      },
      "outputs": [],
      "source": [
        "k,n,m= map(int, input().split())\n",
        "if k*n<m:\n",
        "    print(0)\n",
        "else:\n",
        "\n",
        "    print(k*n-m)"
      ]
    },
    {
      "cell_type": "code",
      "source": [
        ""
      ],
      "metadata": {
        "id": "EGqstlp53l-Q"
      },
      "execution_count": null,
      "outputs": []
    }
  ]
}