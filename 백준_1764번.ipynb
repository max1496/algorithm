{
  "nbformat": 4,
  "nbformat_minor": 0,
  "metadata": {
    "colab": {
      "provenance": [],
      "collapsed_sections": [],
      "authorship_tag": "ABX9TyOp3UW2roWEjDrkvjmkfZtS",
      "include_colab_link": true
    },
    "kernelspec": {
      "name": "python3",
      "display_name": "Python 3"
    },
    "language_info": {
      "name": "python"
    }
  },
  "cells": [
    {
      "cell_type": "markdown",
      "metadata": {
        "id": "view-in-github",
        "colab_type": "text"
      },
      "source": [
        "<a href=\"https://colab.research.google.com/github/max1496/algorithm/blob/master/%EB%B0%B1%EC%A4%80_1764%EB%B2%88.ipynb\" target=\"_parent\"><img src=\"https://colab.research.google.com/assets/colab-badge.svg\" alt=\"Open In Colab\"/></a>"
      ]
    },
    {
      "cell_type": "code",
      "execution_count": null,
      "metadata": {
        "id": "LZMyb2sDGd9N"
      },
      "outputs": [],
      "source": [
        "n,m = map(int,input().split())\n",
        "a=set()\n",
        "b=set()\n",
        "for i in range(n):\n",
        "    a.add(input())\n",
        "for j in range(m):\n",
        "    b.add(input())\n",
        "s=sorted(list(a&b))\n",
        "print(len(s))\n",
        "for k in range(len(s)):\n",
        "    print(s[k])"
      ]
    }
  ]
}