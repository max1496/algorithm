{
  "nbformat": 4,
  "nbformat_minor": 0,
  "metadata": {
    "colab": {
      "name": "백준 2941번",
      "provenance": [],
      "collapsed_sections": [],
      "authorship_tag": "ABX9TyPEApZBYKkNUM7U6pGNZtls",
      "include_colab_link": true
    },
    "kernelspec": {
      "name": "python3",
      "display_name": "Python 3"
    },
    "language_info": {
      "name": "python"
    }
  },
  "cells": [
    {
      "cell_type": "markdown",
      "metadata": {
        "id": "view-in-github",
        "colab_type": "text"
      },
      "source": [
        "<a href=\"https://colab.research.google.com/github/max1496/algorithm/blob/master/%EB%B0%B1%EC%A4%80_2941%EB%B2%88.ipynb\" target=\"_parent\"><img src=\"https://colab.research.google.com/assets/colab-badge.svg\" alt=\"Open In Colab\"/></a>"
      ]
    },
    {
      "cell_type": "code",
      "execution_count": 16,
      "metadata": {
        "colab": {
          "base_uri": "https://localhost:8080/"
        },
        "id": "-74d6lML_sDd",
        "outputId": "6e7e8a98-32a7-4d20-861d-fb4172220350"
      },
      "outputs": [
        {
          "output_type": "stream",
          "name": "stdout",
          "text": [
            "ljes=njak\n",
            "*e**ak\n"
          ]
        }
      ],
      "source": [
        "arr = [\"c=\", \"c-\", \"dz=\",\"d-\",\"lj\", \"nj\",\"s=\",\"z=\"]\n",
        "cnt=0\n",
        "a= input()\n",
        "for i in arr:\n",
        "    a=a.replace(i,\"*\")\n",
        "print(len(a))\n"
      ]
    }
  ]
}