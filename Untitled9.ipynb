{
  "nbformat": 4,
  "nbformat_minor": 0,
  "metadata": {
    "colab": {
      "name": "Untitled9.ipynb",
      "provenance": [],
      "authorship_tag": "ABX9TyONnfQOmGhjfBsu3zy3OBAI"
    },
    "kernelspec": {
      "name": "python3",
      "display_name": "Python 3"
    },
    "language_info": {
      "name": "python"
    }
  },
  "cells": [
    {
      "cell_type": "code",
      "execution_count": null,
      "metadata": {
        "id": "a-Lf5ooDkCCT"
      },
      "outputs": [],
      "source": [
        "def solution(n):\n",
        "    answer = ''\n",
        "    for i in range(n):\n",
        "        if i%2 == 0:\n",
        "            answer+=\"수\"\n",
        "        else:\n",
        "            answer+=\"박\"\n",
        "    return answer"
      ]
    }
  ]
}