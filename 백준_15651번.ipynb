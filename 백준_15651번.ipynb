{
  "nbformat": 4,
  "nbformat_minor": 0,
  "metadata": {
    "colab": {
      "name": "백준 15651번",
      "provenance": [],
      "collapsed_sections": [],
      "authorship_tag": "ABX9TyOGE9tDfZmRyDiHDkYgkj+r",
      "include_colab_link": true
    },
    "kernelspec": {
      "name": "python3",
      "display_name": "Python 3"
    },
    "language_info": {
      "name": "python"
    }
  },
  "cells": [
    {
      "cell_type": "markdown",
      "metadata": {
        "id": "view-in-github",
        "colab_type": "text"
      },
      "source": [
        "<a href=\"https://colab.research.google.com/github/max1496/algorithm/blob/master/%EB%B0%B1%EC%A4%80_15651%EB%B2%88.ipynb\" target=\"_parent\"><img src=\"https://colab.research.google.com/assets/colab-badge.svg\" alt=\"Open In Colab\"/></a>"
      ]
    },
    {
      "cell_type": "code",
      "execution_count": null,
      "metadata": {
        "id": "lfKKU8xNMZ8N"
      },
      "outputs": [],
      "source": [
        "def dfs():\n",
        "    if len(a)==m:\n",
        "        print(\" \".join(map(str,a)))\n",
        "        return\n",
        "    for i in range(n):\n",
        "        a.append(i+1)\n",
        "        dfs()\n",
        "        a.pop()\n",
        "n,m=map(int,input().split())\n",
        "a=[]\n",
        "dfs()"
      ]
    }
  ]
}