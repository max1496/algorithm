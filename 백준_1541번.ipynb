{
  "nbformat": 4,
  "nbformat_minor": 0,
  "metadata": {
    "colab": {
      "name": "백준 1541번",
      "provenance": [],
      "collapsed_sections": [],
      "authorship_tag": "ABX9TyN96Sc0JdbYlny5qprwBVhc",
      "include_colab_link": true
    },
    "kernelspec": {
      "name": "python3",
      "display_name": "Python 3"
    },
    "language_info": {
      "name": "python"
    }
  },
  "cells": [
    {
      "cell_type": "markdown",
      "metadata": {
        "id": "view-in-github",
        "colab_type": "text"
      },
      "source": [
        "<a href=\"https://colab.research.google.com/github/max1496/algorithm/blob/master/%EB%B0%B1%EC%A4%80_1541%EB%B2%88.ipynb\" target=\"_parent\"><img src=\"https://colab.research.google.com/assets/colab-badge.svg\" alt=\"Open In Colab\"/></a>"
      ]
    },
    {
      "cell_type": "code",
      "execution_count": null,
      "metadata": {
        "id": "c8jG9FYoLrU1"
      },
      "outputs": [],
      "source": [
        "a=input().split(\"-\")\n",
        "arr=[]\n",
        "\n",
        "for i in a:\n",
        "    s=0\n",
        "    b=i.split(\"+\")\n",
        "    for j in b:\n",
        "        s+=int(j)\n",
        "    arr.append(s)\n",
        "x=arr[0]\n",
        "for k in range(1,len(arr)):\n",
        "    x-=arr[k]\n",
        "print(x)"
      ]
    }
  ]
}