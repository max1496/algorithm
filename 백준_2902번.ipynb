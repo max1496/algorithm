{
  "nbformat": 4,
  "nbformat_minor": 0,
  "metadata": {
    "colab": {
      "name": "백준 2902번",
      "provenance": [],
      "collapsed_sections": [],
      "authorship_tag": "ABX9TyO5oF+yxDX98+oBNQg75DT5",
      "include_colab_link": true
    },
    "kernelspec": {
      "name": "python3",
      "display_name": "Python 3"
    },
    "language_info": {
      "name": "python"
    }
  },
  "cells": [
    {
      "cell_type": "markdown",
      "metadata": {
        "id": "view-in-github",
        "colab_type": "text"
      },
      "source": [
        "<a href=\"https://colab.research.google.com/github/max1496/algorithm/blob/master/%EB%B0%B1%EC%A4%80_2902%EB%B2%88.ipynb\" target=\"_parent\"><img src=\"https://colab.research.google.com/assets/colab-badge.svg\" alt=\"Open In Colab\"/></a>"
      ]
    },
    {
      "cell_type": "code",
      "execution_count": 3,
      "metadata": {
        "colab": {
          "base_uri": "https://localhost:8080/"
        },
        "id": "y5yrpUARoQoh",
        "outputId": "40eeb38e-e282-4c90-c3f5-6cd7c0e11ede"
      },
      "outputs": [
        {
          "output_type": "stream",
          "name": "stdout",
          "text": [
            "Knuth-Morris-Pratt\n",
            "['Knuth', 'Morris', 'Pratt']\n"
          ]
        }
      ],
      "source": [
        "n=list(input().split('-'))\n",
        "for i in n:\n",
        "\n",
        "    print(i[0],end='')"
      ]
    }
  ]
}