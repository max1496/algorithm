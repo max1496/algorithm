{
  "nbformat": 4,
  "nbformat_minor": 0,
  "metadata": {
    "colab": {
      "name": "백준 1475번",
      "provenance": [],
      "collapsed_sections": [],
      "authorship_tag": "ABX9TyPSU0QgiSCZ2z7vBc/v2NN0",
      "include_colab_link": true
    },
    "kernelspec": {
      "name": "python3",
      "display_name": "Python 3"
    },
    "language_info": {
      "name": "python"
    }
  },
  "cells": [
    {
      "cell_type": "markdown",
      "metadata": {
        "id": "view-in-github",
        "colab_type": "text"
      },
      "source": [
        "<a href=\"https://colab.research.google.com/github/max1496/algorithm/blob/master/%EB%B0%B1%EC%A4%80_1475%EB%B2%88.ipynb\" target=\"_parent\"><img src=\"https://colab.research.google.com/assets/colab-badge.svg\" alt=\"Open In Colab\"/></a>"
      ]
    },
    {
      "cell_type": "code",
      "execution_count": null,
      "metadata": {
        "id": "MMQPd14YQeaY"
      },
      "outputs": [],
      "source": [
        "a= input()\n",
        "arr=[0]*(10)\n",
        "for i in a:\n",
        "    arr[int(i)]+=1\n",
        "arr[6]=(arr[6]+arr[9])//2 if (arr[6]+arr[9])%2==0 else (arr[6]+arr[9])//2+1\n",
        "arr[9]=0\n",
        "print(max(arr))"
      ]
    }
  ]
}