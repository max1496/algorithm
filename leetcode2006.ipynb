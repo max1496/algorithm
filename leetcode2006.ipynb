{
  "nbformat": 4,
  "nbformat_minor": 0,
  "metadata": {
    "colab": {
      "name": "leetcode2006.ipynb",
      "provenance": [],
      "collapsed_sections": [],
      "authorship_tag": "ABX9TyMqT2kcDlcP7ZAR90m5V9pY"
    },
    "kernelspec": {
      "name": "python3",
      "display_name": "Python 3"
    },
    "language_info": {
      "name": "python"
    }
  },
  "cells": [
    {
      "cell_type": "markdown",
      "source": [
        "모르는게 많아서 블로그에 많은걸 포스팅하게 된 문제... \n",
        "map과 reduce에 익숙해지자...\n",
        "파이썬으론 익숙해서 쉽다 파이썬짱\n",
        "숫자를 이루는 숫자들을 다뤄야하기 때문에 \n",
        "숫자를 그 숫자를 이루는 숫자들의 배열로 만들었고\n",
        "for문으로 모두 곱한것에서 더한것을 빼줬다."
      ],
      "metadata": {
        "id": "cAZL2rvVksnO"
      }
    },
    {
      "cell_type": "markdown",
      "source": [
        "파이썬"
      ],
      "metadata": {
        "id": "uC_GOFK8lB1r"
      }
    },
    {
      "cell_type": "code",
      "execution_count": null,
      "metadata": {
        "id": "4QwdF3IfQ95D"
      },
      "outputs": [],
      "source": [
        "class Solution:\n",
        "    def subtractProductAndSum(self, n: int) -> int:\n",
        "        n=[x for x in str(n)]\n",
        "        pro =1\n",
        "        hap=0\n",
        "        for i in n:\n",
        "            hap+=int(i)\n",
        "            pro*=int(i)\n",
        "        return (pro-hap)"
      ]
    },
    {
      "cell_type": "markdown",
      "source": [
        "스위프트"
      ],
      "metadata": {
        "id": "t104KVl6lDKv"
      }
    },
    {
      "cell_type": "markdown",
      "source": [
        "for문을 전체 길이-1 까지 돌리고 그 안에 2중 for문으로 i+1부터 전체길이까지\n",
        "\n",
        "두 값의 차이가 k인 것들의 개수를 +해준다"
      ],
      "metadata": {
        "id": "pMJazq81lErk"
      }
    },
    {
      "cell_type": "markdown",
      "source": [
        "파이썬"
      ],
      "metadata": {
        "id": "9OVfWYin1kVi"
      }
    },
    {
      "cell_type": "code",
      "source": [
        "class Solution:\n",
        "    def countKDifference(self, nums: List[int], k: int) -> int:\n",
        "        cnt = 0 \n",
        "        for i in range(len(nums)-1):\n",
        "            for j in range(i+1, len(nums)):\n",
        "                if abs(nums[i]-nums[j])==k:        # 차이의 절대값이 k일때\n",
        "                    cnt+=1\t\t\t\t\t\t   # cnt 1증가\n",
        "        return cnt"
      ],
      "metadata": {
        "id": "0aiRYzvV1lg1"
      },
      "execution_count": null,
      "outputs": []
    },
    {
      "cell_type": "markdown",
      "source": [
        "스위프트\n",
        "class Solution {\n",
        "    func countKDifference(_ nums: [Int], _ k: Int) -> Int {\n",
        "        var cnt = 0\n",
        "        for i in 0..<(nums.count-1){\n",
        "            for j in (i+1)..<nums.count{\n",
        "                if abs(nums[i] - nums[j]) == k{\t\t\t\t//차이의 절대값이 k일때\n",
        "                    cnt+=1\t\t//cnt 1증가\n",
        "                }\n",
        "            }\n",
        "        }\n",
        "        return cnt\n",
        "    }\n",
        "}"
      ],
      "metadata": {
        "id": "yju6UWbs1nrB"
      }
    }
  ]
}