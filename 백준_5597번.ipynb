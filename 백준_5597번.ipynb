{
  "nbformat": 4,
  "nbformat_minor": 0,
  "metadata": {
    "colab": {
      "name": "백준 5597번",
      "provenance": [],
      "collapsed_sections": [],
      "authorship_tag": "ABX9TyOn9/pXGoWsxaQjJS7okMw8",
      "include_colab_link": true
    },
    "kernelspec": {
      "name": "python3",
      "display_name": "Python 3"
    },
    "language_info": {
      "name": "python"
    }
  },
  "cells": [
    {
      "cell_type": "markdown",
      "metadata": {
        "id": "view-in-github",
        "colab_type": "text"
      },
      "source": [
        "<a href=\"https://colab.research.google.com/github/max1496/algorithm/blob/master/%EB%B0%B1%EC%A4%80_5597%EB%B2%88.ipynb\" target=\"_parent\"><img src=\"https://colab.research.google.com/assets/colab-badge.svg\" alt=\"Open In Colab\"/></a>"
      ]
    },
    {
      "cell_type": "code",
      "execution_count": null,
      "metadata": {
        "id": "AQ-SsQSsS0Fo"
      },
      "outputs": [],
      "source": [
        "a=[0]*30\n",
        "for i in range(28):\n",
        "    a[int(input())-1]=1\n",
        "for j in range(30):\n",
        "    if a[j]==1:\n",
        "        continue\n",
        "    else:\n",
        "        print(j+1)"
      ]
    },
    {
      "cell_type": "code",
      "source": [
        ""
      ],
      "metadata": {
        "id": "6MPjcfFBUnIW"
      },
      "execution_count": null,
      "outputs": []
    }
  ]
}