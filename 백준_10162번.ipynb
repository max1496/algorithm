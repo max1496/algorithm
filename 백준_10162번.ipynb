{
  "nbformat": 4,
  "nbformat_minor": 0,
  "metadata": {
    "colab": {
      "name": "백준 10162번",
      "provenance": [],
      "collapsed_sections": [],
      "authorship_tag": "ABX9TyN42CSMnIVttK4lSvmWW43N",
      "include_colab_link": true
    },
    "kernelspec": {
      "name": "python3",
      "display_name": "Python 3"
    },
    "language_info": {
      "name": "python"
    }
  },
  "cells": [
    {
      "cell_type": "markdown",
      "metadata": {
        "id": "view-in-github",
        "colab_type": "text"
      },
      "source": [
        "<a href=\"https://colab.research.google.com/github/max1496/algorithm/blob/master/%EB%B0%B1%EC%A4%80_10162%EB%B2%88.ipynb\" target=\"_parent\"><img src=\"https://colab.research.google.com/assets/colab-badge.svg\" alt=\"Open In Colab\"/></a>"
      ]
    },
    {
      "cell_type": "code",
      "execution_count": null,
      "metadata": {
        "id": "MgCIX3PqLeFk"
      },
      "outputs": [],
      "source": [
        "n= int(input())\n",
        "a=n//300\n",
        "n = n%300\n",
        "b=n//60\n",
        "n=n%60\n",
        "c=n//10\n",
        "n=n%10\n",
        "if n:\n",
        "    print(-1)\n",
        "else:\n",
        "    print(a,b,c,sep=\" \")\n"
      ]
    }
  ]
}