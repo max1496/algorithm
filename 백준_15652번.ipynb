{
  "nbformat": 4,
  "nbformat_minor": 0,
  "metadata": {
    "colab": {
      "name": "백준 15652번",
      "provenance": [],
      "collapsed_sections": [],
      "authorship_tag": "ABX9TyPPX9xg7+soRMCLc564j3sT",
      "include_colab_link": true
    },
    "kernelspec": {
      "name": "python3",
      "display_name": "Python 3"
    },
    "language_info": {
      "name": "python"
    }
  },
  "cells": [
    {
      "cell_type": "markdown",
      "metadata": {
        "id": "view-in-github",
        "colab_type": "text"
      },
      "source": [
        "<a href=\"https://colab.research.google.com/github/max1496/algorithm/blob/master/%EB%B0%B1%EC%A4%80_15652%EB%B2%88.ipynb\" target=\"_parent\"><img src=\"https://colab.research.google.com/assets/colab-badge.svg\" alt=\"Open In Colab\"/></a>"
      ]
    },
    {
      "cell_type": "code",
      "execution_count": null,
      "metadata": {
        "id": "EllHD3kbMyZf"
      },
      "outputs": [],
      "source": [
        "def dfs(start):\n",
        "    if len(a)==m:\n",
        "        print(\" \".join(map(str, a)))\n",
        "        return\n",
        "    for i in range(start,n+1):\n",
        "        a.append(i)\n",
        "        dfs(i)\n",
        "        a.pop()\n",
        "\n",
        "n,m=map(int,input().split())\n",
        "a=[]\n",
        "dfs(1)"
      ]
    }
  ]
}