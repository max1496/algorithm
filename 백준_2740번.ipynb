{
  "nbformat": 4,
  "nbformat_minor": 0,
  "metadata": {
    "colab": {
      "name": "백준 2740번",
      "provenance": [],
      "collapsed_sections": [],
      "authorship_tag": "ABX9TyNgfWNCxkdrUpM7MgnesquD",
      "include_colab_link": true
    },
    "kernelspec": {
      "name": "python3",
      "display_name": "Python 3"
    },
    "language_info": {
      "name": "python"
    }
  },
  "cells": [
    {
      "cell_type": "markdown",
      "metadata": {
        "id": "view-in-github",
        "colab_type": "text"
      },
      "source": [
        "<a href=\"https://colab.research.google.com/github/max1496/algorithm/blob/master/%EB%B0%B1%EC%A4%80_2740%EB%B2%88.ipynb\" target=\"_parent\"><img src=\"https://colab.research.google.com/assets/colab-badge.svg\" alt=\"Open In Colab\"/></a>"
      ]
    },
    {
      "cell_type": "code",
      "execution_count": 8,
      "metadata": {
        "id": "w0n2pmgh_Xu-",
        "colab": {
          "base_uri": "https://localhost:8080/"
        },
        "outputId": "6cc8d5c8-0912-4c0c-88f2-8551a59cf0b4"
      },
      "outputs": [
        {
          "output_type": "stream",
          "name": "stdout",
          "text": [
            "3 2\n",
            "1 2\n",
            "3 4\n",
            "5 6\n",
            "2 3\n",
            "-1 -2 0\n",
            "0 0 3\n",
            "-3 6 0 \n",
            "-9 12 0 \n",
            "-15 18 0 \n"
          ]
        }
      ],
      "source": [
        "a=[]\n",
        "b=[]\n",
        "\n",
        "n,m=map(int,input().split())\n",
        "\n",
        "\n",
        "for _ in range(n):\n",
        "    a.append(list(map(int, input().split())))\n",
        "m,k=map(int,input().split())\n",
        "for r in range(m):\n",
        "    b.append(list(map(int, input().split())))\n",
        "c=[[0]*k for x in range(n)]\n",
        "for i in range(n):\n",
        "    for j in range(k):\n",
        "        for o in range(m):\n",
        "            c[i][j]+=a[i][o]*b[o][j]\n",
        "\n",
        "for p in range(n):\n",
        "    for q in range(k):\n",
        "        print(c[p][q], end=\" \")\n",
        "    print()"
      ]
    },
    {
      "cell_type": "code",
      "source": [
        "c=[[0]*3 for x in range(3)]\n",
        "print(c)"
      ],
      "metadata": {
        "colab": {
          "base_uri": "https://localhost:8080/"
        },
        "id": "VWqzri_AjfHA",
        "outputId": "db0687ac-edb5-4cce-8106-2cca86a86ca0"
      },
      "execution_count": 7,
      "outputs": [
        {
          "output_type": "stream",
          "name": "stdout",
          "text": [
            "[[0, 0, 0], [0, 0, 0], [0, 0, 0]]\n"
          ]
        }
      ]
    }
  ]
}