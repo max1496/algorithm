{
  "nbformat": 4,
  "nbformat_minor": 0,
  "metadata": {
    "colab": {
      "name": "2805번",
      "provenance": [],
      "authorship_tag": "ABX9TyNklMR8Zf34A+rAHQIyFzt1",
      "include_colab_link": true
    },
    "kernelspec": {
      "name": "python3",
      "display_name": "Python 3"
    },
    "language_info": {
      "name": "python"
    }
  },
  "cells": [
    {
      "cell_type": "markdown",
      "metadata": {
        "id": "view-in-github",
        "colab_type": "text"
      },
      "source": [
        "<a href=\"https://colab.research.google.com/github/max1496/algorithm/blob/master/2805%EB%B2%88.ipynb\" target=\"_parent\"><img src=\"https://colab.research.google.com/assets/colab-badge.svg\" alt=\"Open In Colab\"/></a>"
      ]
    },
    {
      "cell_type": "code",
      "execution_count": null,
      "metadata": {
        "id": "0oVAE9h-GYes"
      },
      "outputs": [],
      "source": [
        "n,k=map(int,input().split())\n",
        "a=list(map(int,input().split()))\n",
        "\n",
        "start=1\n",
        "end=max(a)\n",
        "\n",
        "while start<=end:\n",
        "    mid=(start+end)//2\n",
        "    s=0\n",
        "    for i in a:\n",
        "        if i>mid:\n",
        "            s+=i-mid\n",
        " \n",
        "    if s>=k:\n",
        "        start=mid+1\n",
        "    elif s<k:\n",
        "        end=mid-1\n",
        "print(end)"
      ]
    }
  ]
}