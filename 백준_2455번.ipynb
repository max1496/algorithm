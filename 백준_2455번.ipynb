{
  "nbformat": 4,
  "nbformat_minor": 0,
  "metadata": {
    "colab": {
      "name": "백준 2455번",
      "provenance": [],
      "collapsed_sections": [],
      "authorship_tag": "ABX9TyP3HgMi7SzoFpdIxZPKnseB",
      "include_colab_link": true
    },
    "kernelspec": {
      "name": "python3",
      "display_name": "Python 3"
    },
    "language_info": {
      "name": "python"
    }
  },
  "cells": [
    {
      "cell_type": "markdown",
      "metadata": {
        "id": "view-in-github",
        "colab_type": "text"
      },
      "source": [
        "<a href=\"https://colab.research.google.com/github/max1496/algorithm/blob/master/%EB%B0%B1%EC%A4%80_2455%EB%B2%88.ipynb\" target=\"_parent\"><img src=\"https://colab.research.google.com/assets/colab-badge.svg\" alt=\"Open In Colab\"/></a>"
      ]
    },
    {
      "cell_type": "code",
      "execution_count": 1,
      "metadata": {
        "colab": {
          "base_uri": "https://localhost:8080/"
        },
        "id": "2XYU-AuGlLgX",
        "outputId": "738d99ad-5a76-4928-f472-cee385ff3f6e"
      },
      "outputs": [
        {
          "output_type": "stream",
          "name": "stdout",
          "text": [
            "0 32\n",
            "3 13\n",
            "28 29\n",
            "30 0\n",
            "43\n"
          ]
        }
      ],
      "source": [
        "n=0\n",
        "arr=[]\n",
        "for i in range(4):\n",
        "    a,b = map(int, input().split())\n",
        "    n=n+b-a\n",
        "    arr.append(n)\n",
        "print(max(arr))\n",
        "\n",
        "    "
      ]
    }
  ]
}