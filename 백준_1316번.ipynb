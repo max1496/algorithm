{
  "nbformat": 4,
  "nbformat_minor": 0,
  "metadata": {
    "colab": {
      "name": "백준 1316번",
      "provenance": [],
      "collapsed_sections": [],
      "authorship_tag": "ABX9TyNKp0FLbxvAnLFi4mozHli7",
      "include_colab_link": true
    },
    "kernelspec": {
      "name": "python3",
      "display_name": "Python 3"
    },
    "language_info": {
      "name": "python"
    }
  },
  "cells": [
    {
      "cell_type": "markdown",
      "metadata": {
        "id": "view-in-github",
        "colab_type": "text"
      },
      "source": [
        "<a href=\"https://colab.research.google.com/github/max1496/algorithm/blob/master/%EB%B0%B1%EC%A4%80_1316%EB%B2%88.ipynb\" target=\"_parent\"><img src=\"https://colab.research.google.com/assets/colab-badge.svg\" alt=\"Open In Colab\"/></a>"
      ]
    },
    {
      "cell_type": "code",
      "execution_count": null,
      "metadata": {
        "id": "pGuJRfGv8nUg"
      },
      "outputs": [],
      "source": [
        "n= int(input())\n",
        "answer=0\n",
        "for _ in range(n):\n",
        "    cnt=0\n",
        "    \n",
        "    a = input()\n",
        "    for i in range(len(a)-1):\n",
        "        if a[i]!=a[i+1]:\n",
        "            new=a[i+1:]\n",
        "            if new.count(a[i])>0:\n",
        "                cnt+=1\n",
        "    if cnt==0:\n",
        "        answer+=1\n",
        "print(answer)"
      ]
    }
  ]
}