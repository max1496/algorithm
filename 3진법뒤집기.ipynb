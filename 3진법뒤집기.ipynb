{
  "nbformat": 4,
  "nbformat_minor": 0,
  "metadata": {
    "colab": {
      "name": "3진법뒤집기.ipynb",
      "provenance": [],
      "collapsed_sections": [],
      "authorship_tag": "ABX9TyPVFjd6aOaVJrbqfZaynEmW"
    },
    "kernelspec": {
      "name": "python3",
      "display_name": "Python 3"
    },
    "language_info": {
      "name": "python"
    }
  },
  "cells": [
    {
      "cell_type": "markdown",
      "source": [
        "3진법을 어떻게 만드나 띠용 했던 문제.\n",
        "\n",
        "근본적으로 3진법 만드는 방식을 역이용했다."
      ],
      "metadata": {
        "id": "2uWgdx7ryuqO"
      }
    },
    {
      "cell_type": "code",
      "execution_count": null,
      "metadata": {
        "id": "zQuyfPlxqnlg"
      },
      "outputs": [],
      "source": [
        "def solution(n):\n",
        "    answer = 0\n",
        "    a=[]\n",
        "    while n>0:  # 0보다 클때 계속 3으로 나눈 나머지로 뒤집힌 3진수값을 구해줌\n",
        "        a.append(n%3)\n",
        "        n=n//3\n",
        "    l =len(a)\n",
        "    while l>0:  #배열 길이를 자릿수로 이용 0이 될때까지\n",
        "        answer+=3**(l-1)*a[-l]  #값에 3^자릿수 곱하\n",
        "        l-=1\n",
        "    return answer"
      ]
    }
  ]
}