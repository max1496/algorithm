{
  "nbformat": 4,
  "nbformat_minor": 0,
  "metadata": {
    "colab": {
      "name": "leetcode771.ipynb",
      "provenance": [],
      "collapsed_sections": [],
      "authorship_tag": "ABX9TyM8pSBEnGdbYfXrrREw6OT0",
      "include_colab_link": true
    },
    "kernelspec": {
      "name": "python3",
      "display_name": "Python 3"
    },
    "language_info": {
      "name": "python"
    }
  },
  "cells": [
    {
      "cell_type": "markdown",
      "metadata": {
        "id": "view-in-github",
        "colab_type": "text"
      },
      "source": [
        "<a href=\"https://colab.research.google.com/github/max1496/algorithm/blob/master/leetcode771.ipynb\" target=\"_parent\"><img src=\"https://colab.research.google.com/assets/colab-badge.svg\" alt=\"Open In Colab\"/></a>"
      ]
    },
    {
      "cell_type": "markdown",
      "source": [
        "stones문자열에 있는 문자가 jewel에 있으면 만들어둔 변수에 1을 더해줌"
      ],
      "metadata": {
        "id": "0z0HD4oWDA7_"
      }
    },
    {
      "cell_type": "markdown",
      "source": [
        "파이썬"
      ],
      "metadata": {
        "id": "sgZi7g6SDD7i"
      }
    },
    {
      "cell_type": "code",
      "execution_count": null,
      "metadata": {
        "id": "oGG_wEPq82sd"
      },
      "outputs": [],
      "source": [
        "class Solution:\n",
        "    def numJewelsInStones(self, jewels: str, stones: str) -> int:\n",
        "        jewels = [x for x in jewels]\n",
        "        cnt=0\n",
        "        for i in range(len(stones)):\n",
        "            if stones[i] in jewels:\n",
        "                cnt+=1\n",
        "        return cnt"
      ]
    },
    {
      "cell_type": "markdown",
      "source": [
        "스위프트"
      ],
      "metadata": {
        "id": "1jjZFq0RDFGX"
      }
    },
    {
      "cell_type": "markdown",
      "source": [
        "class Solution {\n",
        "    func numJewelsInStones(_ jewels: String, _ stones: String) -> Int {\n",
        "        var a = 0\n",
        "        for s in stones where jewels.contains(s){\n",
        "            a+=1\n",
        "        }\n",
        "        return a\n",
        "    }\n",
        "}"
      ],
      "metadata": {
        "id": "tMF8jlB_DGey"
      }
    }
  ]
}