{
  "nbformat": 4,
  "nbformat_minor": 0,
  "metadata": {
    "colab": {
      "name": "백준 1002번",
      "provenance": [],
      "collapsed_sections": [],
      "authorship_tag": "ABX9TyNTOEuEIes/jhpVt2RweS90",
      "include_colab_link": true
    },
    "kernelspec": {
      "name": "python3",
      "display_name": "Python 3"
    },
    "language_info": {
      "name": "python"
    }
  },
  "cells": [
    {
      "cell_type": "markdown",
      "metadata": {
        "id": "view-in-github",
        "colab_type": "text"
      },
      "source": [
        "<a href=\"https://colab.research.google.com/github/max1496/algorithm/blob/master/%EB%B0%B1%EC%A4%80_1002%EB%B2%88.ipynb\" target=\"_parent\"><img src=\"https://colab.research.google.com/assets/colab-badge.svg\" alt=\"Open In Colab\"/></a>"
      ]
    },
    {
      "cell_type": "code",
      "execution_count": null,
      "metadata": {
        "id": "h7ixsH05gpr1"
      },
      "outputs": [],
      "source": [
        "t= int(input())\n",
        "for _ in range(t):\n",
        "    x1,y1,r1,x2,y2,r2=map(int,input().split())\n",
        "    d = ((x1-x2)**2+(y1-y2)**2)**(1/2)\n",
        "    if d==0 and r1==r2:\n",
        "        print(-1)\n",
        "    elif abs(r1-r2)==d or r1+r2 == d:\n",
        "        print(1)\n",
        "    elif abs(r1-r2)<d<r1+r2:\n",
        "        print(2)\n",
        "    else:\n",
        "        print(0)"
      ]
    }
  ]
}