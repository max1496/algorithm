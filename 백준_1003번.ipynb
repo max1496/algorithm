{
  "nbformat": 4,
  "nbformat_minor": 0,
  "metadata": {
    "colab": {
      "name": "백준 1003번",
      "provenance": [],
      "collapsed_sections": [],
      "authorship_tag": "ABX9TyMHsCK1XuW0ERPTULY+cu0y",
      "include_colab_link": true
    },
    "kernelspec": {
      "name": "python3",
      "display_name": "Python 3"
    },
    "language_info": {
      "name": "python"
    }
  },
  "cells": [
    {
      "cell_type": "markdown",
      "metadata": {
        "id": "view-in-github",
        "colab_type": "text"
      },
      "source": [
        "<a href=\"https://colab.research.google.com/github/max1496/algorithm/blob/master/%EB%B0%B1%EC%A4%80_1003%EB%B2%88.ipynb\" target=\"_parent\"><img src=\"https://colab.research.google.com/assets/colab-badge.svg\" alt=\"Open In Colab\"/></a>"
      ]
    },
    {
      "cell_type": "code",
      "execution_count": null,
      "metadata": {
        "id": "k6V6aFEGZb39"
      },
      "outputs": [],
      "source": [
        "t=int(input())\n",
        "\n",
        "for _ in range(t):\n",
        "    n=int(input())\n",
        "    a=[1,0,1]\n",
        "    b=[0,1,1]\n",
        "    for i in range(3,41):\n",
        "        a.append(a[i-1]+a[i-2])\n",
        "        b.append(b[i-1]+b[i-2])\n",
        "    \n",
        "    print(a[n], b[n])"
      ]
    }
  ]
}