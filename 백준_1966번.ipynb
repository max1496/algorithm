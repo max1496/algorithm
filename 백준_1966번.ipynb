{
  "nbformat": 4,
  "nbformat_minor": 0,
  "metadata": {
    "colab": {
      "name": "백준 1966번",
      "provenance": [],
      "collapsed_sections": [],
      "authorship_tag": "ABX9TyP+SlLH6q15sfkkP9Z4Hz2S",
      "include_colab_link": true
    },
    "kernelspec": {
      "name": "python3",
      "display_name": "Python 3"
    },
    "language_info": {
      "name": "python"
    }
  },
  "cells": [
    {
      "cell_type": "markdown",
      "metadata": {
        "id": "view-in-github",
        "colab_type": "text"
      },
      "source": [
        "<a href=\"https://colab.research.google.com/github/max1496/algorithm/blob/master/%EB%B0%B1%EC%A4%80_1966%EB%B2%88.ipynb\" target=\"_parent\"><img src=\"https://colab.research.google.com/assets/colab-badge.svg\" alt=\"Open In Colab\"/></a>"
      ]
    },
    {
      "cell_type": "code",
      "execution_count": null,
      "metadata": {
        "id": "U3pp2XZzKn7d"
      },
      "outputs": [],
      "source": [
        "t = int(input())\n",
        "for _ in range(t):\n",
        "    \n",
        "    \n",
        "    n,k=map(int,input().split())\n",
        "    \n",
        "    a=list((map(int,input().split())))\n",
        "    b=[x for x in range(n)]\n",
        "    cnt=0\n",
        "    b[k]=\"*\"\n",
        "    while True:\n",
        "        if a[0]==max(a):\n",
        "            cnt+=1\n",
        "            if b[0]==\"*\":\n",
        "                print(cnt)\n",
        "                break\n",
        "            else:\n",
        "                a.pop(0)\n",
        "                b.pop(0)\n",
        "        else:\n",
        "            a.append(a.pop(0))\n",
        "            b.append(b.pop(0))"
      ]
    }
  ]
}