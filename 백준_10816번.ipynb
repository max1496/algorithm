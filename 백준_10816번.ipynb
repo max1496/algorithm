{
  "nbformat": 4,
  "nbformat_minor": 0,
  "metadata": {
    "colab": {
      "name": "백준 10816번",
      "provenance": [],
      "authorship_tag": "ABX9TyN8tIjZemMFdr/6hqG1fkRT",
      "include_colab_link": true
    },
    "kernelspec": {
      "name": "python3",
      "display_name": "Python 3"
    },
    "language_info": {
      "name": "python"
    }
  },
  "cells": [
    {
      "cell_type": "markdown",
      "metadata": {
        "id": "view-in-github",
        "colab_type": "text"
      },
      "source": [
        "<a href=\"https://colab.research.google.com/github/max1496/algorithm/blob/master/%EB%B0%B1%EC%A4%80_10816%EB%B2%88.ipynb\" target=\"_parent\"><img src=\"https://colab.research.google.com/assets/colab-badge.svg\" alt=\"Open In Colab\"/></a>"
      ]
    },
    {
      "cell_type": "code",
      "execution_count": null,
      "metadata": {
        "id": "rjjncHuzM0JU"
      },
      "outputs": [],
      "source": [
        "n1=int(input())\n",
        "n=list(map(int,input().split()))\n",
        "n2=int(input())\n",
        "m=list(map(int,input().split()))\n",
        "hash={}\n",
        "\n",
        "for i in n:\n",
        "    if i in hash:\n",
        "        hash[i]+=1\n",
        "    else:\n",
        "        hash[i]=1\n",
        "for i,j in enumerate(m):\n",
        "    if j in hash:\n",
        "        if i!=n2-1:\n",
        "            print(str(hash[j]), end=' ')\n",
        "        else:\n",
        "            print(str(hash[j]))\n",
        "    else:\n",
        "        if i!=n2-1:\n",
        "            print(\"0\",end=\" \")\n",
        "        else:\n",
        "            print(\"0\")"
      ]
    }
  ]
}