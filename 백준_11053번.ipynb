{
  "nbformat": 4,
  "nbformat_minor": 0,
  "metadata": {
    "colab": {
      "name": "백준 11053번",
      "provenance": [],
      "collapsed_sections": [],
      "authorship_tag": "ABX9TyOHyjZRt3PfajL1KdA5FsFU",
      "include_colab_link": true
    },
    "kernelspec": {
      "name": "python3",
      "display_name": "Python 3"
    },
    "language_info": {
      "name": "python"
    }
  },
  "cells": [
    {
      "cell_type": "markdown",
      "metadata": {
        "id": "view-in-github",
        "colab_type": "text"
      },
      "source": [
        "<a href=\"https://colab.research.google.com/github/max1496/algorithm/blob/master/%EB%B0%B1%EC%A4%80_11053%EB%B2%88.ipynb\" target=\"_parent\"><img src=\"https://colab.research.google.com/assets/colab-badge.svg\" alt=\"Open In Colab\"/></a>"
      ]
    },
    {
      "cell_type": "code",
      "execution_count": 4,
      "metadata": {
        "colab": {
          "base_uri": "https://localhost:8080/"
        },
        "id": "9FUQcEGj0AUl",
        "outputId": "d4053501-e343-4b3f-b54d-e7e1580d92bc"
      },
      "outputs": [
        {
          "output_type": "stream",
          "name": "stdout",
          "text": [
            "6\n",
            "10 20 10 30 20 50\n",
            "4\n"
          ]
        }
      ],
      "source": [
        "n= int(input())\n",
        "a=list(map(int,input().split()))\n",
        "dp=[0]*(n)\n",
        "for i in range(n):\n",
        "    for j in range(i):\n",
        "        if dp[i]<dp[j] and a[i]>a[j]:\n",
        "            dp[i]=dp[j]\n",
        "    dp[i]+=1\n",
        "print(max(dp))"
      ]
    }
  ]
}