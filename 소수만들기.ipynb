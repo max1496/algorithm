{
  "nbformat": 4,
  "nbformat_minor": 0,
  "metadata": {
    "colab": {
      "name": "\b소수만들기.ipynb",
      "provenance": [],
      "collapsed_sections": [],
      "authorship_tag": "ABX9TyMXXryGpyv3LuDk3bXHF0/E"
    },
    "kernelspec": {
      "name": "python3",
      "display_name": "Python 3"
    },
    "language_info": {
      "name": "python"
    }
  },
  "cells": [
    {
      "cell_type": "markdown",
      "source": [
        "앞의 에라토스테네스의 체를 모르면 다른 방법으로 풀어야 한다.\n",
        "\n",
        "소수 판별하는 다른 프로그래머스 문제에서 에라토스 테네스의 체를 보여드렸으니\n",
        "\n",
        "이제 이를 활용해 약간의 응용문제를 해결해 보았다."
      ],
      "metadata": {
        "id": "0KTAetYyBXBS"
      }
    },
    {
      "cell_type": "code",
      "execution_count": 1,
      "metadata": {
        "id": "PS2c1OOizlpl"
      },
      "outputs": [],
      "source": [
        "def solution(nums):\n",
        "    answer = 0\n",
        "    a=[1]*3001 # 인덱스가 소수면 1 아니면 0. 디폴트 값은 1\n",
        "    a[0]=0  #0은 자연수가 아님\n",
        "    a[1]=0  #1은 소수가 아님\n",
        "    \n",
        "    for i in range(2,len(a)-1):\n",
        "        if a[i]==0:\n",
        "            continue\n",
        "        for j in range(2,len(a)//i+1):\n",
        "            a[i*j]=0        #에라토스테네의 체\n",
        "    for i in range(len(nums)-2):\n",
        "        for j in range(i+1,len(nums)-1):\n",
        "            for k in range(j+1,len(nums)):\n",
        "                if a[nums[i]+nums[j]+nums[k]]==1:\n",
        "                    answer+=1       #배열의 길이가 3~50이니 3중 for문도 ok\n",
        "    return answer"
      ]
    }
  ]
}