{
  "nbformat": 4,
  "nbformat_minor": 0,
  "metadata": {
    "colab": {
      "name": "신규아이디추천.ipynb",
      "provenance": [],
      "collapsed_sections": [],
      "authorship_tag": "ABX9TyPM5bHP5fZDnNqs18vPLOb5"
    },
    "kernelspec": {
      "name": "python3",
      "display_name": "Python 3"
    },
    "language_info": {
      "name": "python"
    }
  },
  "cells": [
    {
      "cell_type": "markdown",
      "source": [
        "카카오 2021 블라인드 문제로 나왔었다. 그냥 시키는 대로 구현하면 되는 쉬운 문제지만 꼼꼼하게 하지 않으면 인덱스 오류같은\n",
        "\n",
        "오류가 난다. 자세한건 주석으로 설명했다."
      ],
      "metadata": {
        "id": "1FodjTqFdYF0"
      }
    },
    {
      "cell_type": "code",
      "execution_count": null,
      "metadata": {
        "id": "WZzQSW27dXJc"
      },
      "outputs": [],
      "source": [
        "def solution(new_id):\n",
        "    answer = ''\n",
        "    new_id=new_id.lower()    #소문자로\n",
        "    # print(new_id)\n",
        "    for i in range(len(new_id)):        #특정문자 외 제거\n",
        "        if new_id[i].isalpha() or new_id[i].isdigit() or new_id[i] in [\"-\", \"_\", \".\"]:\n",
        "            answer+=new_id[i]\n",
        "    # print(answer)\n",
        "    while \"..\" in answer:       # .. 를 .로\n",
        "        answer = answer.replace(\"..\",\".\")\n",
        "    if answer[0] ==\".\":     #처음이나 끝이 .인경우 제거\n",
        "        answer = answer[1:] if len(answer)>1 else '.'    #빈문자열인 경우 '.' 로 만들어줘서 다음줄에 인덱스오류 막음\n",
        "    if answer[-1]==\".\":\n",
        "        answer= answer[:-1]\n",
        "    # print(answer)\n",
        "    if answer =='':     #공백문자열일 경우 'a'로\n",
        "        answer = 'a'\n",
        "    if len(answer)>15:      #16글자 이상일때 줄여줌\n",
        "        answer = answer[:15]\n",
        "    if answer[-1]==\".\":     #그 이후 .으로 끝날때 제거\n",
        "        answer= answer[:-1]\n",
        "    # print(answer)\n",
        "    while len(answer)<3:        #2글자 이하일때 마지막글자를 3글자 될때까지 늘려줌\n",
        "        answer+=answer[-1]\n",
        "    return answer"
      ]
    }
  ]
}