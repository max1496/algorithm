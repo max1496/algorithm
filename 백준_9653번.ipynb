{
  "nbformat": 4,
  "nbformat_minor": 0,
  "metadata": {
    "colab": {
      "name": "백준 9653번",
      "provenance": [],
      "collapsed_sections": [],
      "authorship_tag": "ABX9TyP8kqJVWRSz10PTr9S2y6bN",
      "include_colab_link": true
    },
    "kernelspec": {
      "name": "python3",
      "display_name": "Python 3"
    },
    "language_info": {
      "name": "python"
    }
  },
  "cells": [
    {
      "cell_type": "markdown",
      "metadata": {
        "id": "view-in-github",
        "colab_type": "text"
      },
      "source": [
        "<a href=\"https://colab.research.google.com/github/max1496/algorithm/blob/master/%EB%B0%B1%EC%A4%80_9653%EB%B2%88.ipynb\" target=\"_parent\"><img src=\"https://colab.research.google.com/assets/colab-badge.svg\" alt=\"Open In Colab\"/></a>"
      ]
    },
    {
      "cell_type": "code",
      "execution_count": 1,
      "metadata": {
        "colab": {
          "base_uri": "https://localhost:8080/"
        },
        "id": "Lp4BW2bQA2ls",
        "outputId": "3b555b78-ed24-49a9-b7a4-c81cf8d16e59"
      },
      "outputs": [
        {
          "output_type": "stream",
          "name": "stdout",
          "text": [
            "    8888888888  888    88888)\n",
            "   88     88   88 88   88  88\n",
            "    8888  88  88   88  88888\n",
            "       88 88 888888888 88   88\n",
            "88888888  88 88     88 88    888888\n",
            "                                   \n",
            "88  88  88   888    88888    888888\n",
            "88  88  88  88 88   88  88  88\n",
            "88 8888 88 88   88  88888    8888\n",
            " 888  888 888888888 88  88      88\n",
            "  88  88  88     88 88   88888888\n"
          ]
        }
      ],
      "source": [
        "print(\"    8888888888  888    88888\")\n",
        "print(\"   88     88   88 88   88  88\")\n",
        "print(\"    8888  88  88   88  88888\")\n",
        "print(\"       88 88 888888888 88   88\")\n",
        "print(\"88888888  88 88     88 88    888888\")\n",
        "print(\"\")\n",
        "print(\"88  88  88   888    88888    888888\")\n",
        "print(\"88  88  88  88 88   88  88  88\")\n",
        "print(\"88 8888 88 88   88  88888    8888\")\n",
        "print(\" 888  888 888888888 88  88      88\")\n",
        "print(\"  88  88  88     88 88   88888888\")"
      ]
    }
  ]
}