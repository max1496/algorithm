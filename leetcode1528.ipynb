{
  "nbformat": 4,
  "nbformat_minor": 0,
  "metadata": {
    "colab": {
      "name": "leetcode1528.ipynb",
      "provenance": [],
      "collapsed_sections": [],
      "authorship_tag": "ABX9TyP0peGBZ55MC5Tpr8oiPC6b"
    },
    "kernelspec": {
      "name": "python3",
      "display_name": "Python 3"
    },
    "language_info": {
      "name": "python"
    }
  },
  "cells": [
    {
      "cell_type": "markdown",
      "source": [
        "indices의 값들에 해당하는 배열의 원소들을 indices의 인덱스에 해당되게끔 바꾸는 문제이다.\n",
        "\n",
        "파이썬의 경우 구현이 쉬웠지만 스위프트는 아직 문자열과 배열의 교환이 어설퍼서 삽질을 했다.\n",
        "\n"
      ],
      "metadata": {
        "id": "JfA8dzpmyZYL"
      }
    },
    {
      "cell_type": "markdown",
      "source": [
        "파이썬\n"
      ],
      "metadata": {
        "id": "vsENZDI-ybXe"
      }
    },
    {
      "cell_type": "code",
      "source": [
        "class Solution:\n",
        "    def restoreString(self, s: str, indices: List[int]) -> str:\n",
        "        s= [x for x in s]\n",
        "        a=[0]*len(s)\n",
        "        for i,v in enumerate(indices):\n",
        "            a[v]=s[i]\n",
        "        return \"\".join(a)"
      ],
      "metadata": {
        "id": "RLbBinBfyaip"
      },
      "execution_count": null,
      "outputs": []
    },
    {
      "cell_type": "markdown",
      "source": [
        "스위프트\n"
      ],
      "metadata": {
        "id": "AkegdX7hyfEr"
      }
    },
    {
      "cell_type": "markdown",
      "source": [
        "class Solution {\n",
        "\n",
        "\n",
        "    func restoreString(_ s: String, _ indices: [Int]) -> String {\n",
        "        var a = [Character](repeating:\"a\", count:s.count)\n",
        "        var b = s.map{$0}\n",
        "        for (i,v) in indices.enumerated(){\n",
        "            a[v] = b[i]\n",
        "            \n",
        "        }\n",
        "        return String(a)\n",
        "    }\n",
        "}"
      ],
      "metadata": {
        "id": "uuUN2DIpyf6b"
      }
    }
  ]
}