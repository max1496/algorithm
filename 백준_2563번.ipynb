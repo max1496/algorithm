{
  "nbformat": 4,
  "nbformat_minor": 0,
  "metadata": {
    "colab": {
      "name": "백준 2563번",
      "provenance": [],
      "collapsed_sections": [],
      "authorship_tag": "ABX9TyMdCVboClmzw3PwE1uOk1S+",
      "include_colab_link": true
    },
    "kernelspec": {
      "name": "python3",
      "display_name": "Python 3"
    },
    "language_info": {
      "name": "python"
    }
  },
  "cells": [
    {
      "cell_type": "markdown",
      "metadata": {
        "id": "view-in-github",
        "colab_type": "text"
      },
      "source": [
        "<a href=\"https://colab.research.google.com/github/max1496/algorithm/blob/master/%EB%B0%B1%EC%A4%80_2563%EB%B2%88.ipynb\" target=\"_parent\"><img src=\"https://colab.research.google.com/assets/colab-badge.svg\" alt=\"Open In Colab\"/></a>"
      ]
    },
    {
      "cell_type": "code",
      "execution_count": null,
      "metadata": {
        "id": "68hR6L87bS9m"
      },
      "outputs": [],
      "source": [
        "n= int(input())\n",
        "arr= [[0]*101 for k in range(101)]\n",
        "for _ in range(n):\n",
        "    a,b=map(int,input().split())\n",
        "    for i in range(a,a+10):\n",
        "        for j in range(b,b+10):\n",
        "            arr[i][j]=1\n",
        "answer=0\n",
        "for x in arr:\n",
        "    answer+=x.count(1)\n",
        "print(answer)"
      ]
    }
  ]
}