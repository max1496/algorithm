{
  "nbformat": 4,
  "nbformat_minor": 0,
  "metadata": {
    "colab": {
      "name": "백준 4153번",
      "provenance": [],
      "collapsed_sections": [],
      "authorship_tag": "ABX9TyPBc3homCf8mcOJ9dPmW+Cu",
      "include_colab_link": true
    },
    "kernelspec": {
      "name": "python3",
      "display_name": "Python 3"
    },
    "language_info": {
      "name": "python"
    }
  },
  "cells": [
    {
      "cell_type": "markdown",
      "metadata": {
        "id": "view-in-github",
        "colab_type": "text"
      },
      "source": [
        "<a href=\"https://colab.research.google.com/github/max1496/algorithm/blob/master/%EB%B0%B1%EC%A4%80_4153%EB%B2%88.ipynb\" target=\"_parent\"><img src=\"https://colab.research.google.com/assets/colab-badge.svg\" alt=\"Open In Colab\"/></a>"
      ]
    },
    {
      "cell_type": "code",
      "execution_count": null,
      "metadata": {
        "id": "mAwTAbFq2Op1"
      },
      "outputs": [],
      "source": [
        "while True:\n",
        "    a= list(map(int, input().split()))\n",
        "    if sum(a)==0:    #0 0 0 인 경우\n",
        "        break\n",
        "    else:\n",
        "        max_a=max(a)\n",
        "        a.remove(max_a)\n",
        "        if a[0]**2+a[1]**2==(max_a)**2:\n",
        "            print(\"right\")\n",
        "        else:\n",
        "            print(\"wrong\")"
      ]
    }
  ]
}