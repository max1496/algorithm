{
  "nbformat": 4,
  "nbformat_minor": 0,
  "metadata": {
    "colab": {
      "name": "\b문자열내림차순으로배치하기.ipynb",
      "provenance": [],
      "authorship_tag": "ABX9TyP+piHpprhdFEJ/BHBclvWu"
    },
    "kernelspec": {
      "name": "python3",
      "display_name": "Python 3"
    },
    "language_info": {
      "name": "python"
    }
  },
  "cells": [
    {
      "cell_type": "markdown",
      "source": [
        "문자열을 내림차순으로 배치하는 문제인데 처음에는 문자열을 리스트로 변환한 뒤 정렬하려다가 더 간단해보여서 밑과 같이 하였다.\n",
        "\n"
      ],
      "metadata": {
        "id": "ySfU2G12g1hX"
      }
    },
    {
      "cell_type": "code",
      "execution_count": null,
      "metadata": {
        "id": "sMH9kTszgtln"
      },
      "outputs": [],
      "source": [
        "def solution(s):\n",
        "    \n",
        "    return ''.join(sorted(s, reverse = True))"
      ]
    }
  ]
}