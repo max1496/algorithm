{
  "nbformat": 4,
  "nbformat_minor": 0,
  "metadata": {
    "colab": {
      "name": "백준 2178번",
      "provenance": [],
      "collapsed_sections": [],
      "authorship_tag": "ABX9TyNMJ2e2o1nBrVM02OVuMdZs",
      "include_colab_link": true
    },
    "kernelspec": {
      "name": "python3",
      "display_name": "Python 3"
    },
    "language_info": {
      "name": "python"
    }
  },
  "cells": [
    {
      "cell_type": "markdown",
      "metadata": {
        "id": "view-in-github",
        "colab_type": "text"
      },
      "source": [
        "<a href=\"https://colab.research.google.com/github/max1496/algorithm/blob/master/%EB%B0%B1%EC%A4%80_2178%EB%B2%88.ipynb\" target=\"_parent\"><img src=\"https://colab.research.google.com/assets/colab-badge.svg\" alt=\"Open In Colab\"/></a>"
      ]
    },
    {
      "cell_type": "code",
      "execution_count": null,
      "metadata": {
        "id": "hNOCtiy-tPnO"
      },
      "outputs": [],
      "source": [
        "from collections import deque\n",
        "n,m=map(int,input().split())\n",
        "graph=[]\n",
        "for _ in range(n):\n",
        "    graph.append(list(map(int,input())))\n",
        "def bfs(x,y):\n",
        "    dx =[-1,1,0,0 ]\n",
        "    dy=[0,0,1,-1]\n",
        "    queue = deque()\n",
        "    queue.append((x,y))\n",
        "    while queue:\n",
        "        x,y=queue.popleft()\n",
        "        for i in range(4):\n",
        "            nx=x+dx[i]\n",
        "            ny=y+dy[i]\n",
        "            if nx<0 or nx>=n or ny<0 or ny>=m:\n",
        "                continue\n",
        "            if graph[nx][ny]==1:\n",
        "                graph[nx][ny]=graph[x][y]+1\n",
        "                queue.append((nx,ny))\n",
        "    return graph[n-1][m-1]\n",
        "print(bfs(0,0))"
      ]
    }
  ]
}