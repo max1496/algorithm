{
  "nbformat": 4,
  "nbformat_minor": 0,
  "metadata": {
    "colab": {
      "name": "백준 1037",
      "provenance": [],
      "collapsed_sections": [],
      "authorship_tag": "ABX9TyMU643KACUc5ZZdMbEnTy7f",
      "include_colab_link": true
    },
    "kernelspec": {
      "name": "python3",
      "display_name": "Python 3"
    },
    "language_info": {
      "name": "python"
    }
  },
  "cells": [
    {
      "cell_type": "markdown",
      "metadata": {
        "id": "view-in-github",
        "colab_type": "text"
      },
      "source": [
        "<a href=\"https://colab.research.google.com/github/max1496/algorithm/blob/master/%EB%B0%B1%EC%A4%80_1037.ipynb\" target=\"_parent\"><img src=\"https://colab.research.google.com/assets/colab-badge.svg\" alt=\"Open In Colab\"/></a>"
      ]
    },
    {
      "cell_type": "code",
      "execution_count": 3,
      "metadata": {
        "colab": {
          "base_uri": "https://localhost:8080/"
        },
        "id": "AIeuIx9GBLnF",
        "outputId": "9e7a6781-0b7d-416a-b963-bd750d35dd77"
      },
      "outputs": [
        {
          "output_type": "stream",
          "name": "stdout",
          "text": [
            "2\n",
            "2 4\n",
            "8\n"
          ]
        }
      ],
      "source": [
        "n= int(input())\n",
        "a=list(map(int, input().split()))\n",
        "max_a = max(a)\n",
        "min_a = min(a)\n",
        "print(max_a*min_a)"
      ]
    }
  ]
}