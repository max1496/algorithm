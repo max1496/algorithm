{
  "nbformat": 4,
  "nbformat_minor": 0,
  "metadata": {
    "colab": {
      "name": "leetcode1313.ipynb",
      "provenance": [],
      "collapsed_sections": [],
      "authorship_tag": "ABX9TyOVJzUWZIWgZ9/bKik2ug3O",
      "include_colab_link": true
    },
    "kernelspec": {
      "name": "python3",
      "display_name": "Python 3"
    },
    "language_info": {
      "name": "python"
    }
  },
  "cells": [
    {
      "cell_type": "markdown",
      "metadata": {
        "id": "view-in-github",
        "colab_type": "text"
      },
      "source": [
        "<a href=\"https://colab.research.google.com/github/max1496/algorithm/blob/master/leetcode1313.ipynb\" target=\"_parent\"><img src=\"https://colab.research.google.com/assets/colab-badge.svg\" alt=\"Open In Colab\"/></a>"
      ]
    },
    {
      "cell_type": "markdown",
      "source": [
        "파이썬과 스위프트에서 for문을 i를 2씩 증가시키면서 돌릴 방법이 딱히 생각나지 않았다.\n",
        "\n",
        "while문으로 해결했고 스위프트는 배열의 곱셈이 안되서 for문으로 append 시켰다.\n",
        "\n",
        "파이썬"
      ],
      "metadata": {
        "id": "Pl-4pZGYCv6r"
      }
    },
    {
      "cell_type": "code",
      "execution_count": null,
      "metadata": {
        "id": "9F2_w02C3QBv"
      },
      "outputs": [],
      "source": [
        "class Solution:\n",
        "    def decompressRLElist(self, nums: List[int]) -> List[int]:\n",
        "        a=[]\n",
        "        i=0\n",
        "        while i<len(nums):\n",
        "            a+=[nums[i+1]]*nums[i]\n",
        "            i+=2\n",
        "        return a"
      ]
    },
    {
      "cell_type": "markdown",
      "source": [
        "스위프트\n",
        "\n",
        "\n",
        "class Solution {\n",
        "    func decompressRLElist(_ nums: [Int]) -> [Int] {\n",
        "        var i = 0\n",
        "        var a = [Int]()\n",
        "        while i < nums.count{\n",
        "            for j in 0..<nums[i]{\n",
        "                a.append(nums[i+1])\n",
        "            }\n",
        "            i+=2\n",
        "        }\n",
        "        return a\n",
        "    }\n",
        "}"
      ],
      "metadata": {
        "id": "Z6dh_vRjC1Qo"
      }
    }
  ]
}