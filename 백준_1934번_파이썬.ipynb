{
  "nbformat": 4,
  "nbformat_minor": 0,
  "metadata": {
    "colab": {
      "name": "백준 1934번 파이썬",
      "provenance": [],
      "collapsed_sections": [],
      "authorship_tag": "ABX9TyNMLFoXReMR0j9oPxDCdL3J",
      "include_colab_link": true
    },
    "kernelspec": {
      "name": "python3",
      "display_name": "Python 3"
    },
    "language_info": {
      "name": "python"
    }
  },
  "cells": [
    {
      "cell_type": "markdown",
      "metadata": {
        "id": "view-in-github",
        "colab_type": "text"
      },
      "source": [
        "<a href=\"https://colab.research.google.com/github/max1496/algorithm/blob/master/%EB%B0%B1%EC%A4%80_1934%EB%B2%88_%ED%8C%8C%EC%9D%B4%EC%8D%AC.ipynb\" target=\"_parent\"><img src=\"https://colab.research.google.com/assets/colab-badge.svg\" alt=\"Open In Colab\"/></a>"
      ]
    },
    {
      "cell_type": "code",
      "execution_count": null,
      "metadata": {
        "id": "TVpx93W980DG"
      },
      "outputs": [],
      "source": [
        "import sys\n",
        "\n",
        "T=int(input())\n",
        "\n",
        "for i in range(T):\n",
        "    a,b=map(int,sys.stdin.readline().split())\n",
        "    aa,bb=a,b\n",
        "\n",
        "    while a%b!=0:\n",
        "        a,b=b,a%b\n",
        "\n",
        "    print(aa*bb//b)"
      ]
    }
  ]
}