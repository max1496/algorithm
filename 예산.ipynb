{
  "nbformat": 4,
  "nbformat_minor": 0,
  "metadata": {
    "colab": {
      "name": "예산.ipynb",
      "provenance": [],
      "collapsed_sections": [],
      "authorship_tag": "ABX9TyMSyJnrXWW82qjjaMXuvbw0"
    },
    "kernelspec": {
      "name": "python3",
      "display_name": "Python 3"
    },
    "language_info": {
      "name": "python"
    }
  },
  "cells": [
    {
      "cell_type": "markdown",
      "source": [
        "최소값을 변경시켜주며 몇개나 공급할 수 있는지 찾는 문제 레벨1에 비슷한 문제가 많다."
      ],
      "metadata": {
        "id": "QZdPAj_j6IWA"
      }
    },
    {
      "cell_type": "code",
      "execution_count": null,
      "metadata": {
        "id": "vOH1zw5WnzBG"
      },
      "outputs": [],
      "source": [
        "def solution(d, budget):\n",
        "    answer = 0\n",
        "    k=987654321     #d의 최소값을 매번 바꾸기 위한 변수\n",
        "    for i in range(len(d)):\n",
        "        if budget>=min(d):\n",
        "            budget-=min(d)\n",
        "            d[d.index(min(d))]=k\n",
        "            answer+=1       #d의 최소값만큼 뺄 수 있을때 빼주고 정답에 1더함\n",
        "        else:\n",
        "            break\n",
        "    return answer"
      ]
    }
  ]
}