{
  "nbformat": 4,
  "nbformat_minor": 0,
  "metadata": {
    "colab": {
      "name": "\b두 개 뽑아서 더하기.ipynb",
      "provenance": [],
      "collapsed_sections": [],
      "authorship_tag": "ABX9TyO0iuVU61Af9toBOYkxmGo3"
    },
    "kernelspec": {
      "name": "python3",
      "display_name": "Python 3"
    },
    "language_info": {
      "name": "python"
    }
  },
  "cells": [
    {
      "cell_type": "markdown",
      "source": [
        "배열의 길이가 100이하이기 때문에 이중 for문을 써도 절대 시간초과가 안난다.\n",
        "\n",
        "두 값을 더한 것을 정답배열에 넣고 요리조리 볶아준다."
      ],
      "metadata": {
        "id": "2MaAmwlw78yM"
      }
    },
    {
      "cell_type": "code",
      "execution_count": null,
      "metadata": {
        "id": "-pUxXfEI6w7E"
      },
      "outputs": [],
      "source": [
        "def solution(numbers):\n",
        "    answer = []\n",
        "    for i in range(len(numbers)-1):\n",
        "        for j in range(i+1,len(numbers)):\n",
        "            answer.append(numbers[i]+numbers[j])    #두 숫자를 더한 값 append\n",
        "    answer=list(set(answer))    #중복값 제거\n",
        "    answer.sort()   #오름차순으로\n",
        "    return answer"
      ]
    }
  ]
}