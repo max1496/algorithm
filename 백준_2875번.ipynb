{
  "nbformat": 4,
  "nbformat_minor": 0,
  "metadata": {
    "colab": {
      "name": "백준 2875번",
      "provenance": [],
      "collapsed_sections": [],
      "authorship_tag": "ABX9TyM3sk/QPxfNt3wW21t4TVTr",
      "include_colab_link": true
    },
    "kernelspec": {
      "name": "python3",
      "display_name": "Python 3"
    },
    "language_info": {
      "name": "python"
    }
  },
  "cells": [
    {
      "cell_type": "markdown",
      "metadata": {
        "id": "view-in-github",
        "colab_type": "text"
      },
      "source": [
        "<a href=\"https://colab.research.google.com/github/max1496/algorithm/blob/master/%EB%B0%B1%EC%A4%80_2875%EB%B2%88.ipynb\" target=\"_parent\"><img src=\"https://colab.research.google.com/assets/colab-badge.svg\" alt=\"Open In Colab\"/></a>"
      ]
    },
    {
      "cell_type": "code",
      "execution_count": 1,
      "metadata": {
        "colab": {
          "base_uri": "https://localhost:8080/"
        },
        "id": "jrAc6mn_Iorv",
        "outputId": "43fea253-a20b-4c50-a9f1-4efc7dea0028"
      },
      "outputs": [
        {
          "output_type": "stream",
          "name": "stdout",
          "text": [
            "6 3 2\n",
            "2\n"
          ]
        }
      ],
      "source": [
        "a,b,c = map(int, input().split())\n",
        "while True:\n",
        "    if c==0: break\n",
        "    if a>2*b:\n",
        "        a-=1\n",
        "    else:\n",
        "        b-=1\n",
        "    c-=1\n",
        "if a>2*b:\n",
        "    print(b)\n",
        "else:\n",
        "    print(a//2)"
      ]
    }
  ]
}