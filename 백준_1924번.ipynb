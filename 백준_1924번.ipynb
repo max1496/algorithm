{
  "nbformat": 4,
  "nbformat_minor": 0,
  "metadata": {
    "colab": {
      "name": "백준 1924번",
      "provenance": [],
      "collapsed_sections": [],
      "authorship_tag": "ABX9TyMvw2RRhOHhHX7/bSJXK9mk",
      "include_colab_link": true
    },
    "kernelspec": {
      "name": "python3",
      "display_name": "Python 3"
    },
    "language_info": {
      "name": "python"
    }
  },
  "cells": [
    {
      "cell_type": "markdown",
      "metadata": {
        "id": "view-in-github",
        "colab_type": "text"
      },
      "source": [
        "<a href=\"https://colab.research.google.com/github/max1496/algorithm/blob/master/%EB%B0%B1%EC%A4%80_1924%EB%B2%88.ipynb\" target=\"_parent\"><img src=\"https://colab.research.google.com/assets/colab-badge.svg\" alt=\"Open In Colab\"/></a>"
      ]
    },
    {
      "cell_type": "code",
      "execution_count": 1,
      "metadata": {
        "colab": {
          "base_uri": "https://localhost:8080/"
        },
        "id": "eYcfXLnQoEDQ",
        "outputId": "5b4510f7-f173-4e47-e715-431d80f34998"
      },
      "outputs": [
        {
          "output_type": "stream",
          "name": "stdout",
          "text": [
            "3 13\n",
            "WED\n"
          ]
        }
      ],
      "source": [
        "list = [31, 28, 31, 30, 31, 30, 31, 31, 30, 31, 30, 31]\n",
        "day_list = [\"SUN\", \"MON\", \"TUE\", \"WED\", \"THU\", \"FRI\", \"SAT\"]\n",
        "x, y = map(int, input().split())\n",
        "day=0\n",
        "for i in range(x-1):\n",
        "    day += list[i]\n",
        "day = (day+y)%7\n",
        "print(day_list[day])"
      ]
    }
  ]
}