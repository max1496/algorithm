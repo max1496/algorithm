{
  "nbformat": 4,
  "nbformat_minor": 0,
  "metadata": {
    "colab": {
      "name": "백준 1292번",
      "provenance": [],
      "collapsed_sections": [],
      "authorship_tag": "ABX9TyNc2PntfAFDJ1V+RR3zxg60",
      "include_colab_link": true
    },
    "kernelspec": {
      "name": "python3",
      "display_name": "Python 3"
    },
    "language_info": {
      "name": "python"
    }
  },
  "cells": [
    {
      "cell_type": "markdown",
      "metadata": {
        "id": "view-in-github",
        "colab_type": "text"
      },
      "source": [
        "<a href=\"https://colab.research.google.com/github/max1496/algorithm/blob/master/%EB%B0%B1%EC%A4%80_1292%EB%B2%88.ipynb\" target=\"_parent\"><img src=\"https://colab.research.google.com/assets/colab-badge.svg\" alt=\"Open In Colab\"/></a>"
      ]
    },
    {
      "cell_type": "code",
      "execution_count": 8,
      "metadata": {
        "colab": {
          "base_uri": "https://localhost:8080/"
        },
        "id": "TP1VNvpYd7L4",
        "outputId": "d3bb931f-9940-4ab0-caee-e5dccbfebfec"
      },
      "outputs": [
        {
          "output_type": "stream",
          "name": "stdout",
          "text": [
            "3 7\n",
            "15\n",
            "3\n",
            "3\n",
            "3\n",
            "4\n",
            "4\n",
            "4\n",
            "4\n"
          ]
        }
      ],
      "source": [
        "a,b= map(int, input().split())\n",
        "arr=[]\n",
        "for i in range(1,1001):\n",
        "    for j in range(i):\n",
        "        arr.append(i)\n",
        "print(sum(arr[a-1:b]))"
      ]
    }
  ]
}