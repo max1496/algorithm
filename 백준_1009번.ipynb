{
  "nbformat": 4,
  "nbformat_minor": 0,
  "metadata": {
    "colab": {
      "name": "백준 1009번",
      "provenance": [],
      "collapsed_sections": [],
      "authorship_tag": "ABX9TyNoogcatxDtADoLBIEZr5XV",
      "include_colab_link": true
    },
    "kernelspec": {
      "name": "python3",
      "display_name": "Python 3"
    },
    "language_info": {
      "name": "python"
    }
  },
  "cells": [
    {
      "cell_type": "markdown",
      "metadata": {
        "id": "view-in-github",
        "colab_type": "text"
      },
      "source": [
        "<a href=\"https://colab.research.google.com/github/max1496/algorithm/blob/master/%EB%B0%B1%EC%A4%80_1009%EB%B2%88.ipynb\" target=\"_parent\"><img src=\"https://colab.research.google.com/assets/colab-badge.svg\" alt=\"Open In Colab\"/></a>"
      ]
    },
    {
      "cell_type": "code",
      "execution_count": null,
      "metadata": {
        "id": "j0s1XvZ7q3Xa"
      },
      "outputs": [],
      "source": [
        "T = int(input())\n",
        "\n",
        "for _ in range(T):\n",
        "    a, b = map(int, input().split())\n",
        "    a = a % 10\n",
        "    \n",
        "    if a == 0:\n",
        "        print(10)\n",
        "    elif a == 1 or a == 5 or a == 6:\n",
        "        print(a)\n",
        "    elif a == 4 or a == 9:\n",
        "        b = b % 2\n",
        "        if b == 1:\n",
        "            print(a)\n",
        "        else:\n",
        "            print((a * a) % 10)\n",
        "    else:\n",
        "        b = b % 4\n",
        "        if b == 0:\n",
        "            print((a**4) % 10 % 10 % 10)\n",
        "        else:\n",
        "            print((a**b) % 10 % 10 % 10)"
      ]
    }
  ]
}