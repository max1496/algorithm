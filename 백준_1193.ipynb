{
  "nbformat": 4,
  "nbformat_minor": 0,
  "metadata": {
    "colab": {
      "name": "백준 1193",
      "provenance": [],
      "authorship_tag": "ABX9TyMKP3WVJlPAttum2pvbVvG0",
      "include_colab_link": true
    },
    "kernelspec": {
      "name": "python3",
      "display_name": "Python 3"
    },
    "language_info": {
      "name": "python"
    }
  },
  "cells": [
    {
      "cell_type": "markdown",
      "metadata": {
        "id": "view-in-github",
        "colab_type": "text"
      },
      "source": [
        "<a href=\"https://colab.research.google.com/github/max1496/algorithm/blob/master/%EB%B0%B1%EC%A4%80_1193.ipynb\" target=\"_parent\"><img src=\"https://colab.research.google.com/assets/colab-badge.svg\" alt=\"Open In Colab\"/></a>"
      ]
    },
    {
      "cell_type": "code",
      "execution_count": 1,
      "metadata": {
        "id": "bURtHoI9U58c",
        "colab": {
          "base_uri": "https://localhost:8080/"
        },
        "outputId": "09d33e0e-5919-41a6-d128-9db0c1f71e74"
      },
      "outputs": [
        {
          "output_type": "stream",
          "name": "stdout",
          "text": [
            "3\n",
            "2/1\n"
          ]
        }
      ],
      "source": [
        "n = int(input())\n",
        "a = 1\n",
        "while n>a:\n",
        "    n=n-a\n",
        "    a+=1\n",
        "if a%2==0:\n",
        "    u=n\n",
        "    d=a-n+1\n",
        "else:\n",
        "    u = a-n+1\n",
        "    d=n\n",
        "print(u,\"/\",d,sep=\"\")\n"
      ]
    }
  ]
}