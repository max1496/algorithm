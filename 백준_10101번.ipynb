{
  "nbformat": 4,
  "nbformat_minor": 0,
  "metadata": {
    "colab": {
      "name": "백준 10101번",
      "provenance": [],
      "collapsed_sections": [],
      "authorship_tag": "ABX9TyOy1p2YsZiaHtGVVywTsDg7",
      "include_colab_link": true
    },
    "kernelspec": {
      "name": "python3",
      "display_name": "Python 3"
    },
    "language_info": {
      "name": "python"
    }
  },
  "cells": [
    {
      "cell_type": "markdown",
      "metadata": {
        "id": "view-in-github",
        "colab_type": "text"
      },
      "source": [
        "<a href=\"https://colab.research.google.com/github/max1496/algorithm/blob/master/%EB%B0%B1%EC%A4%80_10101%EB%B2%88.ipynb\" target=\"_parent\"><img src=\"https://colab.research.google.com/assets/colab-badge.svg\" alt=\"Open In Colab\"/></a>"
      ]
    },
    {
      "cell_type": "code",
      "execution_count": null,
      "metadata": {
        "id": "PXoR5H_a7nQK"
      },
      "outputs": [],
      "source": [
        "a= int(input())\n",
        "b= int(input())\n",
        "c= int(input())\n",
        "if a+b+c!=180:\n",
        "    print(\"Error\")\n",
        "elif a==b and b==c and c==60:\n",
        "    print(\"Equilateral\")\n",
        "elif a==b or a==c or b==c:\n",
        "    print(\"Isosceles\")\n",
        "else:\n",
        "    print(\"Scalene\")"
      ]
    }
  ]
}