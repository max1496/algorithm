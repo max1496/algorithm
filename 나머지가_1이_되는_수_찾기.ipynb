{
  "nbformat": 4,
  "nbformat_minor": 0,
  "metadata": {
    "colab": {
      "name": "나머지가 1이 되는 수 찾기.ipynb",
      "provenance": [],
      "collapsed_sections": [],
      "authorship_tag": "ABX9TyNMVoXzNDHIo81d0n0/HJQP"
    },
    "kernelspec": {
      "name": "python3",
      "display_name": "Python 3"
    },
    "language_info": {
      "name": "python"
    }
  },
  "cells": [
    {
      "cell_type": "markdown",
      "source": [
        "나머지가 1이되는 수를 1부터 나눠보면서 알 수 있다."
      ],
      "metadata": {
        "id": "D8WLXL8pIVhV"
      }
    },
    {
      "cell_type": "code",
      "execution_count": null,
      "metadata": {
        "id": "kfp6tfEwHYKX"
      },
      "outputs": [],
      "source": [
        "def solution(n):\n",
        "    answer = 0\n",
        "    for i in range(1,n):\n",
        "        if n%i==1:      #나머지가 1일때\n",
        "            answer=i    i를 답에 저장\n",
        "            break\n",
        "    return answer"
      ]
    }
  ]
}