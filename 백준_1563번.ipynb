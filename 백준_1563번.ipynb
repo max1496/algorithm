{
  "nbformat": 4,
  "nbformat_minor": 0,
  "metadata": {
    "colab": {
      "name": "백준 1563번",
      "provenance": [],
      "collapsed_sections": [],
      "authorship_tag": "ABX9TyP3cg1310XHYA1plzVMC2x6",
      "include_colab_link": true
    },
    "kernelspec": {
      "name": "python3",
      "display_name": "Python 3"
    },
    "language_info": {
      "name": "python"
    }
  },
  "cells": [
    {
      "cell_type": "markdown",
      "metadata": {
        "id": "view-in-github",
        "colab_type": "text"
      },
      "source": [
        "<a href=\"https://colab.research.google.com/github/max1496/algorithm/blob/master/%EB%B0%B1%EC%A4%80_1563%EB%B2%88.ipynb\" target=\"_parent\"><img src=\"https://colab.research.google.com/assets/colab-badge.svg\" alt=\"Open In Colab\"/></a>"
      ]
    },
    {
      "cell_type": "code",
      "execution_count": null,
      "metadata": {
        "id": "OHF7w2U6CTAR"
      },
      "outputs": [],
      "source": [
        "n=int(input())\n",
        "dp=[0]*(n+1)\n",
        "for i in range(2,n+1):\n",
        "    dp[i]=dp[i-1]+1\n",
        "    if i%2==0:\n",
        "        dp[i]=min(dp[i],dp[i//2]+1)\n",
        "    if i%3==0:\n",
        "        dp[i]=min(dp[i],dp[i//3]+1)\n",
        "print(dp[n])"
      ]
    }
  ]
}