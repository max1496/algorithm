{
  "nbformat": 4,
  "nbformat_minor": 0,
  "metadata": {
    "colab": {
      "name": "백준 10039번",
      "provenance": [],
      "collapsed_sections": [],
      "authorship_tag": "ABX9TyPAZDHC/RzBKG6rd3NWNWE2",
      "include_colab_link": true
    },
    "kernelspec": {
      "name": "python3",
      "display_name": "Python 3"
    },
    "language_info": {
      "name": "python"
    }
  },
  "cells": [
    {
      "cell_type": "markdown",
      "metadata": {
        "id": "view-in-github",
        "colab_type": "text"
      },
      "source": [
        "<a href=\"https://colab.research.google.com/github/max1496/algorithm/blob/master/%EB%B0%B1%EC%A4%80_10039%EB%B2%88.ipynb\" target=\"_parent\"><img src=\"https://colab.research.google.com/assets/colab-badge.svg\" alt=\"Open In Colab\"/></a>"
      ]
    },
    {
      "cell_type": "code",
      "execution_count": 2,
      "metadata": {
        "colab": {
          "base_uri": "https://localhost:8080/"
        },
        "id": "V4tkQRV_Z7Bn",
        "outputId": "9135371d-a90f-48ba-dc5e-c3d1c415d0e8"
      },
      "outputs": [
        {
          "output_type": "stream",
          "name": "stdout",
          "text": [
            "10\n",
            "65\n",
            "100\n",
            "30\n",
            "95\n",
            "68\n"
          ]
        }
      ],
      "source": [
        "a=int(input())\n",
        "if a <=40:\n",
        "    a= 40\n",
        "b=int(input())\n",
        "if b <=40:\n",
        "    b= 40\n",
        "c=int(input())\n",
        "if c <=40:\n",
        "    c= 40\n",
        "d=int(input())\n",
        "if d <=40:\n",
        "    d= 40\n",
        "e=int(input())\n",
        "if e <=40:\n",
        "    e= 40\n",
        "print((a+b+c+d+e)//5)"
      ]
    }
  ]
}