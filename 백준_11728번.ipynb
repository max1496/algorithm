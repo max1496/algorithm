{
  "nbformat": 4,
  "nbformat_minor": 0,
  "metadata": {
    "colab": {
      "name": "백준 11728번",
      "provenance": [],
      "collapsed_sections": [],
      "authorship_tag": "ABX9TyPS1/xndPlKrxurfIUfT3cn",
      "include_colab_link": true
    },
    "kernelspec": {
      "name": "python3",
      "display_name": "Python 3"
    },
    "language_info": {
      "name": "python"
    }
  },
  "cells": [
    {
      "cell_type": "markdown",
      "metadata": {
        "id": "view-in-github",
        "colab_type": "text"
      },
      "source": [
        "<a href=\"https://colab.research.google.com/github/max1496/algorithm/blob/master/%EB%B0%B1%EC%A4%80_11728%EB%B2%88.ipynb\" target=\"_parent\"><img src=\"https://colab.research.google.com/assets/colab-badge.svg\" alt=\"Open In Colab\"/></a>"
      ]
    },
    {
      "cell_type": "code",
      "execution_count": null,
      "metadata": {
        "id": "qkOLmVzKxPz3"
      },
      "outputs": [],
      "source": [
        "a,b=map(int,input().split())\n",
        "m=list(map(int,input().split()))\n",
        "n=list(map(int,input().split()))\n",
        "m.extend(n)\n",
        "m.sort()\n",
        "print(*m)"
      ]
    }
  ]
}