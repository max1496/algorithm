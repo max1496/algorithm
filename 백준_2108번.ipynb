{
  "nbformat": 4,
  "nbformat_minor": 0,
  "metadata": {
    "colab": {
      "provenance": [],
      "collapsed_sections": [],
      "authorship_tag": "ABX9TyPeGVQOcLLeivhDa/3UChmK",
      "include_colab_link": true
    },
    "kernelspec": {
      "name": "python3",
      "display_name": "Python 3"
    },
    "language_info": {
      "name": "python"
    }
  },
  "cells": [
    {
      "cell_type": "markdown",
      "metadata": {
        "id": "view-in-github",
        "colab_type": "text"
      },
      "source": [
        "<a href=\"https://colab.research.google.com/github/max1496/algorithm/blob/master/%EB%B0%B1%EC%A4%80_2108%EB%B2%88.ipynb\" target=\"_parent\"><img src=\"https://colab.research.google.com/assets/colab-badge.svg\" alt=\"Open In Colab\"/></a>"
      ]
    },
    {
      "cell_type": "code",
      "execution_count": null,
      "metadata": {
        "id": "b-lV8jmxfxca"
      },
      "outputs": [],
      "source": [
        "from collections import Counter\n",
        "n=int(input())\n",
        "a=[]\n",
        "for _ in range(n):\n",
        "    a.append(int(input()))\n",
        "a.sort()\n",
        "nua=Counter(a).most_common()\n",
        "print(round(sum(a)/n))\n",
        "print(a[n//2])\n",
        "if len(nua)==1:\n",
        "    print(nua[0][0])\n",
        "else:\n",
        "    if nua[0][1]==nua[1][1]:\n",
        "        print(nua[1][0])\n",
        "    else:\n",
        "        print(nua[0][0])\n",
        "print(a[-1]-a[0])\n",
        "    \n",
        "# maxva=max value\n",
        "#nua = number of a "
      ]
    }
  ]
}