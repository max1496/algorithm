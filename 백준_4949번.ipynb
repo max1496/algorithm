{
  "nbformat": 4,
  "nbformat_minor": 0,
  "metadata": {
    "colab": {
      "name": "백준 4949번",
      "provenance": [],
      "collapsed_sections": [],
      "authorship_tag": "ABX9TyOj8lio7JF+ioii/hW6zOKW",
      "include_colab_link": true
    },
    "kernelspec": {
      "name": "python3",
      "display_name": "Python 3"
    },
    "language_info": {
      "name": "python"
    }
  },
  "cells": [
    {
      "cell_type": "markdown",
      "metadata": {
        "id": "view-in-github",
        "colab_type": "text"
      },
      "source": [
        "<a href=\"https://colab.research.google.com/github/max1496/algorithm/blob/master/%EB%B0%B1%EC%A4%80_4949%EB%B2%88.ipynb\" target=\"_parent\"><img src=\"https://colab.research.google.com/assets/colab-badge.svg\" alt=\"Open In Colab\"/></a>"
      ]
    },
    {
      "cell_type": "code",
      "execution_count": null,
      "metadata": {
        "id": "wmGuBeSHNBlQ"
      },
      "outputs": [],
      "source": [
        "while True:\n",
        "    a=input()\n",
        "    flag = True\n",
        "    arr=[]\n",
        "    if a==\".\":\n",
        "        break\n",
        "    for i in a:\n",
        "        if i ==\"(\" or i ==\"[\":\n",
        "            arr.append(i)\n",
        "        elif i==\")\":\n",
        "            if not arr or arr[-1]==\"[\":\n",
        "                flag=False\n",
        "                break\n",
        "            elif arr[-1]==\"(\":\n",
        "                arr.pop()\n",
        "        elif i==\"]\":\n",
        "            if not arr or arr[-1]==\"(\":\n",
        "                flag=False\n",
        "                break\n",
        "            elif arr[-1]==\"[\":\n",
        "                arr.pop()\n",
        "                \n",
        "    if not arr and flag:\n",
        "        print(\"yes\")\n",
        "    else:\n",
        "        print(\"no\")"
      ]
    }
  ]
}