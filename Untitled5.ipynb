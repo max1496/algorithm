{
  "nbformat": 4,
  "nbformat_minor": 0,
  "metadata": {
    "colab": {
      "name": "Untitled5.ipynb",
      "provenance": [],
      "collapsed_sections": [],
      "authorship_tag": "ABX9TyNmF3eDstwRgN+WZT484g11"
    },
    "kernelspec": {
      "name": "python3",
      "display_name": "Python 3"
    },
    "language_info": {
      "name": "python"
    }
  },
  "cells": [
    {
      "cell_type": "markdown",
      "source": [
        ""
      ],
      "metadata": {
        "id": "BxyeVbpjDDEM"
      }
    },
    {
      "cell_type": "code",
      "execution_count": null,
      "metadata": {
        "id": "nwDTCgHd_I_B"
      },
      "outputs": [],
      "source": [
        "def solution(s):\n",
        "    answer = ''\n",
        "    if len(s)%2==0:\t\t#2로 나눠지는 경우\n",
        "        answer =\"\".join(s[len(s)//2-1:len(s)//2+1])\t\t#한 글자가 아니니 합쳐줌\n",
        "    else:\t\t#그 외의 경우\n",
        "        answer = s[len(s)//2]\n",
        "    return answer"
      ]
    }
  ]
}