{
  "nbformat": 4,
  "nbformat_minor": 0,
  "metadata": {
    "colab": {
      "name": "백준 1026 ",
      "provenance": [],
      "collapsed_sections": [],
      "authorship_tag": "ABX9TyMQJUo1yIgx7if8q2ZPVb++",
      "include_colab_link": true
    },
    "kernelspec": {
      "name": "python3",
      "display_name": "Python 3"
    },
    "language_info": {
      "name": "python"
    }
  },
  "cells": [
    {
      "cell_type": "markdown",
      "metadata": {
        "id": "view-in-github",
        "colab_type": "text"
      },
      "source": [
        "<a href=\"https://colab.research.google.com/github/max1496/algorithm/blob/master/%EB%B0%B1%EC%A4%80_1026.ipynb\" target=\"_parent\"><img src=\"https://colab.research.google.com/assets/colab-badge.svg\" alt=\"Open In Colab\"/></a>"
      ]
    },
    {
      "cell_type": "code",
      "execution_count": null,
      "metadata": {
        "id": "0VHJCN-lGyf9"
      },
      "outputs": [],
      "source": [
        "n=int(input())\n",
        "a=list(map(int,input().split()))\n",
        "b=list(map(int,input().split()))\n",
        "s=0\n",
        "for i in range(n):\n",
        "    s+=min(a)*max(b)\n",
        "    a.remove(min(a))\n",
        "    b.remove(max(b))\n",
        "\n",
        "print(s)"
      ]
    }
  ]
}