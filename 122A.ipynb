{
  "nbformat": 4,
  "nbformat_minor": 0,
  "metadata": {
    "colab": {
      "name": "122A.ipynb",
      "provenance": [],
      "collapsed_sections": [],
      "authorship_tag": "ABX9TyP53KNEGJVIZ0nYB2akdaGo",
      "include_colab_link": true
    },
    "kernelspec": {
      "name": "python3",
      "display_name": "Python 3"
    },
    "language_info": {
      "name": "python"
    }
  },
  "cells": [
    {
      "cell_type": "markdown",
      "metadata": {
        "id": "view-in-github",
        "colab_type": "text"
      },
      "source": [
        "<a href=\"https://colab.research.google.com/github/max1496/algorithm/blob/master/122A.ipynb\" target=\"_parent\"><img src=\"https://colab.research.google.com/assets/colab-badge.svg\" alt=\"Open In Colab\"/></a>"
      ]
    },
    {
      "cell_type": "code",
      "execution_count": 17,
      "metadata": {
        "colab": {
          "base_uri": "https://localhost:8080/"
        },
        "id": "qwqJY9m4c0f9",
        "outputId": "bf19106d-f4da-4f77-fa78-10677a2a33f3"
      },
      "outputs": [
        {
          "output_type": "stream",
          "name": "stdout",
          "text": [
            "799\n",
            "YES\n"
          ]
        }
      ],
      "source": [
        "n= input()\n",
        "flag=True\n",
        "a=[]\n",
        "for i in range(len(n)):\n",
        "    if n[i]==\"4\" or n[i]==\"7\":\n",
        "        continue\n",
        "    else:\n",
        "        flag=False\n",
        "if (int(n))%4 ==0 or (int(n))%7 ==0 or \\\n",
        "int(n)%47 ==0 or int(n)%44 ==0 or \\\n",
        "  int(n)%74 ==0 or int(n)%77 ==0 or \\\n",
        "   int(n)%444 ==0 or int(n)%447 ==0 or \\\n",
        "    int(n)%474 ==0 or int(n)%477 ==0 or \\\n",
        "     int(n)%744 ==0 or int(n)%747 ==0 or \\\n",
        "      int(n)%774 ==0 or int(n)%777 ==0:\n",
        "    flag=True\n",
        "if flag:\n",
        "    print(\"YES\")\n",
        "else:\n",
        "    print(\"NO\")"
      ]
    },
    {
      "cell_type": "markdown",
      "source": [
        "먼저 4와 7로만 이루어져 있는지 판별하고\n",
        "\n",
        "4,7로만 이뤄져있는 숫자들로 나눠 떨어지는지 판별해서 flag 변수에 저장한다.\n",
        "\n",
        "n이 1~1000이기 때문에 하나하나 케이스를 나눴다."
      ],
      "metadata": {
        "id": "xicpngrr4WBV"
      }
    }
  ]
}