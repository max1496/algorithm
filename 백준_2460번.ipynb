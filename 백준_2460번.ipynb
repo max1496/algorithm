{
  "nbformat": 4,
  "nbformat_minor": 0,
  "metadata": {
    "colab": {
      "name": "백준 2460번",
      "provenance": [],
      "collapsed_sections": [],
      "authorship_tag": "ABX9TyO82x2MUe1gg+CUegvMWQuw",
      "include_colab_link": true
    },
    "kernelspec": {
      "name": "python3",
      "display_name": "Python 3"
    },
    "language_info": {
      "name": "python"
    }
  },
  "cells": [
    {
      "cell_type": "markdown",
      "metadata": {
        "id": "view-in-github",
        "colab_type": "text"
      },
      "source": [
        "<a href=\"https://colab.research.google.com/github/max1496/algorithm/blob/master/%EB%B0%B1%EC%A4%80_2460%EB%B2%88.ipynb\" target=\"_parent\"><img src=\"https://colab.research.google.com/assets/colab-badge.svg\" alt=\"Open In Colab\"/></a>"
      ]
    },
    {
      "cell_type": "code",
      "execution_count": null,
      "metadata": {
        "id": "6PM9sITQUJEd"
      },
      "outputs": [],
      "source": [
        "answer= 0\n",
        "n=0\n",
        "max_val = 0\n",
        "for _ in range(10):\n",
        "    a,b = map(int, input().split())\n",
        "    n+=b\n",
        "    n-=a\n",
        "    max_val = max(n, max_val)\n",
        "print(max_val)"
      ]
    }
  ]
}