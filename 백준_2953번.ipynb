{
  "nbformat": 4,
  "nbformat_minor": 0,
  "metadata": {
    "colab": {
      "name": "백준 2953번",
      "provenance": [],
      "collapsed_sections": [],
      "authorship_tag": "ABX9TyOLMhfZ6xE6r9zUjKbHnGn4",
      "include_colab_link": true
    },
    "kernelspec": {
      "name": "python3",
      "display_name": "Python 3"
    },
    "language_info": {
      "name": "python"
    }
  },
  "cells": [
    {
      "cell_type": "markdown",
      "metadata": {
        "id": "view-in-github",
        "colab_type": "text"
      },
      "source": [
        "<a href=\"https://colab.research.google.com/github/max1496/algorithm/blob/master/%EB%B0%B1%EC%A4%80_2953%EB%B2%88.ipynb\" target=\"_parent\"><img src=\"https://colab.research.google.com/assets/colab-badge.svg\" alt=\"Open In Colab\"/></a>"
      ]
    },
    {
      "cell_type": "code",
      "execution_count": null,
      "metadata": {
        "id": "Q3SSepIoVnGu"
      },
      "outputs": [],
      "source": [
        "a=[]\n",
        "for _ in range(5):\n",
        "    a.append(sum(list(map(int, input().split()))))\n",
        "print(a.index(max(a))+1,max(a))\n"
      ]
    }
  ]
}