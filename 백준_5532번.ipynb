{
  "nbformat": 4,
  "nbformat_minor": 0,
  "metadata": {
    "colab": {
      "name": "백준 5532번",
      "provenance": [],
      "collapsed_sections": [],
      "authorship_tag": "ABX9TyP6SaxF8QtxbDoAGF2L2BsJ",
      "include_colab_link": true
    },
    "kernelspec": {
      "name": "python3",
      "display_name": "Python 3"
    },
    "language_info": {
      "name": "python"
    }
  },
  "cells": [
    {
      "cell_type": "markdown",
      "metadata": {
        "id": "view-in-github",
        "colab_type": "text"
      },
      "source": [
        "<a href=\"https://colab.research.google.com/github/max1496/algorithm/blob/master/%EB%B0%B1%EC%A4%80_5532%EB%B2%88.ipynb\" target=\"_parent\"><img src=\"https://colab.research.google.com/assets/colab-badge.svg\" alt=\"Open In Colab\"/></a>"
      ]
    },
    {
      "cell_type": "code",
      "execution_count": 8,
      "metadata": {
        "colab": {
          "base_uri": "https://localhost:8080/"
        },
        "id": "onCZVF4AML_d",
        "outputId": "d0de8c69-3c47-4248-e835-9fbcf5cb8b95"
      },
      "outputs": [
        {
          "output_type": "stream",
          "name": "stdout",
          "text": [
            "20\n",
            "25\n",
            "30\n",
            "6\n",
            "8\n",
            "15\n"
          ]
        }
      ],
      "source": [
        "import math\n",
        "l=int(input())\n",
        "a= int(input())\n",
        "b= int(input())\n",
        "c= int(input())\n",
        "d= int(input())\n",
        "print(l-max(math.ceil(a/c),math.ceil(b/d)))"
      ]
    }
  ]
}