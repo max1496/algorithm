{
  "nbformat": 4,
  "nbformat_minor": 0,
  "metadata": {
    "colab": {
      "name": "leetcode1365.ipynb",
      "provenance": [],
      "collapsed_sections": [],
      "authorship_tag": "ABX9TyOxAdnF0KzXYWbHCEyuEsOV"
    },
    "kernelspec": {
      "name": "python3",
      "display_name": "Python 3"
    },
    "language_info": {
      "name": "python"
    }
  },
  "cells": [
    {
      "cell_type": "markdown",
      "source": [
        "nums에 있는 숫자들을 일일히 비교해가면서 배열의 다른 몇개의 숫자보다 더 큰지 판별하는 것인 줄 알았다.\n",
        "\n",
        "하지만 nums를 다른 배열에 넣어두고 nums를 정렬한 후 인덱스를 찾으면 훨씬 좋은방법이 된다는걸 깨달았다."
      ],
      "metadata": {
        "id": "ZG8B__X_KeZX"
      }
    },
    {
      "cell_type": "markdown",
      "source": [
        "파이썬\n"
      ],
      "metadata": {
        "id": "M-Wo1YgRKhM_"
      }
    },
    {
      "cell_type": "code",
      "execution_count": null,
      "metadata": {
        "id": "pAiYJPFEDgKU"
      },
      "outputs": [],
      "source": [
        "class Solution:\n",
        "    def smallerNumbersThanCurrent(self, nums: List[int]) -> List[int]:\n",
        "        b=[]\n",
        "        for i in range(len(nums)):\n",
        "            b.append(nums[i])\n",
        "        nums.sort()\n",
        "        arr=[]\n",
        "        \n",
        "        for i,value in enumerate(b):\n",
        "            arr.append(nums.index(value))\n",
        "        return arr"
      ]
    },
    {
      "cell_type": "markdown",
      "source": [
        "스위프트\n"
      ],
      "metadata": {
        "id": "-MidbiXUKjF1"
      }
    },
    {
      "cell_type": "markdown",
      "source": [
        "class Solution {\n",
        "    func smallerNumbersThanCurrent(_ nums: [Int]) -> [Int] {\n",
        "        var a = [Int]()\n",
        "        var b = nums\n",
        "        \n",
        "        var s = nums\n",
        "        s.sort()\n",
        "        for i in 0..<nums.count{\n",
        "            a.append(s.firstIndex(of: b[i])!)\n",
        "  \n",
        "        }\n",
        "        print(s)\n",
        "        return a\n",
        "    }\n",
        "}"
      ],
      "metadata": {
        "id": "L4mrDAJ5KkWN"
      }
    }
  ]
}