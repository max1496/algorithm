{
  "nbformat": 4,
  "nbformat_minor": 0,
  "metadata": {
    "colab": {
      "name": "백준 1012번 bfs",
      "provenance": [],
      "collapsed_sections": [],
      "authorship_tag": "ABX9TyNf/PuTGB3+PpOqmYbKTj8H",
      "include_colab_link": true
    },
    "kernelspec": {
      "name": "python3",
      "display_name": "Python 3"
    },
    "language_info": {
      "name": "python"
    }
  },
  "cells": [
    {
      "cell_type": "markdown",
      "metadata": {
        "id": "view-in-github",
        "colab_type": "text"
      },
      "source": [
        "<a href=\"https://colab.research.google.com/github/max1496/algorithm/blob/master/%EB%B0%B1%EC%A4%80_1012%EB%B2%88_bfs.ipynb\" target=\"_parent\"><img src=\"https://colab.research.google.com/assets/colab-badge.svg\" alt=\"Open In Colab\"/></a>"
      ]
    },
    {
      "cell_type": "code",
      "execution_count": null,
      "metadata": {
        "id": "je7w6FXCkdxI"
      },
      "outputs": [],
      "source": [
        "from collections import deque\n",
        "t=int(input())\n",
        "dx=[1,-1,0,0]\n",
        "dy=[0,0,1,-1]\n",
        "def bfs(graph,x,y):\n",
        "    \n",
        "    graph[x][y]=0\n",
        "    queue=deque()\n",
        "    queue.append((x,y))\n",
        "    while queue:\n",
        "        x,y = queue.popleft()\n",
        "        for i in range(4):\n",
        "            nx=x+dx[i]\n",
        "            ny=y+dy[i]\n",
        "            if nx>=n or nx<0 or ny<0 or ny>=m:\n",
        "                 continue\n",
        "            if graph[nx][ny]==1:\n",
        "                queue.append((nx,ny)) \n",
        "                graph[nx][ny]=0\n",
        "                \n",
        "    return\n",
        "for _ in range(t):\n",
        "    cnt=0\n",
        "    n,m,num=map(int,input().split())\n",
        "    graph=[[0]*m for x in range(n)]\n",
        "    for i in range(num):\n",
        "        x,y=map(int,input().split())\n",
        "        graph[x][y]=1\n",
        "    for i in range(n):\n",
        "        for j in range(m):\n",
        "            if graph[i][j]:\n",
        "                \n",
        "                bfs(graph,i,j)\n",
        "                cnt+=1\n",
        "    print(cnt)"
      ]
    }
  ]
}