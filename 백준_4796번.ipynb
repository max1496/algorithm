{
  "nbformat": 4,
  "nbformat_minor": 0,
  "metadata": {
    "colab": {
      "name": "백준 4796번",
      "provenance": [],
      "collapsed_sections": [],
      "authorship_tag": "ABX9TyMfs5TCK0aJtOiI/MIVG5/V",
      "include_colab_link": true
    },
    "kernelspec": {
      "name": "python3",
      "display_name": "Python 3"
    },
    "language_info": {
      "name": "python"
    }
  },
  "cells": [
    {
      "cell_type": "markdown",
      "metadata": {
        "id": "view-in-github",
        "colab_type": "text"
      },
      "source": [
        "<a href=\"https://colab.research.google.com/github/max1496/algorithm/blob/master/%EB%B0%B1%EC%A4%80_4796%EB%B2%88.ipynb\" target=\"_parent\"><img src=\"https://colab.research.google.com/assets/colab-badge.svg\" alt=\"Open In Colab\"/></a>"
      ]
    },
    {
      "cell_type": "code",
      "execution_count": null,
      "metadata": {
        "id": "AGkB6sL9Px76"
      },
      "outputs": [],
      "source": [
        "i=1\n",
        "while True:\n",
        "    a,b,c = map(int, input().split())\n",
        "    \n",
        "    if a+b+c==0:\n",
        "        break\n",
        "    n=a*(c//b)\n",
        "    n+= min(a,c%b)\n",
        "    print(\"Case %d: %d\" %(i,n))\n",
        "    i+=1"
      ]
    }
  ]
}