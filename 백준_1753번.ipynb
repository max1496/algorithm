{
  "nbformat": 4,
  "nbformat_minor": 0,
  "metadata": {
    "colab": {
      "name": "백준 1753번",
      "provenance": [],
      "collapsed_sections": [],
      "authorship_tag": "ABX9TyNLPFVfZt0IfP82GdmsZypy",
      "include_colab_link": true
    },
    "kernelspec": {
      "name": "python3",
      "display_name": "Python 3"
    },
    "language_info": {
      "name": "python"
    }
  },
  "cells": [
    {
      "cell_type": "markdown",
      "metadata": {
        "id": "view-in-github",
        "colab_type": "text"
      },
      "source": [
        "<a href=\"https://colab.research.google.com/github/max1496/algorithm/blob/master/%EB%B0%B1%EC%A4%80_1753%EB%B2%88.ipynb\" target=\"_parent\"><img src=\"https://colab.research.google.com/assets/colab-badge.svg\" alt=\"Open In Colab\"/></a>"
      ]
    },
    {
      "cell_type": "code",
      "execution_count": null,
      "metadata": {
        "id": "kMvmIiIhJhUy"
      },
      "outputs": [],
      "source": [
        "import heapq\n",
        "# import sys\n",
        "# input = sys.stdin.readline\n",
        "INF = 999999999\n",
        "\n",
        "V,E=map(int,input().split())\n",
        "k=int(input())\n",
        "dis=[INF]*(V+1)\n",
        "h=[]\n",
        "g=[[] for _ in range(V+1)]\n",
        "\n",
        "def di(st):\n",
        "    dis[st]=0\n",
        "    heapq.heappush(h,(0,st))\n",
        "    \n",
        "    while h:\n",
        "        ga,t = heapq.heappop(h)\n",
        "        if dis[t]<ga:\n",
        "            continue\n",
        "        for gne,net in g[t]:\n",
        "            gnesum=gne+ga\n",
        "            if gnesum<dis[net]:\n",
        "                dis[net]=gnesum\n",
        "                heapq.heappush(h,(gnesum,net))\n",
        "for _ in range(E):\n",
        "    u,v,w=map(int,input().split())\n",
        "    g[u].append((w,v))\n",
        "\n",
        "\n",
        "di(k)\n",
        "for j in range(1,V+1):\n",
        "    print(\"INF\" if dis[j]==INF else dis[j])\n",
        "\n",
        "\n",
        "#dis= 거리\n",
        "#INF= 무한대\n",
        "#net= next target\n",
        "#g= grapg\n",
        "#di= 다익스트라\n",
        "#h= 힙 이름\n",
        "#u= 간선의 출발\n",
        "#v= 간선의 도착\n",
        "#v= 정점\n",
        "#e= 간선\n",
        "#w= e의 가중치\n",
        "#ga= 가중치\n",
        "#gne= 가중치 next\n",
        "#gnesum= 가중치 next 합\n",
        "#힙에 반드시 node부터 넣을것!!!!!!!!!!!!"
      ]
    }
  ]
}