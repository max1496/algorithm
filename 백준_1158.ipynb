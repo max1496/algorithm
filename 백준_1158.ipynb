{
  "nbformat": 4,
  "nbformat_minor": 0,
  "metadata": {
    "colab": {
      "name": "백준 1158",
      "provenance": [],
      "collapsed_sections": [],
      "authorship_tag": "ABX9TyNE2jFH3QfdP5fSKNKQThoF",
      "include_colab_link": true
    },
    "kernelspec": {
      "name": "python3",
      "display_name": "Python 3"
    },
    "language_info": {
      "name": "python"
    }
  },
  "cells": [
    {
      "cell_type": "markdown",
      "metadata": {
        "id": "view-in-github",
        "colab_type": "text"
      },
      "source": [
        "<a href=\"https://colab.research.google.com/github/max1496/algorithm/blob/master/%EB%B0%B1%EC%A4%80_1158.ipynb\" target=\"_parent\"><img src=\"https://colab.research.google.com/assets/colab-badge.svg\" alt=\"Open In Colab\"/></a>"
      ]
    },
    {
      "cell_type": "code",
      "execution_count": 3,
      "metadata": {
        "colab": {
          "base_uri": "https://localhost:8080/"
        },
        "id": "g5YC9HcDZxk5",
        "outputId": "ad45302e-1bf9-4808-fe0e-398e89c9c89f"
      },
      "outputs": [
        {
          "output_type": "stream",
          "name": "stdout",
          "text": [
            "7 3\n",
            "<3, 6, 2, 7, 5, 1, 4>\n"
          ]
        }
      ],
      "source": [
        "from collections import deque\n",
        "n,k=map(int,input().split())\n",
        "arr=deque()\n",
        "x=[]\n",
        "for i in range(1,n+1):\n",
        "    arr.append(i)\n",
        "while arr:\n",
        "    for i in range(k-1):\n",
        "        arr.append(arr[0])\n",
        "        arr.popleft()\n",
        "    x.append(arr.popleft())\n",
        "print(\"<\", end=\"\")\n",
        "for i in range(n-1):\n",
        "    print(x[i],end=\", \")\n",
        "print(x[-1],\">\",sep=\"\")\n"
      ]
    }
  ]
}