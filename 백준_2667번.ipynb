{
  "nbformat": 4,
  "nbformat_minor": 0,
  "metadata": {
    "colab": {
      "name": "백준 2667번",
      "provenance": [],
      "collapsed_sections": [],
      "authorship_tag": "ABX9TyPc+mzdeAeMhkBGc9lSxjME",
      "include_colab_link": true
    },
    "kernelspec": {
      "name": "python3",
      "display_name": "Python 3"
    },
    "language_info": {
      "name": "python"
    }
  },
  "cells": [
    {
      "cell_type": "markdown",
      "metadata": {
        "id": "view-in-github",
        "colab_type": "text"
      },
      "source": [
        "<a href=\"https://colab.research.google.com/github/max1496/algorithm/blob/master/%EB%B0%B1%EC%A4%80_2667%EB%B2%88.ipynb\" target=\"_parent\"><img src=\"https://colab.research.google.com/assets/colab-badge.svg\" alt=\"Open In Colab\"/></a>"
      ]
    },
    {
      "cell_type": "code",
      "execution_count": null,
      "metadata": {
        "id": "925aPerGNxi7"
      },
      "outputs": [],
      "source": [
        "from collections import deque\n",
        "n= int(input())\n",
        "board= []\n",
        "cnt=0\n",
        "cntarr=[]\n",
        "\n",
        "for i in range(n):\n",
        "  \n",
        "    board.append(list(map(int, input())))\n",
        "\n",
        "def bfs(graph,x,y):\n",
        "  \n",
        "    global cnt\n",
        "    dx=[-1,1,0,0]\n",
        "    dy=[0,0,-1,1]\n",
        "    queue=deque()\n",
        "    queue.append((x,y))\n",
        "    cnt=1\n",
        "    while queue:\n",
        "        x,y=queue.popleft()\n",
        "        graph[x][y]=0\n",
        "        \n",
        "      \n",
        "        for j in range(4):\n",
        "            nx=x+dx[j]\n",
        "            ny=y+dy[j]\n",
        "            if nx<0 or nx>=n or ny<0 or ny>=n:\n",
        "                continue\n",
        "            if graph[nx][ny]==1:\n",
        "                graph[nx][ny]=0\n",
        "                queue.append((nx,ny))\n",
        "                cnt+=1\n",
        "    return cnt\n",
        "\n",
        "for p in range(n):\n",
        "    for q in range(n):\n",
        "        if board[p][q]==1:\n",
        "            \n",
        "            cntarr.append(bfs(board,p,q))\n",
        "            \n",
        "cntarr.sort()\n",
        "print(len(cntarr))\n",
        "for qw in range(len(cntarr)):\n",
        "    print(cntarr[qw])\n"
      ]
    }
  ]
}