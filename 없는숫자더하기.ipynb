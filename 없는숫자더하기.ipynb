{
  "nbformat": 4,
  "nbformat_minor": 0,
  "metadata": {
    "colab": {
      "name": "없는숫자더하기.ipynb",
      "provenance": [],
      "collapsed_sections": [],
      "authorship_tag": "ABX9TyNnDV13SOOjB4KiZjEUqRqX"
    },
    "kernelspec": {
      "name": "python3",
      "display_name": "Python 3"
    },
    "language_info": {
      "name": "python"
    }
  },
  "cells": [
    {
      "cell_type": "markdown",
      "source": [
        "0~9까지 해당 숫자가 배열에 없으면 더해주는 쉬운문제."
      ],
      "metadata": {
        "id": "qT_QMc9Jm1LT"
      }
    },
    {
      "cell_type": "code",
      "execution_count": null,
      "metadata": {
        "id": "t6XYlTWasuIM"
      },
      "outputs": [],
      "source": [
        "def solution(numbers):\n",
        "    answer = 0\n",
        "    for i in range(10):\n",
        "        if i not in numbers:\n",
        "            answer+=i\n",
        "    return answer"
      ]
    }
  ]
}