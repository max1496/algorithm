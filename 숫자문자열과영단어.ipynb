{
  "nbformat": 4,
  "nbformat_minor": 0,
  "metadata": {
    "colab": {
      "name": "숫자문자열과영단어.ipynb",
      "provenance": [],
      "collapsed_sections": [],
      "authorship_tag": "ABX9TyPo07ZCyQ6GTGLJlhh3GTkw"
    },
    "kernelspec": {
      "name": "python3",
      "display_name": "Python 3"
    },
    "language_info": {
      "name": "python"
    }
  },
  "cells": [
    {
      "cell_type": "markdown",
      "source": [
        "영단어 별로 딕셔너리로 값을 지정하고 주어진 문자열은 숫자, 3글자, 4글자, 5글자중 하나임으로 케이스를 나눠서 숫자로 바꿔준다.\n",
        "\n"
      ],
      "metadata": {
        "id": "Tpl0QitM4YlZ"
      }
    },
    {
      "cell_type": "code",
      "execution_count": null,
      "metadata": {
        "id": "vD3wtlTizi51"
      },
      "outputs": [],
      "source": [
        "def solution(s):\n",
        "    answer = 0\n",
        "    b=[]\n",
        "    a = {\"zero\":0, \"one\": 1, \"two\": 2, \"three\": 3, \"four\": 4, \"five\":5, \"six\":6, \"seven\":7, \\\n",
        "        \"eight\": 8, \"nine\": 9}      #영단어 별로 숫자로 정리\n",
        "    while True:\n",
        "        if s[:3] in a:      #3글자일때\n",
        "            b.append(str(a[s[:3]]))     #3글자에 해당하는 a값을 b에 추가\n",
        "            s=s[3:]     #s는 3번째 이후부터\n",
        "        elif s[:4] in a:        #4글자일때\n",
        "            b.append(str(a[s[:4]]))\n",
        "            s=s[4:]\n",
        "        elif s[:5] in a:        #5글자일때\n",
        "            b.append(str(a[s[:5]]))\n",
        "            s=s[5:]\n",
        "        else:       #숫자일때\n",
        "            b.append(s[0])\n",
        "            s=s[1:]\n",
        "        if s==\"\":\n",
        "            break       #빈 문자열이면 break\n",
        "    answer = \"\".join(b)\n",
        "    \n",
        "    return int(answer)      #배열을 합쳐주고 다시 정수로"
      ]
    }
  ]
}