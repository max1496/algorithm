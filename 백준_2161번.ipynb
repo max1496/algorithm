{
  "nbformat": 4,
  "nbformat_minor": 0,
  "metadata": {
    "colab": {
      "name": "백준 2161번",
      "provenance": [],
      "collapsed_sections": [],
      "authorship_tag": "ABX9TyNo09DrpqdGdr+anssfeHtR",
      "include_colab_link": true
    },
    "kernelspec": {
      "name": "python3",
      "display_name": "Python 3"
    },
    "language_info": {
      "name": "python"
    }
  },
  "cells": [
    {
      "cell_type": "markdown",
      "metadata": {
        "id": "view-in-github",
        "colab_type": "text"
      },
      "source": [
        "<a href=\"https://colab.research.google.com/github/max1496/algorithm/blob/master/%EB%B0%B1%EC%A4%80_2161%EB%B2%88.ipynb\" target=\"_parent\"><img src=\"https://colab.research.google.com/assets/colab-badge.svg\" alt=\"Open In Colab\"/></a>"
      ]
    },
    {
      "cell_type": "code",
      "execution_count": 3,
      "metadata": {
        "colab": {
          "base_uri": "https://localhost:8080/"
        },
        "id": "PCcvUTrdEz0e",
        "outputId": "558f95b6-b0ab-40ec-8b8c-fadef73ccdb1"
      },
      "outputs": [
        {
          "output_type": "stream",
          "name": "stdout",
          "text": [
            "7\n",
            "1 3 5 7 4 2 6\n"
          ]
        }
      ],
      "source": [
        "from collections import deque\n",
        "n= int(input())\n",
        "a=deque()\n",
        "b=[]\n",
        "\n",
        "for i in range(1,n+1):\n",
        "    a.append(i)\n",
        "while len(a)>1:\n",
        "    b.append(a.popleft())\n",
        "    a.append(a.popleft())\n",
        "for j in range(len(b)):\n",
        "    print(b[j],end=\" \")\n",
        "print(a[0])"
      ]
    }
  ]
}