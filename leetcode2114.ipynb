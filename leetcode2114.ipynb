{
  "nbformat": 4,
  "nbformat_minor": 0,
  "metadata": {
    "colab": {
      "name": "leetcode2114.ipynb",
      "provenance": [],
      "collapsed_sections": [],
      "authorship_tag": "ABX9TyMIUJbH+CRRpgIQVxrK2dwe",
      "include_colab_link": true
    },
    "kernelspec": {
      "name": "python3",
      "display_name": "Python 3"
    },
    "language_info": {
      "name": "python"
    }
  },
  "cells": [
    {
      "cell_type": "markdown",
      "metadata": {
        "id": "view-in-github",
        "colab_type": "text"
      },
      "source": [
        "<a href=\"https://colab.research.google.com/github/max1496/algorithm/blob/master/leetcode2114.ipynb\" target=\"_parent\"><img src=\"https://colab.research.google.com/assets/colab-badge.svg\" alt=\"Open In Colab\"/></a>"
      ]
    },
    {
      "cell_type": "markdown",
      "source": [
        "단어의 개수가 가장 많은 인덱스를 고르는 문제이다 for문 연습하기 좋은 문제\n",
        "\n",
        "스위프트"
      ],
      "metadata": {
        "id": "ZtdcfDkIYe_T"
      }
    },
    {
      "cell_type": "code",
      "execution_count": null,
      "metadata": {
        "id": "WQBB9ysoPq2I"
      },
      "outputs": [],
      "source": [
        "class Solution {\n",
        "    func mostWordsFound(_ sentences: [String]) -> Int {\n",
        "        var x = 0 \n",
        "        for i in sentences{\n",
        "            x = max(x, numberOfWords(i))\n",
        "        }\n",
        "        return x\n",
        "    }\n",
        "    \n",
        "    func numberOfWords(_ s: String) -> Int {\n",
        "        var w = 1\n",
        "        for i in s where i == \" \"{\n",
        "            w+=1\n",
        "        }\n",
        "        return w\n",
        "    }\n",
        "}"
      ]
    },
    {
      "cell_type": "markdown",
      "source": [
        "파이썬"
      ],
      "metadata": {
        "id": "fhQBGIuUZTLC"
      }
    },
    {
      "cell_type": "code",
      "source": [
        "class Solution:\n",
        "    def mostWordsFound(self, sentences: List[str]) -> int:\n",
        "        x=0\n",
        "        for i in range(len(sentences)):\n",
        "            x=max(len(sentences[i].split()),x)\n",
        "            \n",
        "        return x"
      ],
      "metadata": {
        "id": "0a37AeuAZVN3"
      },
      "execution_count": null,
      "outputs": []
    }
  ]
}