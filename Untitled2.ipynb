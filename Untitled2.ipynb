{
  "nbformat": 4,
  "nbformat_minor": 0,
  "metadata": {
    "colab": {
      "name": "Untitled2.ipynb",
      "provenance": [],
      "collapsed_sections": [],
      "authorship_tag": "ABX9TyNxqk01Uh7om7ZSJIeyDrMF",
      "include_colab_link": true
    },
    "kernelspec": {
      "name": "python3",
      "display_name": "Python 3"
    },
    "language_info": {
      "name": "python"
    }
  },
  "cells": [
    {
      "cell_type": "markdown",
      "metadata": {
        "id": "view-in-github",
        "colab_type": "text"
      },
      "source": [
        "<a href=\"https://colab.research.google.com/github/max1496/algorithm/blob/master/Untitled2.ipynb\" target=\"_parent\"><img src=\"https://colab.research.google.com/assets/colab-badge.svg\" alt=\"Open In Colab\"/></a>"
      ]
    },
    {
      "cell_type": "code",
      "execution_count": 1,
      "metadata": {
        "colab": {
          "base_uri": "https://localhost:8080/"
        },
        "id": "DKn7gSqDG-AV",
        "outputId": "2b451820-2cdc-4a1b-ee17-917d3987ca41"
      },
      "outputs": [
        {
          "output_type": "stream",
          "name": "stdout",
          "text": [
            "5 8 3\n",
            "2 4 5 4 6\n",
            "46\n"
          ]
        }
      ],
      "source": [
        "n,m,k=map(int,input().split())\n",
        "data= list(map(int, input().split()))\n",
        "\n",
        "data.sort()\n",
        "first= data[-1]\n",
        "second= data[-2]\n",
        "\n",
        "result = 0\n",
        "\n",
        "while True:\n",
        "    for i in range(k):\n",
        "        if m==0:\n",
        "            break\n",
        "        result += first\n",
        "        m-=1\n",
        "    if m==0:\n",
        "        break\n",
        "    result +=second\n",
        "    m-=1\n",
        "\n",
        "print(result)"
      ]
    },
    {
      "cell_type": "markdown",
      "source": [
        "k번 가장큰수를 더하고 2번째로 큰 수를 한번 더하는 문제이다. m번 까지 반복할 것이니 m번째에서 브레이크를 걸어둔다. 이것이 코딩테스트다 책, 93pg내용이다."
      ],
      "metadata": {
        "id": "e7liJ5oT1Iei"
      }
    }
  ]
}