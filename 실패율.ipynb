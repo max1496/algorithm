{
  "nbformat": 4,
  "nbformat_minor": 0,
  "metadata": {
    "colab": {
      "name": "실패율.ipynb",
      "provenance": [],
      "collapsed_sections": [],
      "authorship_tag": "ABX9TyPWFaMjzOCUcHK2JNr/+pmu"
    },
    "kernelspec": {
      "name": "python3",
      "display_name": "Python 3"
    },
    "language_info": {
      "name": "python"
    }
  },
  "cells": [
    {
      "cell_type": "markdown",
      "source": [
        "이중 for문을 이용해서 현재 스테이지별 유저의 스테이지를 탐색해줬다.\n",
        "\n",
        "정렬은 값이 0~1이니 -1로 바꿔가면서 최대값을 찾았다.\n",
        "\n",
        "처음엔 스테이지에 도달했지만 클리어하지 못한 유저들과 스테이지에 도달한 유저들 모두 이중 for문 안에서\n",
        "\n",
        "구하니 시간초과가 3개 나왔다... 그래서 len(stages)를 이용, 실패한 유저씩 빼주면 되더라."
      ],
      "metadata": {
        "id": "90BDzsj2iNMw"
      }
    },
    {
      "cell_type": "code",
      "execution_count": null,
      "metadata": {
        "id": "Ir79JhSQJLy3"
      },
      "outputs": [],
      "source": [
        "def solution(N, stages):\n",
        "    a= []\n",
        "    b=[]\n",
        "    k= len(stages)\n",
        "    \n",
        "    for i in range(N):\n",
        "        c=0     #실패한 유저수 스테이지마다 초기화\n",
        "        for j in range(len(stages)):        #계속 변하는 k로 두지않게 주의\n",
        "            if stages[j]==i+1:      #스테이지에 도달했지만 클리어하지 못한 유저들\n",
        "                c+=1\n",
        "        if c!=0:\n",
        "            a.append(c/k)       #도달한 유저수로 나눠줌\n",
        "        else:       #실패한 유저가 없을때\n",
        "            a.append(0)\n",
        "        k-=c    #스테이지에서 떨어진 유저들을 제외시킴\n",
        "            \n",
        "    for i in range(len(a)):\n",
        "        b.append(a.index(max(a))+1)\n",
        "        a[a.index(max(a))]=-1       #내림차순으로 정렬\n",
        "    return b"
      ]
    }
  ]
}