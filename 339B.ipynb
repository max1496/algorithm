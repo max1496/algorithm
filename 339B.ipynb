{
  "nbformat": 4,
  "nbformat_minor": 0,
  "metadata": {
    "colab": {
      "name": "339B.ipynb",
      "provenance": [],
      "collapsed_sections": [],
      "authorship_tag": "ABX9TyNOUlS8zL6/WXGx/0QooX8V",
      "include_colab_link": true
    },
    "kernelspec": {
      "name": "python3",
      "display_name": "Python 3"
    },
    "language_info": {
      "name": "python"
    }
  },
  "cells": [
    {
      "cell_type": "markdown",
      "metadata": {
        "id": "view-in-github",
        "colab_type": "text"
      },
      "source": [
        "<a href=\"https://colab.research.google.com/github/max1496/algorithm/blob/master/339B.ipynb\" target=\"_parent\"><img src=\"https://colab.research.google.com/assets/colab-badge.svg\" alt=\"Open In Colab\"/></a>"
      ]
    },
    {
      "cell_type": "code",
      "execution_count": 3,
      "metadata": {
        "colab": {
          "base_uri": "https://localhost:8080/"
        },
        "id": "IKegqFeYCtNO",
        "outputId": "2425a44f-830e-4489-be00-e970e626889e"
      },
      "outputs": [
        {
          "output_type": "stream",
          "name": "stdout",
          "text": [
            "4 3\n",
            "2 3 3\n",
            "2\n"
          ]
        }
      ],
      "source": [
        "n,m=map(int,input().split())\n",
        "arr= list(map(int,input().split()))\n",
        "hap=arr[0]-1\n",
        "for i in range(len(arr)-1):\n",
        "    if arr[i]<=arr[i+1]:\n",
        "        hap+=arr[i+1]-arr[i]\n",
        "    else:\n",
        "        hap+=n-arr[i]+arr[i+1]\n",
        "print(hap)"
      ]
    },
    {
      "cell_type": "markdown",
      "source": [
        "먼저 arr의 길이의 -1한만큼 돌린다.(i번째와 i+1번쨰를 비교할 것이기 때문)\n",
        "\n",
        "총 이동을 뜻하는 hap변수를 arr의 i번째 인덱스 값보다 i+1번쨰 값이 같거나 클떄는 그냥 그 차이만큼 더해주면 된다.\n",
        "\n",
        "하지만 반대라면 n-arr[i]만큼 움직인뒤에 arr[i+1]만큼 또 움직여줘야한다."
      ],
      "metadata": {
        "id": "VMuCuJGal-Cp"
      }
    }
  ]
}