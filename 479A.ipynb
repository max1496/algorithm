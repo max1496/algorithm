{
  "nbformat": 4,
  "nbformat_minor": 0,
  "metadata": {
    "colab": {
      "name": "479A.ipynb",
      "provenance": [],
      "collapsed_sections": [],
      "authorship_tag": "ABX9TyORWGiKZbWwIPQMz+5j4Jyq",
      "include_colab_link": true
    },
    "kernelspec": {
      "name": "python3",
      "display_name": "Python 3"
    },
    "language_info": {
      "name": "python"
    }
  },
  "cells": [
    {
      "cell_type": "markdown",
      "metadata": {
        "id": "view-in-github",
        "colab_type": "text"
      },
      "source": [
        "<a href=\"https://colab.research.google.com/github/max1496/algorithm/blob/master/479A.ipynb\" target=\"_parent\"><img src=\"https://colab.research.google.com/assets/colab-badge.svg\" alt=\"Open In Colab\"/></a>"
      ]
    },
    {
      "cell_type": "code",
      "execution_count": 5,
      "metadata": {
        "colab": {
          "base_uri": "https://localhost:8080/"
        },
        "id": "MU84jX-M5mRD",
        "outputId": "ddf25e78-40a5-4229-a456-e229e9adbceb"
      },
      "outputs": [
        {
          "output_type": "stream",
          "name": "stdout",
          "text": [
            "2\n",
            "10\n",
            "3\n",
            "60\n"
          ]
        }
      ],
      "source": [
        "a=int(input())\n",
        "b=int(input())\n",
        "c=int(input())\n",
        "if a==1:\n",
        "    if b==1 and c!=1:\n",
        "        print((a+b)*c)\n",
        "    elif b!=1 and c==1:\n",
        "        print((a+b)+c)\n",
        "    elif b==1 and c==1:\n",
        "        print(a+b+c)\n",
        "    else:\n",
        "        print((a+b)*c)\n",
        "elif b==1:\n",
        "    if a<c:\n",
        "        print((a+b)*c)\n",
        "    else:\n",
        "        print(a*(b+c))\n",
        "elif c==1:\n",
        "    print(a*(b+c))\n",
        "else:\n",
        "    print(a*b*c)"
      ]
    },
    {
      "cell_type": "markdown",
      "source": [
        "a,b,c를 입력받아서 적절하게 +,괄호,*를 추가해 최대로 큰수를 만드는 것이다.\n",
        "\n",
        "보통 a*b*c가 가장 크겠으나, 각 변수가 1일 경우를 전부 예외처리를 해줘야 한다."
      ],
      "metadata": {
        "id": "ckZb8L8sFduV"
      }
    }
  ]
}