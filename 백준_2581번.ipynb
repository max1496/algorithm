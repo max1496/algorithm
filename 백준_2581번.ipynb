{
  "nbformat": 4,
  "nbformat_minor": 0,
  "metadata": {
    "colab": {
      "name": "백준 2581번",
      "provenance": [],
      "collapsed_sections": [],
      "authorship_tag": "ABX9TyNu+0D52rILQ8LVbKSwkHSk",
      "include_colab_link": true
    },
    "kernelspec": {
      "name": "python3",
      "display_name": "Python 3"
    },
    "language_info": {
      "name": "python"
    }
  },
  "cells": [
    {
      "cell_type": "markdown",
      "metadata": {
        "id": "view-in-github",
        "colab_type": "text"
      },
      "source": [
        "<a href=\"https://colab.research.google.com/github/max1496/algorithm/blob/master/%EB%B0%B1%EC%A4%80_2581%EB%B2%88.ipynb\" target=\"_parent\"><img src=\"https://colab.research.google.com/assets/colab-badge.svg\" alt=\"Open In Colab\"/></a>"
      ]
    },
    {
      "cell_type": "code",
      "execution_count": 2,
      "metadata": {
        "colab": {
          "base_uri": "https://localhost:8080/"
        },
        "id": "Sc8Kb5nljJrD",
        "outputId": "6ed3fd23-3bc8-4f75-d2b9-7b1ffe3c2be6"
      },
      "outputs": [
        {
          "output_type": "stream",
          "name": "stdout",
          "text": [
            "60\n",
            "100\n",
            "620\n",
            "61\n"
          ]
        }
      ],
      "source": [
        "a= int(input())\n",
        "b=int(input())\n",
        "arr=[]\n",
        "dp=[1]*(b+1)\n",
        "dp[0]=0\n",
        "dp[1]=0\n",
        "for i in range(2,b+1):\n",
        "    if dp[i]==0:\n",
        "            continue\n",
        "    for j in range(2,b//i+1):\n",
        "        \n",
        "        dp[i*j]=0\n",
        "for p in range(a,b+1):\n",
        "    if dp[p]==1:\n",
        "        arr.append(p)\n",
        "if arr==[]:\n",
        "    print(-1)\n",
        "else:\n",
        "\n",
        "    print(sum(arr))\n",
        "    print(min(arr))"
      ]
    }
  ]
}