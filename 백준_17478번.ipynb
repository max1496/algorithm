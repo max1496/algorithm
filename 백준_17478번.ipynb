{
  "nbformat": 4,
  "nbformat_minor": 0,
  "metadata": {
    "colab": {
      "name": "백준 17478번",
      "provenance": [],
      "collapsed_sections": [],
      "authorship_tag": "ABX9TyNKa36HYsQ/Ycai8a1oQlGi",
      "include_colab_link": true
    },
    "kernelspec": {
      "name": "python3",
      "display_name": "Python 3"
    },
    "language_info": {
      "name": "python"
    }
  },
  "cells": [
    {
      "cell_type": "markdown",
      "metadata": {
        "id": "view-in-github",
        "colab_type": "text"
      },
      "source": [
        "<a href=\"https://colab.research.google.com/github/max1496/algorithm/blob/master/%EB%B0%B1%EC%A4%80_17478%EB%B2%88.ipynb\" target=\"_parent\"><img src=\"https://colab.research.google.com/assets/colab-badge.svg\" alt=\"Open In Colab\"/></a>"
      ]
    },
    {
      "cell_type": "code",
      "execution_count": null,
      "metadata": {
        "id": "ET_yyWS2TDy5"
      },
      "outputs": [],
      "source": [
        "def recursive(n):\n",
        "    print(\"_\"*(4*(a-n))+'\"재귀함수가 뭔가요?\"')\n",
        "\n",
        "    if not n:\n",
        "        print(\"_\" *(4*(a-n))+'\"재귀함수는 자기 자신을 호출하는 함수라네\"')\n",
        "        print(\"_\" *(4*(a-n))+\"라고 답변하였지.\")\n",
        "        return\n",
        "\n",
        "    print(\"_\"*(4*(a-n)) + '\"잘 들어보게. 옛날옛날 한 산 꼭대기에 이세상 모든 지식을 통달한 선인이 있었어.')\n",
        "    print(\"_\"*(4*(a-n)) + \"마을 사람들은 모두 그 선인에게 수많은 질문을 했고, 모두 지혜롭게 대답해 주었지.\")\n",
        "    print(\"_\"*(4*(a-n)) + '그의 답은 대부분 옳았다고 하네. 그런데 어느 날, 그 선인에게 한 선비가 찾아와서 물었어.\"')\n",
        "    recursive(n-1)\n",
        "    print(\"_\"*(4*(a-n)) + \"라고 답변하였지.\")\n",
        "\n",
        "\n",
        "a = int(input())\n",
        "print(\"어느 한 컴퓨터공학과 학생이 유명한 교수님을 찾아가 물었다.\")\n",
        "recursive(a)"
      ]
    },
    {
      "cell_type": "code",
      "source": [],
      "metadata": {
        "id": "lOaWZKcNi2Mp"
      },
      "execution_count": null,
      "outputs": []
    },
    {
      "cell_type": "code",
      "source": [],
      "metadata": {
        "id": "VjM5WVB6i2RE"
      },
      "execution_count": null,
      "outputs": []
    }
  ]
}