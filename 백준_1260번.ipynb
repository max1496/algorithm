{
  "nbformat": 4,
  "nbformat_minor": 0,
  "metadata": {
    "colab": {
      "name": "백준 1260번",
      "provenance": [],
      "collapsed_sections": [],
      "authorship_tag": "ABX9TyOLWipPenYj8se4RwvM2G7C",
      "include_colab_link": true
    },
    "kernelspec": {
      "name": "python3",
      "display_name": "Python 3"
    },
    "language_info": {
      "name": "python"
    }
  },
  "cells": [
    {
      "cell_type": "markdown",
      "metadata": {
        "id": "view-in-github",
        "colab_type": "text"
      },
      "source": [
        "<a href=\"https://colab.research.google.com/github/max1496/algorithm/blob/master/%EB%B0%B1%EC%A4%80_1260%EB%B2%88.ipynb\" target=\"_parent\"><img src=\"https://colab.research.google.com/assets/colab-badge.svg\" alt=\"Open In Colab\"/></a>"
      ]
    },
    {
      "cell_type": "code",
      "execution_count": null,
      "metadata": {
        "id": "9fBuNb3vjGVN"
      },
      "outputs": [],
      "source": [
        "from collections import deque\n",
        "n,k,s=map(int,input().split())\n",
        "arr=[[] for t in range(n+1)]\n",
        "for _ in range(k):\n",
        "    a,b=map(int,input().split())\n",
        "    arr[a].append(b)\n",
        "    arr[b].append(a)\n",
        "visited=[0]*(n+1)\n",
        "visited2=[0]*(n+1)\n",
        "def dfs(st):\n",
        "    visited[st]=1\n",
        "    print(st,end=\" \")\n",
        "    arr[st].sort()\n",
        "    for i in arr[st]:\n",
        "        if visited[i]==0:\n",
        "            dfs(i)\n",
        "\n",
        "def bfs(sta):\n",
        "    visited2[sta]=1\n",
        "    queue = deque()\n",
        "    queue.append(sta)\n",
        "    while queue:\n",
        "        w=queue.pop()\n",
        "        print(w,end=\" \")\n",
        "        arr[w].sort()\n",
        "        for j in arr[w]:\n",
        "            if visited2[j]==0:\n",
        "                queue.appendleft(j)\n",
        "                visited2[j]=1\n",
        "dfs(s)\n",
        "print()\n",
        "bfs(s)"
      ]
    }
  ]
}