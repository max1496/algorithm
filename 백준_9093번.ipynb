{
  "nbformat": 4,
  "nbformat_minor": 0,
  "metadata": {
    "colab": {
      "name": "백준 9093번",
      "provenance": [],
      "collapsed_sections": [],
      "authorship_tag": "ABX9TyM+gsYghczHV3OG5P7YGx0r",
      "include_colab_link": true
    },
    "kernelspec": {
      "name": "python3",
      "display_name": "Python 3"
    },
    "language_info": {
      "name": "python"
    }
  },
  "cells": [
    {
      "cell_type": "markdown",
      "metadata": {
        "id": "view-in-github",
        "colab_type": "text"
      },
      "source": [
        "<a href=\"https://colab.research.google.com/github/max1496/algorithm/blob/master/%EB%B0%B1%EC%A4%80_9093%EB%B2%88.ipynb\" target=\"_parent\"><img src=\"https://colab.research.google.com/assets/colab-badge.svg\" alt=\"Open In Colab\"/></a>"
      ]
    },
    {
      "cell_type": "code",
      "execution_count": 1,
      "metadata": {
        "colab": {
          "base_uri": "https://localhost:8080/"
        },
        "id": "JgExUVTlFOum",
        "outputId": "b2e6d427-9bfb-4cfb-fd59-d456550d24da"
      },
      "outputs": [
        {
          "output_type": "stream",
          "name": "stdout",
          "text": [
            "1\n",
            "I am happy today\n",
            "['I', ' ', 'a', 'm', ' ', 'h', 'a', 'p', 'p', 'y', ' ', 't', 'o', 'd', 'a', 'y']\n"
          ]
        }
      ],
      "source": [
        "t= int(input())\n",
        "for _ in range(t):\n",
        "    n= list(input().split())\n",
        "    for i in n:\n",
        "        print(i[::-1], end = \" \")"
      ]
    }
  ]
}