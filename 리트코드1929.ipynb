{
  "nbformat": 4,
  "nbformat_minor": 0,
  "metadata": {
    "colab": {
      "name": "리트코드1929.ipynb",
      "provenance": [],
      "collapsed_sections": [],
      "authorship_tag": "ABX9TyPJF5AXSp+y8pTqsmN8ZO6F",
      "include_colab_link": true
    },
    "kernelspec": {
      "name": "python3",
      "display_name": "Python 3"
    },
    "language_info": {
      "name": "python"
    }
  },
  "cells": [
    {
      "cell_type": "markdown",
      "metadata": {
        "id": "view-in-github",
        "colab_type": "text"
      },
      "source": [
        "<a href=\"https://colab.research.google.com/github/max1496/algorithm/blob/master/%EB%A6%AC%ED%8A%B8%EC%BD%94%EB%93%9C1929.ipynb\" target=\"_parent\"><img src=\"https://colab.research.google.com/assets/colab-badge.svg\" alt=\"Open In Colab\"/></a>"
      ]
    },
    {
      "cell_type": "markdown",
      "source": [
        "단순히 배열을 두배로 늘려주는 문제. 지금보니 젤 쉬운문제.. "
      ],
      "metadata": {
        "id": "oCRTv5QrwnbD"
      }
    },
    {
      "cell_type": "code",
      "source": [
        "class Solution:\n",
        "    def getConcatenation(self, nums: List[int]) -> List[int]:\n",
        "        return nums+nums  #nums*2"
      ],
      "metadata": {
        "id": "XyVkw6Gdwonq"
      },
      "execution_count": null,
      "outputs": []
    },
    {
      "cell_type": "markdown",
      "source": [
        "스위프트 풀이"
      ],
      "metadata": {
        "id": "mj6pjSdjwsJB"
      }
    },
    {
      "cell_type": "markdown",
      "source": [
        "class Solution {\n",
        "    func getConcatenation(_ nums: [Int]) -> [Int] {\n",
        "        var a = nums    //let으로 선언된 nums는 수정불가 하기 때문에 a라는 배열에 담음\n",
        "        return a+a    //a*2는 스위프트에서 지원 안함\n",
        "    }\n",
        "}"
      ],
      "metadata": {
        "id": "8hXjpYR3wuTR"
      }
    }
  ]
}