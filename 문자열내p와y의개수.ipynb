{
  "nbformat": 4,
  "nbformat_minor": 0,
  "metadata": {
    "colab": {
      "name": "문자열내p와y의개수.ipynb",
      "provenance": [],
      "collapsed_sections": [],
      "authorship_tag": "ABX9TyPEhSFQ33arrrX77zq6x4gN"
    },
    "kernelspec": {
      "name": "python3",
      "display_name": "Python 3"
    },
    "language_info": {
      "name": "python"
    }
  },
  "cells": [
    {
      "cell_type": "markdown",
      "source": [
        "소문자로 만들어주고 p와 y의 개수를 비교해줬다."
      ],
      "metadata": {
        "id": "NJPo6OTXSTUi"
      }
    },
    {
      "cell_type": "code",
      "execution_count": null,
      "metadata": {
        "id": "TJRPsdHqSS2X"
      },
      "outputs": [],
      "source": [
        "def solution(s):\n",
        "    s=s.lower()     #s를 전부 소문자로\n",
        "    if s.count(\"p\")==s.count(\"y\"):      #p와 y의 개수가 같을 때\n",
        "        return True\n",
        "    else:\n",
        "        return False"
      ]
    }
  ]
}