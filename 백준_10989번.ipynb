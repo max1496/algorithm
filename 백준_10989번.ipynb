{
  "nbformat": 4,
  "nbformat_minor": 0,
  "metadata": {
    "colab": {
      "name": "백준 10989번",
      "provenance": [],
      "collapsed_sections": [],
      "authorship_tag": "ABX9TyMXFiULxG7SCj+KWcs3AL+C",
      "include_colab_link": true
    },
    "kernelspec": {
      "name": "python3",
      "display_name": "Python 3"
    },
    "language_info": {
      "name": "python"
    }
  },
  "cells": [
    {
      "cell_type": "markdown",
      "metadata": {
        "id": "view-in-github",
        "colab_type": "text"
      },
      "source": [
        "<a href=\"https://colab.research.google.com/github/max1496/algorithm/blob/master/%EB%B0%B1%EC%A4%80_10989%EB%B2%88.ipynb\" target=\"_parent\"><img src=\"https://colab.research.google.com/assets/colab-badge.svg\" alt=\"Open In Colab\"/></a>"
      ]
    },
    {
      "cell_type": "code",
      "execution_count": null,
      "metadata": {
        "id": "V4tkQRV_Z7Bn"
      },
      "outputs": [],
      "source": [
        "import sys\n",
        "n = int(sys.stdin.readline())\n",
        "a=[0]*10001\n",
        "for i in range(n):\n",
        "    a[int(sys.stdin.readline())]+=1\n",
        "for j in range(10001):\n",
        "    if a[j] !=0:\n",
        "        for k in range(a[j]):\n",
        "            print(j)"
      ]
    }
  ]
}