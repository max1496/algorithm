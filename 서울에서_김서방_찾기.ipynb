{
  "nbformat": 4,
  "nbformat_minor": 0,
  "metadata": {
    "colab": {
      "name": "서울에서 김서방 찾기.ipynb",
      "provenance": [],
      "collapsed_sections": [],
      "authorship_tag": "ABX9TyPlVPW52zE+FbJLUjS2XP0g"
    },
    "kernelspec": {
      "name": "python3",
      "display_name": "Python 3"
    },
    "language_info": {
      "name": "python"
    }
  },
  "cells": [
    {
      "cell_type": "markdown",
      "source": [
        "문자열 합치는게 쉬운거지만 개인적으로 생각이 안났던 문제... "
      ],
      "metadata": {
        "id": "h4MBjGwti_0j"
      }
    },
    {
      "cell_type": "code",
      "execution_count": null,
      "metadata": {
        "id": "4CJ8y_p3ojiK"
      },
      "outputs": [],
      "source": [
        "def solution(seoul):\n",
        "    answer = ''\n",
        "    a=0\n",
        "    for i in range(len(seoul)):\n",
        "        if seoul[i] == \"Kim\":\n",
        "            a=i\n",
        "    answer = \"김서방은 \" + str(a) + \"에 있다\"\n",
        "    return answer"
      ]
    }
  ]
}