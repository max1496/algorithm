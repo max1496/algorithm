{
  "nbformat": 4,
  "nbformat_minor": 0,
  "metadata": {
    "colab": {
      "name": "백준 9654번",
      "provenance": [],
      "collapsed_sections": [],
      "authorship_tag": "ABX9TyM4/SHlZED7iaUn1Mln2gRk",
      "include_colab_link": true
    },
    "kernelspec": {
      "name": "python3",
      "display_name": "Python 3"
    },
    "language_info": {
      "name": "python"
    }
  },
  "cells": [
    {
      "cell_type": "markdown",
      "metadata": {
        "id": "view-in-github",
        "colab_type": "text"
      },
      "source": [
        "<a href=\"https://colab.research.google.com/github/max1496/algorithm/blob/master/%EB%B0%B1%EC%A4%80_9654%EB%B2%88.ipynb\" target=\"_parent\"><img src=\"https://colab.research.google.com/assets/colab-badge.svg\" alt=\"Open In Colab\"/></a>"
      ]
    },
    {
      "cell_type": "code",
      "execution_count": null,
      "metadata": {
        "id": "GRseBL0ySEpK"
      },
      "outputs": [],
      "source": [
        "print(\"SHIP NAME      CLASS          DEPLOYMENT IN SERVICE\")\n",
        "print(\"N2 Bomber      Heavy Fighter  Limited    21        \")\n",
        "print(\"J-Type 327     Light Combat   Unlimited  1         \")  \n",
        "print(\"NX Cruiser     Medium Fighter Limited    18        \")    \n",
        "print(\"N1 Starfighter Medium Fighter Unlimited  25        \")      \n",
        "print(\"Royal Cruiser  Light Combat   Limited    4         \")"
      ]
    }
  ]
}