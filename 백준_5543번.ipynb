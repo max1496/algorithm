{
  "nbformat": 4,
  "nbformat_minor": 0,
  "metadata": {
    "colab": {
      "name": "백준 5543번",
      "provenance": [],
      "collapsed_sections": [],
      "authorship_tag": "ABX9TyMb29jkMySoGC6Gn/Vg1jYC",
      "include_colab_link": true
    },
    "kernelspec": {
      "name": "python3",
      "display_name": "Python 3"
    },
    "language_info": {
      "name": "python"
    }
  },
  "cells": [
    {
      "cell_type": "markdown",
      "metadata": {
        "id": "view-in-github",
        "colab_type": "text"
      },
      "source": [
        "<a href=\"https://colab.research.google.com/github/max1496/algorithm/blob/master/%EB%B0%B1%EC%A4%80_5543%EB%B2%88.ipynb\" target=\"_parent\"><img src=\"https://colab.research.google.com/assets/colab-badge.svg\" alt=\"Open In Colab\"/></a>"
      ]
    },
    {
      "cell_type": "code",
      "execution_count": 2,
      "metadata": {
        "colab": {
          "base_uri": "https://localhost:8080/"
        },
        "id": "Gib_NcmK9qUu",
        "outputId": "6393d9a6-6c7e-433c-f437-8ce458be2999"
      },
      "outputs": [
        {
          "output_type": "stream",
          "name": "stdout",
          "text": [
            "800\n",
            "700\n",
            "900\n",
            "198\n",
            "199\n",
            "848\n"
          ]
        }
      ],
      "source": [
        "a=[]\n",
        "b=[]\n",
        "for _ in range(3):\n",
        "    a.append(int(input()))\n",
        "for i in range(2):\n",
        "    b.append(int(input()))\n",
        "print(min(a)+min(b)-50)"
      ]
    }
  ]
}