{
  "nbformat": 4,
  "nbformat_minor": 0,
  "metadata": {
    "colab": {
      "name": "백준 10798번",
      "provenance": [],
      "collapsed_sections": [],
      "authorship_tag": "ABX9TyMN7J0CjKqeyRtR+ZIEdU69",
      "include_colab_link": true
    },
    "kernelspec": {
      "name": "python3",
      "display_name": "Python 3"
    },
    "language_info": {
      "name": "python"
    }
  },
  "cells": [
    {
      "cell_type": "markdown",
      "metadata": {
        "id": "view-in-github",
        "colab_type": "text"
      },
      "source": [
        "<a href=\"https://colab.research.google.com/github/max1496/algorithm/blob/master/%EB%B0%B1%EC%A4%80_10798%EB%B2%88.ipynb\" target=\"_parent\"><img src=\"https://colab.research.google.com/assets/colab-badge.svg\" alt=\"Open In Colab\"/></a>"
      ]
    },
    {
      "cell_type": "code",
      "execution_count": 6,
      "metadata": {
        "colab": {
          "base_uri": "https://localhost:8080/"
        },
        "id": "XYWkBGbb_Gmz",
        "outputId": "b66d95c5-1d05-4db6-b936-23b095061a18"
      },
      "outputs": [
        {
          "output_type": "stream",
          "name": "stdout",
          "text": [
            "ABCDE\n",
            "['A', 'B', 'C', 'D', 'E']\n",
            "ABCDE\n",
            "['A', 'B', 'C', 'D', 'E']\n",
            "ABCDE\n",
            "['A', 'B', 'C', 'D', 'E']\n",
            "\n",
            "[]\n",
            "ABCDE\n",
            "['A', 'B', 'C', 'D', 'E']\n",
            "AAAABBBBCCCCDDDDEEEE"
          ]
        }
      ],
      "source": [
        "a=[[0]*15 for _ in range(5)]\n",
        "for i in range(5):\n",
        "    b= list(input())\n",
        "    for j in range(len(b)):\n",
        "        a[i][j]=b[j]\n",
        "for k in range(15):\n",
        "    for m in range(5):\n",
        "        if a[m][k]==0:\n",
        "            continue\n",
        "        else:\n",
        "            print(a[m][k], end=\"\")"
      ]
    }
  ]
}