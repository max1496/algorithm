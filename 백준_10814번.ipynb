{
  "nbformat": 4,
  "nbformat_minor": 0,
  "metadata": {
    "colab": {
      "name": "백준 10814번",
      "provenance": [],
      "collapsed_sections": [],
      "authorship_tag": "ABX9TyNzlv07EThXDc2C6FfRyNju",
      "include_colab_link": true
    },
    "kernelspec": {
      "name": "python3",
      "display_name": "Python 3"
    },
    "language_info": {
      "name": "python"
    }
  },
  "cells": [
    {
      "cell_type": "markdown",
      "metadata": {
        "id": "view-in-github",
        "colab_type": "text"
      },
      "source": [
        "<a href=\"https://colab.research.google.com/github/max1496/algorithm/blob/master/%EB%B0%B1%EC%A4%80_10814%EB%B2%88.ipynb\" target=\"_parent\"><img src=\"https://colab.research.google.com/assets/colab-badge.svg\" alt=\"Open In Colab\"/></a>"
      ]
    },
    {
      "cell_type": "code",
      "execution_count": 3,
      "metadata": {
        "colab": {
          "base_uri": "https://localhost:8080/"
        },
        "id": "TVIpRpQFtU50",
        "outputId": "88e1c27d-9d62-4152-c270-2356e771e351"
      },
      "outputs": [
        {
          "output_type": "stream",
          "name": "stdout",
          "text": [
            "3\n",
            "21 Junkyu\n",
            "21 Dohyun\n",
            "20 Sunyoung\n",
            "20 Sunyoung\n",
            "21 Junkyu\n",
            "21 Dohyun\n"
          ]
        }
      ],
      "source": [
        "# n= int(input())\n",
        "# a=[]\n",
        "# for i in range(n):\n",
        "#     a.append(list(map(str, input().split())))\n",
        "#     a[i].append(i)\n",
        "# a.sort(key = lambda x: (x[0],x[2]))\n",
        "# for j in range(n):\n",
        "#     print(int(a[j][0]),a[j][1])\n",
        "\n",
        "n= int(input())\n",
        "a=[]\n",
        "for i in range(n):\n",
        "    a.append(list(map(str, input().split())))\n",
        "    a[i][0]=int(a[i][0])\n",
        "a.sort(key= lambda x: x[0])\n",
        "for j in range(n):\n",
        "    print(a[j][0],a[j][1])"
      ]
    }
  ]
}