{
  "nbformat": 4,
  "nbformat_minor": 0,
  "metadata": {
    "colab": {
      "name": "백준1920.ipynb",
      "provenance": [],
      "collapsed_sections": [],
      "authorship_tag": "ABX9TyN088nD3s6DqsGIydTI3BjL",
      "include_colab_link": true
    },
    "kernelspec": {
      "name": "python3",
      "display_name": "Python 3"
    },
    "language_info": {
      "name": "python"
    }
  },
  "cells": [
    {
      "cell_type": "markdown",
      "metadata": {
        "id": "view-in-github",
        "colab_type": "text"
      },
      "source": [
        "<a href=\"https://colab.research.google.com/github/max1496/algorithm/blob/master/%EB%B0%B1%EC%A4%801920.ipynb\" target=\"_parent\"><img src=\"https://colab.research.google.com/assets/colab-badge.svg\" alt=\"Open In Colab\"/></a>"
      ]
    },
    {
      "cell_type": "code",
      "execution_count": null,
      "metadata": {
        "id": "_RqMPa-g92HS"
      },
      "outputs": [],
      "source": [
        "def binary_search(arr,target,start,end):\n",
        "    while start<=end:\n",
        "        mid=(start+end)//2\n",
        "        if arr[mid]==target:\n",
        "            return 1\n",
        "        elif arr[mid]>target:\n",
        "            end = mid-1\n",
        "        else:\n",
        "            start=mid+1\n",
        "    return 0\n",
        "\n",
        "n=int(input())\n",
        "a = list(map(int, input().split()))\n",
        "a.sort()\n",
        "m=int(input())\n",
        "b=list(map(int,input().split()))\n",
        "\n",
        "for i in b:\n",
        "    print(binary_search(a,i,0,n-1))\n"
      ]
    },
    {
      "cell_type": "markdown",
      "source": [
        "이분탐색을 할 줄 아냐는 문제...\n",
        "\n",
        "나동빈 님의 \"이것이 코딩 테스트다\"를 참조하여 코딩했습니다."
      ],
      "metadata": {
        "id": "0kVxzpS3qODw"
      }
    }
  ]
}