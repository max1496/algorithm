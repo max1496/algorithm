{
  "nbformat": 4,
  "nbformat_minor": 0,
  "metadata": {
    "colab": {
      "name": "백준 9663번",
      "provenance": [],
      "collapsed_sections": [],
      "authorship_tag": "ABX9TyN5Sgkn/hLIngEtwfwTaZfh",
      "include_colab_link": true
    },
    "kernelspec": {
      "name": "python3",
      "display_name": "Python 3"
    },
    "language_info": {
      "name": "python"
    }
  },
  "cells": [
    {
      "cell_type": "markdown",
      "metadata": {
        "id": "view-in-github",
        "colab_type": "text"
      },
      "source": [
        "<a href=\"https://colab.research.google.com/github/max1496/algorithm/blob/master/%EB%B0%B1%EC%A4%80_9663%EB%B2%88.ipynb\" target=\"_parent\"><img src=\"https://colab.research.google.com/assets/colab-badge.svg\" alt=\"Open In Colab\"/></a>"
      ]
    },
    {
      "cell_type": "code",
      "execution_count": null,
      "metadata": {
        "id": "WOX78kJbNL0A"
      },
      "outputs": [],
      "source": [
        "def dis(x):\n",
        "    for i in range(x):\n",
        "        if row[i]==row[x] or abs(row[i]-row[x])==abs(x-i):\n",
        "            return False\n",
        "    return True\n",
        "\n",
        "def sol(x):\n",
        "    global cnt\n",
        "    if x==n:\n",
        "        cnt+=1\n",
        "        return\n",
        "    else:\n",
        "        for i in range(n):\n",
        "            #퀸의 위치 = (x,i)\n",
        "            row[x]=i\n",
        "            if dis(x):\n",
        "                sol(x+1)\n",
        "\n",
        "n=int(input())\n",
        "row=[0]*n\n",
        "cnt=0\n",
        "sol(0)\n",
        "print(cnt)"
      ]
    }
  ]
}